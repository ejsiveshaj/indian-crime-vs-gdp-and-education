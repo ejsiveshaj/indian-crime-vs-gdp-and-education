{
 "cells": [
  {
   "cell_type": "code",
   "execution_count": 1,
   "metadata": {},
   "outputs": [],
   "source": [
    "import pandas as pd\n",
    "import numpy as np\n",
    "import plotly.express as px"
   ]
  },
  {
   "cell_type": "code",
   "execution_count": 2,
   "metadata": {},
   "outputs": [],
   "source": [
    "crime_dataset = pd.read_csv('../datasets folder/dstrIPC_1.csv')\n",
    "gdp_dataset = pd.read_csv('../datasets folder/Districtwise_GDP_and_growth_rate_based_at_current_price_2004-05_AndhraPradesh_1.csv')\n",
    "education_dataset = pd.read_csv('../datasets folder/Educational_standard_of_inmates.csv')"
   ]
  },
  {
   "cell_type": "code",
   "execution_count": 3,
   "metadata": {},
   "outputs": [
    {
     "data": {
      "text/html": [
       "<div>\n",
       "<style scoped>\n",
       "    .dataframe tbody tr th:only-of-type {\n",
       "        vertical-align: middle;\n",
       "    }\n",
       "\n",
       "    .dataframe tbody tr th {\n",
       "        vertical-align: top;\n",
       "    }\n",
       "\n",
       "    .dataframe thead th {\n",
       "        text-align: right;\n",
       "    }\n",
       "</style>\n",
       "<table border=\"1\" class=\"dataframe\">\n",
       "  <thead>\n",
       "    <tr style=\"text-align: right;\">\n",
       "      <th></th>\n",
       "      <th>STATE/UT</th>\n",
       "      <th>DISTRICT</th>\n",
       "      <th>YEAR</th>\n",
       "      <th>MURDER</th>\n",
       "      <th>ATTEMPT TO MURDER</th>\n",
       "      <th>CULPABLE HOMICIDE NOT AMOUNTING TO MURDER</th>\n",
       "      <th>RAPE</th>\n",
       "      <th>CUSTODIAL RAPE</th>\n",
       "      <th>OTHER RAPE</th>\n",
       "      <th>KIDNAPPING &amp; ABDUCTION</th>\n",
       "      <th>...</th>\n",
       "      <th>ARSON</th>\n",
       "      <th>HURT/GREVIOUS HURT</th>\n",
       "      <th>DOWRY DEATHS</th>\n",
       "      <th>ASSAULT ON WOMEN WITH INTENT TO OUTRAGE HER MODESTY</th>\n",
       "      <th>INSULT TO MODESTY OF WOMEN</th>\n",
       "      <th>CRUELTY BY HUSBAND OR HIS RELATIVES</th>\n",
       "      <th>IMPORTATION OF GIRLS FROM FOREIGN COUNTRIES</th>\n",
       "      <th>CAUSING DEATH BY NEGLIGENCE</th>\n",
       "      <th>OTHER IPC CRIMES</th>\n",
       "      <th>TOTAL IPC CRIMES</th>\n",
       "    </tr>\n",
       "  </thead>\n",
       "  <tbody>\n",
       "    <tr>\n",
       "      <th>0</th>\n",
       "      <td>ANDHRA PRADESH</td>\n",
       "      <td>ADILABAD</td>\n",
       "      <td>2001</td>\n",
       "      <td>101</td>\n",
       "      <td>60</td>\n",
       "      <td>17</td>\n",
       "      <td>50</td>\n",
       "      <td>0</td>\n",
       "      <td>50</td>\n",
       "      <td>46</td>\n",
       "      <td>...</td>\n",
       "      <td>30</td>\n",
       "      <td>1131</td>\n",
       "      <td>16</td>\n",
       "      <td>149</td>\n",
       "      <td>34</td>\n",
       "      <td>175</td>\n",
       "      <td>0</td>\n",
       "      <td>181</td>\n",
       "      <td>1518</td>\n",
       "      <td>4154</td>\n",
       "    </tr>\n",
       "    <tr>\n",
       "      <th>1</th>\n",
       "      <td>ANDHRA PRADESH</td>\n",
       "      <td>ANANTAPUR</td>\n",
       "      <td>2001</td>\n",
       "      <td>151</td>\n",
       "      <td>125</td>\n",
       "      <td>1</td>\n",
       "      <td>23</td>\n",
       "      <td>0</td>\n",
       "      <td>23</td>\n",
       "      <td>53</td>\n",
       "      <td>...</td>\n",
       "      <td>69</td>\n",
       "      <td>1543</td>\n",
       "      <td>7</td>\n",
       "      <td>118</td>\n",
       "      <td>24</td>\n",
       "      <td>154</td>\n",
       "      <td>0</td>\n",
       "      <td>270</td>\n",
       "      <td>754</td>\n",
       "      <td>4125</td>\n",
       "    </tr>\n",
       "    <tr>\n",
       "      <th>2</th>\n",
       "      <td>ANDHRA PRADESH</td>\n",
       "      <td>CHITTOOR</td>\n",
       "      <td>2001</td>\n",
       "      <td>101</td>\n",
       "      <td>57</td>\n",
       "      <td>2</td>\n",
       "      <td>27</td>\n",
       "      <td>0</td>\n",
       "      <td>27</td>\n",
       "      <td>59</td>\n",
       "      <td>...</td>\n",
       "      <td>38</td>\n",
       "      <td>2088</td>\n",
       "      <td>14</td>\n",
       "      <td>112</td>\n",
       "      <td>83</td>\n",
       "      <td>186</td>\n",
       "      <td>0</td>\n",
       "      <td>404</td>\n",
       "      <td>1262</td>\n",
       "      <td>5818</td>\n",
       "    </tr>\n",
       "    <tr>\n",
       "      <th>3</th>\n",
       "      <td>ANDHRA PRADESH</td>\n",
       "      <td>CUDDAPAH</td>\n",
       "      <td>2001</td>\n",
       "      <td>80</td>\n",
       "      <td>53</td>\n",
       "      <td>1</td>\n",
       "      <td>20</td>\n",
       "      <td>0</td>\n",
       "      <td>20</td>\n",
       "      <td>25</td>\n",
       "      <td>...</td>\n",
       "      <td>23</td>\n",
       "      <td>795</td>\n",
       "      <td>17</td>\n",
       "      <td>126</td>\n",
       "      <td>38</td>\n",
       "      <td>57</td>\n",
       "      <td>0</td>\n",
       "      <td>233</td>\n",
       "      <td>1181</td>\n",
       "      <td>3140</td>\n",
       "    </tr>\n",
       "    <tr>\n",
       "      <th>4</th>\n",
       "      <td>ANDHRA PRADESH</td>\n",
       "      <td>EAST GODAVARI</td>\n",
       "      <td>2001</td>\n",
       "      <td>82</td>\n",
       "      <td>67</td>\n",
       "      <td>1</td>\n",
       "      <td>23</td>\n",
       "      <td>0</td>\n",
       "      <td>23</td>\n",
       "      <td>49</td>\n",
       "      <td>...</td>\n",
       "      <td>41</td>\n",
       "      <td>1244</td>\n",
       "      <td>12</td>\n",
       "      <td>109</td>\n",
       "      <td>58</td>\n",
       "      <td>247</td>\n",
       "      <td>0</td>\n",
       "      <td>431</td>\n",
       "      <td>2313</td>\n",
       "      <td>6507</td>\n",
       "    </tr>\n",
       "  </tbody>\n",
       "</table>\n",
       "<p>5 rows × 33 columns</p>\n",
       "</div>"
      ],
      "text/plain": [
       "         STATE/UT       DISTRICT  YEAR  MURDER  ATTEMPT TO MURDER  \\\n",
       "0  ANDHRA PRADESH       ADILABAD  2001     101                 60   \n",
       "1  ANDHRA PRADESH      ANANTAPUR  2001     151                125   \n",
       "2  ANDHRA PRADESH       CHITTOOR  2001     101                 57   \n",
       "3  ANDHRA PRADESH       CUDDAPAH  2001      80                 53   \n",
       "4  ANDHRA PRADESH  EAST GODAVARI  2001      82                 67   \n",
       "\n",
       "   CULPABLE HOMICIDE NOT AMOUNTING TO MURDER  RAPE  CUSTODIAL RAPE  \\\n",
       "0                                         17    50               0   \n",
       "1                                          1    23               0   \n",
       "2                                          2    27               0   \n",
       "3                                          1    20               0   \n",
       "4                                          1    23               0   \n",
       "\n",
       "   OTHER RAPE  KIDNAPPING & ABDUCTION  ...  ARSON  HURT/GREVIOUS HURT  \\\n",
       "0          50                      46  ...     30                1131   \n",
       "1          23                      53  ...     69                1543   \n",
       "2          27                      59  ...     38                2088   \n",
       "3          20                      25  ...     23                 795   \n",
       "4          23                      49  ...     41                1244   \n",
       "\n",
       "   DOWRY DEATHS  ASSAULT ON WOMEN WITH INTENT TO OUTRAGE HER MODESTY  \\\n",
       "0            16                                                149     \n",
       "1             7                                                118     \n",
       "2            14                                                112     \n",
       "3            17                                                126     \n",
       "4            12                                                109     \n",
       "\n",
       "   INSULT TO MODESTY OF WOMEN  CRUELTY BY HUSBAND OR HIS RELATIVES  \\\n",
       "0                          34                                  175   \n",
       "1                          24                                  154   \n",
       "2                          83                                  186   \n",
       "3                          38                                   57   \n",
       "4                          58                                  247   \n",
       "\n",
       "   IMPORTATION OF GIRLS FROM FOREIGN COUNTRIES  CAUSING DEATH BY NEGLIGENCE  \\\n",
       "0                                            0                          181   \n",
       "1                                            0                          270   \n",
       "2                                            0                          404   \n",
       "3                                            0                          233   \n",
       "4                                            0                          431   \n",
       "\n",
       "   OTHER IPC CRIMES  TOTAL IPC CRIMES  \n",
       "0              1518              4154  \n",
       "1               754              4125  \n",
       "2              1262              5818  \n",
       "3              1181              3140  \n",
       "4              2313              6507  \n",
       "\n",
       "[5 rows x 33 columns]"
      ]
     },
     "execution_count": 3,
     "metadata": {},
     "output_type": "execute_result"
    }
   ],
   "source": [
    "crime_dataset.head()"
   ]
  },
  {
   "cell_type": "code",
   "execution_count": 4,
   "metadata": {},
   "outputs": [
    {
     "data": {
      "text/html": [
       "<div>\n",
       "<style scoped>\n",
       "    .dataframe tbody tr th:only-of-type {\n",
       "        vertical-align: middle;\n",
       "    }\n",
       "\n",
       "    .dataframe tbody tr th {\n",
       "        vertical-align: top;\n",
       "    }\n",
       "\n",
       "    .dataframe thead th {\n",
       "        text-align: right;\n",
       "    }\n",
       "</style>\n",
       "<table border=\"1\" class=\"dataframe\">\n",
       "  <thead>\n",
       "    <tr style=\"text-align: right;\">\n",
       "      <th></th>\n",
       "      <th>Year</th>\n",
       "      <th>Description</th>\n",
       "      <th>Adilabad</th>\n",
       "      <th>Anantapur</th>\n",
       "      <th>Chittoor</th>\n",
       "      <th>Godavari East</th>\n",
       "      <th>Godavari West</th>\n",
       "      <th>Guntur</th>\n",
       "      <th>Hyderabad</th>\n",
       "      <th>Kadapa</th>\n",
       "      <th>...</th>\n",
       "      <th>Medak</th>\n",
       "      <th>Nalgonda</th>\n",
       "      <th>Nellore</th>\n",
       "      <th>Nizambad</th>\n",
       "      <th>Prakasam</th>\n",
       "      <th>Rangareddy</th>\n",
       "      <th>Srikakulam</th>\n",
       "      <th>Visakapatnam</th>\n",
       "      <th>Vizianagaram</th>\n",
       "      <th>Warangal</th>\n",
       "    </tr>\n",
       "  </thead>\n",
       "  <tbody>\n",
       "    <tr>\n",
       "      <th>0</th>\n",
       "      <td>2004-05</td>\n",
       "      <td>GDP (in Rs. Cr.)</td>\n",
       "      <td>6527.41</td>\n",
       "      <td>9286.21</td>\n",
       "      <td>9048.39</td>\n",
       "      <td>17289.90</td>\n",
       "      <td>12704.42</td>\n",
       "      <td>11878.60</td>\n",
       "      <td>16932.79</td>\n",
       "      <td>6287.94</td>\n",
       "      <td>...</td>\n",
       "      <td>8906.57</td>\n",
       "      <td>7658.54</td>\n",
       "      <td>7612.73</td>\n",
       "      <td>4869.16</td>\n",
       "      <td>8507.54</td>\n",
       "      <td>13310.46</td>\n",
       "      <td>5059.99</td>\n",
       "      <td>19371.01</td>\n",
       "      <td>4988.90</td>\n",
       "      <td>7349.51</td>\n",
       "    </tr>\n",
       "    <tr>\n",
       "      <th>1</th>\n",
       "      <td>2005-06</td>\n",
       "      <td>GDP (in Rs. Cr.)</td>\n",
       "      <td>7058.60</td>\n",
       "      <td>10047.71</td>\n",
       "      <td>10390.13</td>\n",
       "      <td>16827.15</td>\n",
       "      <td>12791.82</td>\n",
       "      <td>14374.44</td>\n",
       "      <td>20523.91</td>\n",
       "      <td>7050.27</td>\n",
       "      <td>...</td>\n",
       "      <td>10613.40</td>\n",
       "      <td>9047.11</td>\n",
       "      <td>8607.98</td>\n",
       "      <td>5940.28</td>\n",
       "      <td>9959.52</td>\n",
       "      <td>17377.63</td>\n",
       "      <td>5570.88</td>\n",
       "      <td>20497.10</td>\n",
       "      <td>5315.09</td>\n",
       "      <td>8530.56</td>\n",
       "    </tr>\n",
       "    <tr>\n",
       "      <th>2</th>\n",
       "      <td>2006-07</td>\n",
       "      <td>GDP (in Rs. Cr.)</td>\n",
       "      <td>8300.56</td>\n",
       "      <td>11252.83</td>\n",
       "      <td>11594.82</td>\n",
       "      <td>20208.88</td>\n",
       "      <td>14156.37</td>\n",
       "      <td>16183.82</td>\n",
       "      <td>25016.85</td>\n",
       "      <td>12448.79</td>\n",
       "      <td>...</td>\n",
       "      <td>13879.77</td>\n",
       "      <td>10423.51</td>\n",
       "      <td>10215.80</td>\n",
       "      <td>6557.73</td>\n",
       "      <td>11801.02</td>\n",
       "      <td>21023.21</td>\n",
       "      <td>6482.82</td>\n",
       "      <td>24695.94</td>\n",
       "      <td>6125.50</td>\n",
       "      <td>9289.90</td>\n",
       "    </tr>\n",
       "    <tr>\n",
       "      <th>3</th>\n",
       "      <td>2007-08</td>\n",
       "      <td>GDP (in Rs. Cr.)</td>\n",
       "      <td>9860.16</td>\n",
       "      <td>15937.45</td>\n",
       "      <td>14241.18</td>\n",
       "      <td>24081.05</td>\n",
       "      <td>17473.10</td>\n",
       "      <td>19125.08</td>\n",
       "      <td>30038.38</td>\n",
       "      <td>14393.29</td>\n",
       "      <td>...</td>\n",
       "      <td>14716.18</td>\n",
       "      <td>14736.51</td>\n",
       "      <td>11952.25</td>\n",
       "      <td>7976.66</td>\n",
       "      <td>13304.80</td>\n",
       "      <td>24916.80</td>\n",
       "      <td>7615.25</td>\n",
       "      <td>30570.33</td>\n",
       "      <td>7639.31</td>\n",
       "      <td>11233.17</td>\n",
       "    </tr>\n",
       "    <tr>\n",
       "      <th>4</th>\n",
       "      <td>2008-09</td>\n",
       "      <td>GDP (in Rs. Cr.)</td>\n",
       "      <td>12342.93</td>\n",
       "      <td>17713.73</td>\n",
       "      <td>15998.11</td>\n",
       "      <td>27446.05</td>\n",
       "      <td>18552.27</td>\n",
       "      <td>22550.47</td>\n",
       "      <td>35536.76</td>\n",
       "      <td>11911.79</td>\n",
       "      <td>...</td>\n",
       "      <td>18732.63</td>\n",
       "      <td>18346.31</td>\n",
       "      <td>14451.33</td>\n",
       "      <td>11428.43</td>\n",
       "      <td>17495.58</td>\n",
       "      <td>31846.81</td>\n",
       "      <td>8835.04</td>\n",
       "      <td>30638.93</td>\n",
       "      <td>8886.84</td>\n",
       "      <td>13705.13</td>\n",
       "    </tr>\n",
       "    <tr>\n",
       "      <th>5</th>\n",
       "      <td>2009-10</td>\n",
       "      <td>GDP (in Rs. Cr.)</td>\n",
       "      <td>13291.00</td>\n",
       "      <td>18647.00</td>\n",
       "      <td>17628.00</td>\n",
       "      <td>31687.00</td>\n",
       "      <td>22711.00</td>\n",
       "      <td>26441.00</td>\n",
       "      <td>39564.00</td>\n",
       "      <td>13197.00</td>\n",
       "      <td>...</td>\n",
       "      <td>20744.00</td>\n",
       "      <td>18634.00</td>\n",
       "      <td>16455.00</td>\n",
       "      <td>10507.00</td>\n",
       "      <td>19389.00</td>\n",
       "      <td>34069.00</td>\n",
       "      <td>10427.00</td>\n",
       "      <td>37274.00</td>\n",
       "      <td>10104.00</td>\n",
       "      <td>14441.00</td>\n",
       "    </tr>\n",
       "    <tr>\n",
       "      <th>6</th>\n",
       "      <td>2010-11</td>\n",
       "      <td>GDP (in Rs. Cr.)</td>\n",
       "      <td>16508.00</td>\n",
       "      <td>22071.00</td>\n",
       "      <td>22257.00</td>\n",
       "      <td>34374.00</td>\n",
       "      <td>28340.00</td>\n",
       "      <td>30764.00</td>\n",
       "      <td>47610.00</td>\n",
       "      <td>16548.00</td>\n",
       "      <td>...</td>\n",
       "      <td>30668.00</td>\n",
       "      <td>22185.00</td>\n",
       "      <td>18231.00</td>\n",
       "      <td>14242.00</td>\n",
       "      <td>23450.00</td>\n",
       "      <td>48226.00</td>\n",
       "      <td>12149.00</td>\n",
       "      <td>42841.00</td>\n",
       "      <td>12187.00</td>\n",
       "      <td>19107.00</td>\n",
       "    </tr>\n",
       "    <tr>\n",
       "      <th>7</th>\n",
       "      <td>2011-12</td>\n",
       "      <td>GDP (in Rs. Cr.)</td>\n",
       "      <td>17330.00</td>\n",
       "      <td>25577.00</td>\n",
       "      <td>26862.00</td>\n",
       "      <td>38600.00</td>\n",
       "      <td>30692.00</td>\n",
       "      <td>36133.00</td>\n",
       "      <td>54839.00</td>\n",
       "      <td>18875.00</td>\n",
       "      <td>...</td>\n",
       "      <td>36418.00</td>\n",
       "      <td>24830.00</td>\n",
       "      <td>22349.00</td>\n",
       "      <td>15163.00</td>\n",
       "      <td>26593.00</td>\n",
       "      <td>54814.00</td>\n",
       "      <td>14023.00</td>\n",
       "      <td>50503.00</td>\n",
       "      <td>13864.00</td>\n",
       "      <td>20255.00</td>\n",
       "    </tr>\n",
       "    <tr>\n",
       "      <th>8</th>\n",
       "      <td>2012-13</td>\n",
       "      <td>GDP (in Rs. Cr.)</td>\n",
       "      <td>19641.00</td>\n",
       "      <td>29133.00</td>\n",
       "      <td>30593.00</td>\n",
       "      <td>44254.00</td>\n",
       "      <td>35456.00</td>\n",
       "      <td>41650.00</td>\n",
       "      <td>62894.00</td>\n",
       "      <td>21440.00</td>\n",
       "      <td>...</td>\n",
       "      <td>40075.00</td>\n",
       "      <td>28174.00</td>\n",
       "      <td>25569.00</td>\n",
       "      <td>17407.00</td>\n",
       "      <td>30474.00</td>\n",
       "      <td>61199.00</td>\n",
       "      <td>16050.00</td>\n",
       "      <td>56668.00</td>\n",
       "      <td>15858.00</td>\n",
       "      <td>23247.00</td>\n",
       "    </tr>\n",
       "    <tr>\n",
       "      <th>9</th>\n",
       "      <td>2005-06</td>\n",
       "      <td>Growth Rate % (YoY)</td>\n",
       "      <td>8.14</td>\n",
       "      <td>8.20</td>\n",
       "      <td>14.83</td>\n",
       "      <td>-2.68</td>\n",
       "      <td>0.69</td>\n",
       "      <td>21.01</td>\n",
       "      <td>21.21</td>\n",
       "      <td>12.12</td>\n",
       "      <td>...</td>\n",
       "      <td>19.16</td>\n",
       "      <td>18.13</td>\n",
       "      <td>13.07</td>\n",
       "      <td>22.00</td>\n",
       "      <td>17.07</td>\n",
       "      <td>30.56</td>\n",
       "      <td>10.10</td>\n",
       "      <td>5.81</td>\n",
       "      <td>6.54</td>\n",
       "      <td>16.07</td>\n",
       "    </tr>\n",
       "  </tbody>\n",
       "</table>\n",
       "<p>10 rows × 25 columns</p>\n",
       "</div>"
      ],
      "text/plain": [
       "      Year          Description  Adilabad  Anantapur  Chittoor  Godavari East  \\\n",
       "0  2004-05     GDP (in Rs. Cr.)   6527.41    9286.21   9048.39       17289.90   \n",
       "1  2005-06     GDP (in Rs. Cr.)   7058.60   10047.71  10390.13       16827.15   \n",
       "2  2006-07     GDP (in Rs. Cr.)   8300.56   11252.83  11594.82       20208.88   \n",
       "3  2007-08     GDP (in Rs. Cr.)   9860.16   15937.45  14241.18       24081.05   \n",
       "4  2008-09     GDP (in Rs. Cr.)  12342.93   17713.73  15998.11       27446.05   \n",
       "5  2009-10     GDP (in Rs. Cr.)  13291.00   18647.00  17628.00       31687.00   \n",
       "6  2010-11     GDP (in Rs. Cr.)  16508.00   22071.00  22257.00       34374.00   \n",
       "7  2011-12     GDP (in Rs. Cr.)  17330.00   25577.00  26862.00       38600.00   \n",
       "8  2012-13     GDP (in Rs. Cr.)  19641.00   29133.00  30593.00       44254.00   \n",
       "9  2005-06  Growth Rate % (YoY)      8.14       8.20     14.83          -2.68   \n",
       "\n",
       "   Godavari West    Guntur  Hyderabad    Kadapa  ...     Medak  Nalgonda  \\\n",
       "0       12704.42  11878.60   16932.79   6287.94  ...   8906.57   7658.54   \n",
       "1       12791.82  14374.44   20523.91   7050.27  ...  10613.40   9047.11   \n",
       "2       14156.37  16183.82   25016.85  12448.79  ...  13879.77  10423.51   \n",
       "3       17473.10  19125.08   30038.38  14393.29  ...  14716.18  14736.51   \n",
       "4       18552.27  22550.47   35536.76  11911.79  ...  18732.63  18346.31   \n",
       "5       22711.00  26441.00   39564.00  13197.00  ...  20744.00  18634.00   \n",
       "6       28340.00  30764.00   47610.00  16548.00  ...  30668.00  22185.00   \n",
       "7       30692.00  36133.00   54839.00  18875.00  ...  36418.00  24830.00   \n",
       "8       35456.00  41650.00   62894.00  21440.00  ...  40075.00  28174.00   \n",
       "9           0.69     21.01      21.21     12.12  ...     19.16     18.13   \n",
       "\n",
       "    Nellore  Nizambad  Prakasam  Rangareddy  Srikakulam  Visakapatnam  \\\n",
       "0   7612.73   4869.16   8507.54    13310.46     5059.99      19371.01   \n",
       "1   8607.98   5940.28   9959.52    17377.63     5570.88      20497.10   \n",
       "2  10215.80   6557.73  11801.02    21023.21     6482.82      24695.94   \n",
       "3  11952.25   7976.66  13304.80    24916.80     7615.25      30570.33   \n",
       "4  14451.33  11428.43  17495.58    31846.81     8835.04      30638.93   \n",
       "5  16455.00  10507.00  19389.00    34069.00    10427.00      37274.00   \n",
       "6  18231.00  14242.00  23450.00    48226.00    12149.00      42841.00   \n",
       "7  22349.00  15163.00  26593.00    54814.00    14023.00      50503.00   \n",
       "8  25569.00  17407.00  30474.00    61199.00    16050.00      56668.00   \n",
       "9     13.07     22.00     17.07       30.56       10.10          5.81   \n",
       "\n",
       "   Vizianagaram  Warangal  \n",
       "0       4988.90   7349.51  \n",
       "1       5315.09   8530.56  \n",
       "2       6125.50   9289.90  \n",
       "3       7639.31  11233.17  \n",
       "4       8886.84  13705.13  \n",
       "5      10104.00  14441.00  \n",
       "6      12187.00  19107.00  \n",
       "7      13864.00  20255.00  \n",
       "8      15858.00  23247.00  \n",
       "9          6.54     16.07  \n",
       "\n",
       "[10 rows x 25 columns]"
      ]
     },
     "execution_count": 4,
     "metadata": {},
     "output_type": "execute_result"
    }
   ],
   "source": [
    "gdp_dataset.head(10)"
   ]
  },
  {
   "cell_type": "code",
   "execution_count": 5,
   "metadata": {},
   "outputs": [],
   "source": [
    "## Extracting only the GDP from the dataset\n",
    "\n",
    "gdp_dataset = gdp_dataset.loc[gdp_dataset['Description'] == 'GDP (in Rs. Cr.)']"
   ]
  },
  {
   "cell_type": "code",
   "execution_count": 6,
   "metadata": {},
   "outputs": [
    {
     "data": {
      "text/html": [
       "<div>\n",
       "<style scoped>\n",
       "    .dataframe tbody tr th:only-of-type {\n",
       "        vertical-align: middle;\n",
       "    }\n",
       "\n",
       "    .dataframe tbody tr th {\n",
       "        vertical-align: top;\n",
       "    }\n",
       "\n",
       "    .dataframe thead th {\n",
       "        text-align: right;\n",
       "    }\n",
       "</style>\n",
       "<table border=\"1\" class=\"dataframe\">\n",
       "  <thead>\n",
       "    <tr style=\"text-align: right;\">\n",
       "      <th></th>\n",
       "      <th>Year</th>\n",
       "      <th>Description</th>\n",
       "      <th>Adilabad</th>\n",
       "      <th>Anantapur</th>\n",
       "      <th>Chittoor</th>\n",
       "      <th>Godavari East</th>\n",
       "      <th>Godavari West</th>\n",
       "      <th>Guntur</th>\n",
       "      <th>Hyderabad</th>\n",
       "      <th>Kadapa</th>\n",
       "      <th>...</th>\n",
       "      <th>Medak</th>\n",
       "      <th>Nalgonda</th>\n",
       "      <th>Nellore</th>\n",
       "      <th>Nizambad</th>\n",
       "      <th>Prakasam</th>\n",
       "      <th>Rangareddy</th>\n",
       "      <th>Srikakulam</th>\n",
       "      <th>Visakapatnam</th>\n",
       "      <th>Vizianagaram</th>\n",
       "      <th>Warangal</th>\n",
       "    </tr>\n",
       "  </thead>\n",
       "  <tbody>\n",
       "    <tr>\n",
       "      <th>0</th>\n",
       "      <td>2004-05</td>\n",
       "      <td>GDP (in Rs. Cr.)</td>\n",
       "      <td>6527.41</td>\n",
       "      <td>9286.21</td>\n",
       "      <td>9048.39</td>\n",
       "      <td>17289.90</td>\n",
       "      <td>12704.42</td>\n",
       "      <td>11878.60</td>\n",
       "      <td>16932.79</td>\n",
       "      <td>6287.94</td>\n",
       "      <td>...</td>\n",
       "      <td>8906.57</td>\n",
       "      <td>7658.54</td>\n",
       "      <td>7612.73</td>\n",
       "      <td>4869.16</td>\n",
       "      <td>8507.54</td>\n",
       "      <td>13310.46</td>\n",
       "      <td>5059.99</td>\n",
       "      <td>19371.01</td>\n",
       "      <td>4988.90</td>\n",
       "      <td>7349.51</td>\n",
       "    </tr>\n",
       "    <tr>\n",
       "      <th>1</th>\n",
       "      <td>2005-06</td>\n",
       "      <td>GDP (in Rs. Cr.)</td>\n",
       "      <td>7058.60</td>\n",
       "      <td>10047.71</td>\n",
       "      <td>10390.13</td>\n",
       "      <td>16827.15</td>\n",
       "      <td>12791.82</td>\n",
       "      <td>14374.44</td>\n",
       "      <td>20523.91</td>\n",
       "      <td>7050.27</td>\n",
       "      <td>...</td>\n",
       "      <td>10613.40</td>\n",
       "      <td>9047.11</td>\n",
       "      <td>8607.98</td>\n",
       "      <td>5940.28</td>\n",
       "      <td>9959.52</td>\n",
       "      <td>17377.63</td>\n",
       "      <td>5570.88</td>\n",
       "      <td>20497.10</td>\n",
       "      <td>5315.09</td>\n",
       "      <td>8530.56</td>\n",
       "    </tr>\n",
       "    <tr>\n",
       "      <th>2</th>\n",
       "      <td>2006-07</td>\n",
       "      <td>GDP (in Rs. Cr.)</td>\n",
       "      <td>8300.56</td>\n",
       "      <td>11252.83</td>\n",
       "      <td>11594.82</td>\n",
       "      <td>20208.88</td>\n",
       "      <td>14156.37</td>\n",
       "      <td>16183.82</td>\n",
       "      <td>25016.85</td>\n",
       "      <td>12448.79</td>\n",
       "      <td>...</td>\n",
       "      <td>13879.77</td>\n",
       "      <td>10423.51</td>\n",
       "      <td>10215.80</td>\n",
       "      <td>6557.73</td>\n",
       "      <td>11801.02</td>\n",
       "      <td>21023.21</td>\n",
       "      <td>6482.82</td>\n",
       "      <td>24695.94</td>\n",
       "      <td>6125.50</td>\n",
       "      <td>9289.90</td>\n",
       "    </tr>\n",
       "    <tr>\n",
       "      <th>3</th>\n",
       "      <td>2007-08</td>\n",
       "      <td>GDP (in Rs. Cr.)</td>\n",
       "      <td>9860.16</td>\n",
       "      <td>15937.45</td>\n",
       "      <td>14241.18</td>\n",
       "      <td>24081.05</td>\n",
       "      <td>17473.10</td>\n",
       "      <td>19125.08</td>\n",
       "      <td>30038.38</td>\n",
       "      <td>14393.29</td>\n",
       "      <td>...</td>\n",
       "      <td>14716.18</td>\n",
       "      <td>14736.51</td>\n",
       "      <td>11952.25</td>\n",
       "      <td>7976.66</td>\n",
       "      <td>13304.80</td>\n",
       "      <td>24916.80</td>\n",
       "      <td>7615.25</td>\n",
       "      <td>30570.33</td>\n",
       "      <td>7639.31</td>\n",
       "      <td>11233.17</td>\n",
       "    </tr>\n",
       "    <tr>\n",
       "      <th>4</th>\n",
       "      <td>2008-09</td>\n",
       "      <td>GDP (in Rs. Cr.)</td>\n",
       "      <td>12342.93</td>\n",
       "      <td>17713.73</td>\n",
       "      <td>15998.11</td>\n",
       "      <td>27446.05</td>\n",
       "      <td>18552.27</td>\n",
       "      <td>22550.47</td>\n",
       "      <td>35536.76</td>\n",
       "      <td>11911.79</td>\n",
       "      <td>...</td>\n",
       "      <td>18732.63</td>\n",
       "      <td>18346.31</td>\n",
       "      <td>14451.33</td>\n",
       "      <td>11428.43</td>\n",
       "      <td>17495.58</td>\n",
       "      <td>31846.81</td>\n",
       "      <td>8835.04</td>\n",
       "      <td>30638.93</td>\n",
       "      <td>8886.84</td>\n",
       "      <td>13705.13</td>\n",
       "    </tr>\n",
       "  </tbody>\n",
       "</table>\n",
       "<p>5 rows × 25 columns</p>\n",
       "</div>"
      ],
      "text/plain": [
       "      Year       Description  Adilabad  Anantapur  Chittoor  Godavari East  \\\n",
       "0  2004-05  GDP (in Rs. Cr.)   6527.41    9286.21   9048.39       17289.90   \n",
       "1  2005-06  GDP (in Rs. Cr.)   7058.60   10047.71  10390.13       16827.15   \n",
       "2  2006-07  GDP (in Rs. Cr.)   8300.56   11252.83  11594.82       20208.88   \n",
       "3  2007-08  GDP (in Rs. Cr.)   9860.16   15937.45  14241.18       24081.05   \n",
       "4  2008-09  GDP (in Rs. Cr.)  12342.93   17713.73  15998.11       27446.05   \n",
       "\n",
       "   Godavari West    Guntur  Hyderabad    Kadapa  ...     Medak  Nalgonda  \\\n",
       "0       12704.42  11878.60   16932.79   6287.94  ...   8906.57   7658.54   \n",
       "1       12791.82  14374.44   20523.91   7050.27  ...  10613.40   9047.11   \n",
       "2       14156.37  16183.82   25016.85  12448.79  ...  13879.77  10423.51   \n",
       "3       17473.10  19125.08   30038.38  14393.29  ...  14716.18  14736.51   \n",
       "4       18552.27  22550.47   35536.76  11911.79  ...  18732.63  18346.31   \n",
       "\n",
       "    Nellore  Nizambad  Prakasam  Rangareddy  Srikakulam  Visakapatnam  \\\n",
       "0   7612.73   4869.16   8507.54    13310.46     5059.99      19371.01   \n",
       "1   8607.98   5940.28   9959.52    17377.63     5570.88      20497.10   \n",
       "2  10215.80   6557.73  11801.02    21023.21     6482.82      24695.94   \n",
       "3  11952.25   7976.66  13304.80    24916.80     7615.25      30570.33   \n",
       "4  14451.33  11428.43  17495.58    31846.81     8835.04      30638.93   \n",
       "\n",
       "   Vizianagaram  Warangal  \n",
       "0       4988.90   7349.51  \n",
       "1       5315.09   8530.56  \n",
       "2       6125.50   9289.90  \n",
       "3       7639.31  11233.17  \n",
       "4       8886.84  13705.13  \n",
       "\n",
       "[5 rows x 25 columns]"
      ]
     },
     "execution_count": 6,
     "metadata": {},
     "output_type": "execute_result"
    }
   ],
   "source": [
    "gdp_dataset.head()"
   ]
  },
  {
   "cell_type": "markdown",
   "metadata": {},
   "source": [
    "#### As we have the GDP for AP and the data is present for 2004 - 2012. We can consider crimes betweem 2004 - 2012 in AP\n",
    "Checking if the years are available and creating a dataset with them"
   ]
  },
  {
   "cell_type": "code",
   "execution_count": 7,
   "metadata": {},
   "outputs": [],
   "source": [
    "crime_dataset_AP = crime_dataset.loc[(crime_dataset['STATE/UT'] == \"ANDHRA PRADESH\")]\n",
    "crime_dataset_AP = crime_dataset_AP[crime_dataset_AP['YEAR'].isin([2004, 2005, 2006, 2007, 2008, 2009, 2010, 2011, 2012])]"
   ]
  },
  {
   "cell_type": "code",
   "execution_count": 30,
   "metadata": {},
   "outputs": [
    {
     "data": {
      "text/plain": [
       "array(['ADILABAD', 'ANANTAPUR', 'CHITTOOR', 'CUDDAPAH', 'CYBERABAD',\n",
       "       'EAST GODAVARI', 'GUNTAKAL RLY.', 'GUNTUR', 'HYDERABAD CITY',\n",
       "       'KARIMNAGAR', 'KHAMMAM', 'KRISHNA', 'KURNOOL', 'MAHABOOBNAGAR',\n",
       "       'MEDAK', 'NALGONDA', 'NELLORE', 'NIZAMABAD', 'PRAKASHAM',\n",
       "       'RANGA REDDY', 'SECUNDERABAD RLY.', 'SRIKAKULAM', 'VIJAYAWADA',\n",
       "       'VIJAYAWADA RLY.', 'VISAKHA RURAL', 'VISAKHAPATNAM',\n",
       "       'VIZIANAGARAM', 'WARANGAL', 'WEST GODAVARI', 'TOTAL',\n",
       "       'VIJAYAWADA CITY', 'GUNTUR URBAN', 'RAJAHMUNDRY',\n",
       "       'TIRUPATHI URBAN', 'WARANGAL URBAN'], dtype=object)"
      ]
     },
     "execution_count": 30,
     "metadata": {},
     "output_type": "execute_result"
    }
   ],
   "source": [
    "crime_dataset_AP[\"DISTRICT\"].unique()"
   ]
  },
  {
   "cell_type": "markdown",
   "metadata": {},
   "source": [
    "##### Focusing on 1 district for now. Lets take Hyderabad the capital"
   ]
  },
  {
   "cell_type": "code",
   "execution_count": 48,
   "metadata": {},
   "outputs": [],
   "source": [
    "crime_dataset_chittoor = crime_dataset_AP.loc[crime_dataset_AP['DISTRICT'] == 'CHITTOOR']\n",
    "crime_dataset_visakhapatnam = crime_dataset_AP.loc[crime_dataset_AP['DISTRICT'] == 'VISAKHAPATNAM']"
   ]
  },
  {
   "cell_type": "markdown",
   "metadata": {},
   "source": [
    "## We have two datasets with GDP and crimes in Hyderabad city\n",
    "Now lets combine the GDP to this crime dataset for Hyderabad city"
   ]
  },
  {
   "cell_type": "code",
   "execution_count": 49,
   "metadata": {},
   "outputs": [
    {
     "name": "stderr",
     "output_type": "stream",
     "text": [
      "<ipython-input-49-ddd38bd4a5b8>:2: SettingWithCopyWarning:\n",
      "\n",
      "\n",
      "A value is trying to be set on a copy of a slice from a DataFrame.\n",
      "Try using .loc[row_indexer,col_indexer] = value instead\n",
      "\n",
      "See the caveats in the documentation: https://pandas.pydata.org/pandas-docs/stable/user_guide/indexing.html#returning-a-view-versus-a-copy\n",
      "\n"
     ]
    }
   ],
   "source": [
    "chittoor_gdp = gdp_dataset['Chittoor'].values\n",
    "crime_dataset_chittoor['GDP'] = chittoor_gdp"
   ]
  },
  {
   "cell_type": "code",
   "execution_count": 50,
   "metadata": {},
   "outputs": [
    {
     "name": "stderr",
     "output_type": "stream",
     "text": [
      "<ipython-input-50-e8578f572083>:2: SettingWithCopyWarning:\n",
      "\n",
      "\n",
      "A value is trying to be set on a copy of a slice from a DataFrame.\n",
      "Try using .loc[row_indexer,col_indexer] = value instead\n",
      "\n",
      "See the caveats in the documentation: https://pandas.pydata.org/pandas-docs/stable/user_guide/indexing.html#returning-a-view-versus-a-copy\n",
      "\n"
     ]
    }
   ],
   "source": [
    "visakhapatnam_gdp = gdp_dataset['Visakapatnam'].values\n",
    "crime_dataset_visakhapatnam['GDP'] = visakhapatnam_gdp"
   ]
  },
  {
   "cell_type": "code",
   "execution_count": 34,
   "metadata": {},
   "outputs": [
    {
     "data": {
      "text/plain": [
       "Index(['Year', 'Description', 'Adilabad', 'Anantapur', 'Chittoor',\n",
       "       'Godavari East', 'Godavari West', 'Guntur', 'Hyderabad', 'Kadapa',\n",
       "       'Karimnagar', 'Khammam', 'Krishna', 'Kurnool', 'Mahabubnagar', 'Medak',\n",
       "       'Nalgonda', 'Nellore', 'Nizambad', 'Prakasam', 'Rangareddy',\n",
       "       'Srikakulam', 'Visakapatnam', 'Vizianagaram', 'Warangal'],\n",
       "      dtype='object')"
      ]
     },
     "execution_count": 34,
     "metadata": {},
     "output_type": "execute_result"
    }
   ],
   "source": [
    "gdp_dataset.columns"
   ]
  },
  {
   "cell_type": "code",
   "execution_count": 51,
   "metadata": {},
   "outputs": [],
   "source": [
    "list_of_crimes =[\n",
    "    'MURDER', 'ATTEMPT TO MURDER',\n",
    "       'CULPABLE HOMICIDE NOT AMOUNTING TO MURDER', 'RAPE', 'CUSTODIAL RAPE',\n",
    "       'OTHER RAPE', 'KIDNAPPING & ABDUCTION',\n",
    "       'KIDNAPPING AND ABDUCTION OF WOMEN AND GIRLS',\n",
    "       'KIDNAPPING AND ABDUCTION OF OTHERS', 'DACOITY',\n",
    "       'PREPARATION AND ASSEMBLY FOR DACOITY', 'ROBBERY', 'BURGLARY', 'THEFT',\n",
    "       'AUTO THEFT', 'OTHER THEFT', 'RIOTS', 'CRIMINAL BREACH OF TRUST',\n",
    "       'CHEATING', 'COUNTERFIETING', 'ARSON', 'HURT/GREVIOUS HURT',\n",
    "       'DOWRY DEATHS', 'ASSAULT ON WOMEN WITH INTENT TO OUTRAGE HER MODESTY',\n",
    "       'INSULT TO MODESTY OF WOMEN', 'CRUELTY BY HUSBAND OR HIS RELATIVES',\n",
    "       'IMPORTATION OF GIRLS FROM FOREIGN COUNTRIES',\n",
    "       'CAUSING DEATH BY NEGLIGENCE', 'OTHER IPC CRIMES', 'TOTAL IPC CRIMES',\n",
    "       'GDP'\n",
    "]"
   ]
  },
  {
   "cell_type": "code",
   "execution_count": 60,
   "metadata": {},
   "outputs": [
    {
     "data": {
      "application/vnd.plotly.v1+json": {
       "config": {
        "plotlyServerURL": "https://plot.ly"
       },
       "data": [
        {
         "customdata": [
          [
           2004
          ],
          [
           2005
          ],
          [
           2006
          ],
          [
           2007
          ],
          [
           2008
          ],
          [
           2009
          ],
          [
           2010
          ],
          [
           2011
          ],
          [
           2012
          ]
         ],
         "hovertemplate": "variable=MURDER<br>GDP=%{x}<br>value=%{y}<br>YEAR=%{customdata[0]}<extra></extra>",
         "legendgroup": "MURDER",
         "line": {
          "color": "#636efa",
          "dash": "solid"
         },
         "marker": {
          "symbol": "circle"
         },
         "mode": "markers+lines",
         "name": "MURDER",
         "orientation": "v",
         "showlegend": true,
         "type": "scatter",
         "x": [
          9048.39,
          10390.13,
          11594.82,
          14241.18,
          15998.11,
          17628,
          22257,
          26862,
          30593
         ],
         "xaxis": "x",
         "y": [
          105,
          105,
          126,
          129,
          123,
          85,
          100,
          91,
          91
         ],
         "yaxis": "y"
        },
        {
         "customdata": [
          [
           2004
          ],
          [
           2005
          ],
          [
           2006
          ],
          [
           2007
          ],
          [
           2008
          ],
          [
           2009
          ],
          [
           2010
          ],
          [
           2011
          ],
          [
           2012
          ]
         ],
         "hovertemplate": "variable=ATTEMPT TO MURDER<br>GDP=%{x}<br>value=%{y}<br>YEAR=%{customdata[0]}<extra></extra>",
         "legendgroup": "ATTEMPT TO MURDER",
         "line": {
          "color": "#EF553B",
          "dash": "solid"
         },
         "marker": {
          "symbol": "circle"
         },
         "mode": "markers+lines",
         "name": "ATTEMPT TO MURDER",
         "orientation": "v",
         "showlegend": true,
         "type": "scatter",
         "x": [
          9048.39,
          10390.13,
          11594.82,
          14241.18,
          15998.11,
          17628,
          22257,
          26862,
          30593
         ],
         "xaxis": "x",
         "y": [
          52,
          40,
          59,
          72,
          65,
          68,
          50,
          55,
          75
         ],
         "yaxis": "y"
        },
        {
         "customdata": [
          [
           2004
          ],
          [
           2005
          ],
          [
           2006
          ],
          [
           2007
          ],
          [
           2008
          ],
          [
           2009
          ],
          [
           2010
          ],
          [
           2011
          ],
          [
           2012
          ]
         ],
         "hovertemplate": "variable=CULPABLE HOMICIDE NOT AMOUNTING TO MURDER<br>GDP=%{x}<br>value=%{y}<br>YEAR=%{customdata[0]}<extra></extra>",
         "legendgroup": "CULPABLE HOMICIDE NOT AMOUNTING TO MURDER",
         "line": {
          "color": "#00cc96",
          "dash": "solid"
         },
         "marker": {
          "symbol": "circle"
         },
         "mode": "markers+lines",
         "name": "CULPABLE HOMICIDE NOT AMOUNTING TO MURDER",
         "orientation": "v",
         "showlegend": true,
         "type": "scatter",
         "x": [
          9048.39,
          10390.13,
          11594.82,
          14241.18,
          15998.11,
          17628,
          22257,
          26862,
          30593
         ],
         "xaxis": "x",
         "y": [
          1,
          0,
          1,
          2,
          7,
          2,
          1,
          5,
          5
         ],
         "yaxis": "y"
        },
        {
         "customdata": [
          [
           2004
          ],
          [
           2005
          ],
          [
           2006
          ],
          [
           2007
          ],
          [
           2008
          ],
          [
           2009
          ],
          [
           2010
          ],
          [
           2011
          ],
          [
           2012
          ]
         ],
         "hovertemplate": "variable=RAPE<br>GDP=%{x}<br>value=%{y}<br>YEAR=%{customdata[0]}<extra></extra>",
         "legendgroup": "RAPE",
         "line": {
          "color": "#ab63fa",
          "dash": "solid"
         },
         "marker": {
          "symbol": "circle"
         },
         "mode": "markers+lines",
         "name": "RAPE",
         "orientation": "v",
         "showlegend": true,
         "type": "scatter",
         "x": [
          9048.39,
          10390.13,
          11594.82,
          14241.18,
          15998.11,
          17628,
          22257,
          26862,
          30593
         ],
         "xaxis": "x",
         "y": [
          28,
          35,
          31,
          31,
          30,
          33,
          44,
          17,
          28
         ],
         "yaxis": "y"
        },
        {
         "customdata": [
          [
           2004
          ],
          [
           2005
          ],
          [
           2006
          ],
          [
           2007
          ],
          [
           2008
          ],
          [
           2009
          ],
          [
           2010
          ],
          [
           2011
          ],
          [
           2012
          ]
         ],
         "hovertemplate": "variable=CUSTODIAL RAPE<br>GDP=%{x}<br>value=%{y}<br>YEAR=%{customdata[0]}<extra></extra>",
         "legendgroup": "CUSTODIAL RAPE",
         "line": {
          "color": "#FFA15A",
          "dash": "solid"
         },
         "marker": {
          "symbol": "circle"
         },
         "mode": "markers+lines",
         "name": "CUSTODIAL RAPE",
         "orientation": "v",
         "showlegend": true,
         "type": "scatter",
         "x": [
          9048.39,
          10390.13,
          11594.82,
          14241.18,
          15998.11,
          17628,
          22257,
          26862,
          30593
         ],
         "xaxis": "x",
         "y": [
          0,
          0,
          0,
          0,
          0,
          0,
          0,
          0,
          0
         ],
         "yaxis": "y"
        },
        {
         "customdata": [
          [
           2004
          ],
          [
           2005
          ],
          [
           2006
          ],
          [
           2007
          ],
          [
           2008
          ],
          [
           2009
          ],
          [
           2010
          ],
          [
           2011
          ],
          [
           2012
          ]
         ],
         "hovertemplate": "variable=OTHER RAPE<br>GDP=%{x}<br>value=%{y}<br>YEAR=%{customdata[0]}<extra></extra>",
         "legendgroup": "OTHER RAPE",
         "line": {
          "color": "#19d3f3",
          "dash": "solid"
         },
         "marker": {
          "symbol": "circle"
         },
         "mode": "markers+lines",
         "name": "OTHER RAPE",
         "orientation": "v",
         "showlegend": true,
         "type": "scatter",
         "x": [
          9048.39,
          10390.13,
          11594.82,
          14241.18,
          15998.11,
          17628,
          22257,
          26862,
          30593
         ],
         "xaxis": "x",
         "y": [
          28,
          35,
          31,
          31,
          30,
          33,
          44,
          17,
          28
         ],
         "yaxis": "y"
        },
        {
         "customdata": [
          [
           2004
          ],
          [
           2005
          ],
          [
           2006
          ],
          [
           2007
          ],
          [
           2008
          ],
          [
           2009
          ],
          [
           2010
          ],
          [
           2011
          ],
          [
           2012
          ]
         ],
         "hovertemplate": "variable=KIDNAPPING & ABDUCTION<br>GDP=%{x}<br>value=%{y}<br>YEAR=%{customdata[0]}<extra></extra>",
         "legendgroup": "KIDNAPPING & ABDUCTION",
         "line": {
          "color": "#FF6692",
          "dash": "solid"
         },
         "marker": {
          "symbol": "circle"
         },
         "mode": "markers+lines",
         "name": "KIDNAPPING & ABDUCTION",
         "orientation": "v",
         "showlegend": true,
         "type": "scatter",
         "x": [
          9048.39,
          10390.13,
          11594.82,
          14241.18,
          15998.11,
          17628,
          22257,
          26862,
          30593
         ],
         "xaxis": "x",
         "y": [
          69,
          72,
          65,
          102,
          84,
          74,
          85,
          84,
          56
         ],
         "yaxis": "y"
        },
        {
         "customdata": [
          [
           2004
          ],
          [
           2005
          ],
          [
           2006
          ],
          [
           2007
          ],
          [
           2008
          ],
          [
           2009
          ],
          [
           2010
          ],
          [
           2011
          ],
          [
           2012
          ]
         ],
         "hovertemplate": "variable=KIDNAPPING AND ABDUCTION OF WOMEN AND GIRLS<br>GDP=%{x}<br>value=%{y}<br>YEAR=%{customdata[0]}<extra></extra>",
         "legendgroup": "KIDNAPPING AND ABDUCTION OF WOMEN AND GIRLS",
         "line": {
          "color": "#B6E880",
          "dash": "solid"
         },
         "marker": {
          "symbol": "circle"
         },
         "mode": "markers+lines",
         "name": "KIDNAPPING AND ABDUCTION OF WOMEN AND GIRLS",
         "orientation": "v",
         "showlegend": true,
         "type": "scatter",
         "x": [
          9048.39,
          10390.13,
          11594.82,
          14241.18,
          15998.11,
          17628,
          22257,
          26862,
          30593
         ],
         "xaxis": "x",
         "y": [
          27,
          58,
          37,
          47,
          57,
          46,
          56,
          47,
          49
         ],
         "yaxis": "y"
        },
        {
         "customdata": [
          [
           2004
          ],
          [
           2005
          ],
          [
           2006
          ],
          [
           2007
          ],
          [
           2008
          ],
          [
           2009
          ],
          [
           2010
          ],
          [
           2011
          ],
          [
           2012
          ]
         ],
         "hovertemplate": "variable=KIDNAPPING AND ABDUCTION OF OTHERS<br>GDP=%{x}<br>value=%{y}<br>YEAR=%{customdata[0]}<extra></extra>",
         "legendgroup": "KIDNAPPING AND ABDUCTION OF OTHERS",
         "line": {
          "color": "#FF97FF",
          "dash": "solid"
         },
         "marker": {
          "symbol": "circle"
         },
         "mode": "markers+lines",
         "name": "KIDNAPPING AND ABDUCTION OF OTHERS",
         "orientation": "v",
         "showlegend": true,
         "type": "scatter",
         "x": [
          9048.39,
          10390.13,
          11594.82,
          14241.18,
          15998.11,
          17628,
          22257,
          26862,
          30593
         ],
         "xaxis": "x",
         "y": [
          42,
          14,
          28,
          55,
          27,
          28,
          29,
          37,
          7
         ],
         "yaxis": "y"
        },
        {
         "customdata": [
          [
           2004
          ],
          [
           2005
          ],
          [
           2006
          ],
          [
           2007
          ],
          [
           2008
          ],
          [
           2009
          ],
          [
           2010
          ],
          [
           2011
          ],
          [
           2012
          ]
         ],
         "hovertemplate": "variable=DACOITY<br>GDP=%{x}<br>value=%{y}<br>YEAR=%{customdata[0]}<extra></extra>",
         "legendgroup": "DACOITY",
         "line": {
          "color": "#FECB52",
          "dash": "solid"
         },
         "marker": {
          "symbol": "circle"
         },
         "mode": "markers+lines",
         "name": "DACOITY",
         "orientation": "v",
         "showlegend": true,
         "type": "scatter",
         "x": [
          9048.39,
          10390.13,
          11594.82,
          14241.18,
          15998.11,
          17628,
          22257,
          26862,
          30593
         ],
         "xaxis": "x",
         "y": [
          8,
          9,
          13,
          27,
          6,
          4,
          8,
          5,
          3
         ],
         "yaxis": "y"
        },
        {
         "customdata": [
          [
           2004
          ],
          [
           2005
          ],
          [
           2006
          ],
          [
           2007
          ],
          [
           2008
          ],
          [
           2009
          ],
          [
           2010
          ],
          [
           2011
          ],
          [
           2012
          ]
         ],
         "hovertemplate": "variable=PREPARATION AND ASSEMBLY FOR DACOITY<br>GDP=%{x}<br>value=%{y}<br>YEAR=%{customdata[0]}<extra></extra>",
         "legendgroup": "PREPARATION AND ASSEMBLY FOR DACOITY",
         "line": {
          "color": "#636efa",
          "dash": "solid"
         },
         "marker": {
          "symbol": "circle"
         },
         "mode": "markers+lines",
         "name": "PREPARATION AND ASSEMBLY FOR DACOITY",
         "orientation": "v",
         "showlegend": true,
         "type": "scatter",
         "x": [
          9048.39,
          10390.13,
          11594.82,
          14241.18,
          15998.11,
          17628,
          22257,
          26862,
          30593
         ],
         "xaxis": "x",
         "y": [
          0,
          0,
          0,
          0,
          0,
          0,
          0,
          0,
          0
         ],
         "yaxis": "y"
        },
        {
         "customdata": [
          [
           2004
          ],
          [
           2005
          ],
          [
           2006
          ],
          [
           2007
          ],
          [
           2008
          ],
          [
           2009
          ],
          [
           2010
          ],
          [
           2011
          ],
          [
           2012
          ]
         ],
         "hovertemplate": "variable=ROBBERY<br>GDP=%{x}<br>value=%{y}<br>YEAR=%{customdata[0]}<extra></extra>",
         "legendgroup": "ROBBERY",
         "line": {
          "color": "#EF553B",
          "dash": "solid"
         },
         "marker": {
          "symbol": "circle"
         },
         "mode": "markers+lines",
         "name": "ROBBERY",
         "orientation": "v",
         "showlegend": true,
         "type": "scatter",
         "x": [
          9048.39,
          10390.13,
          11594.82,
          14241.18,
          15998.11,
          17628,
          22257,
          26862,
          30593
         ],
         "xaxis": "x",
         "y": [
          17,
          24,
          19,
          25,
          20,
          17,
          12,
          17,
          10
         ],
         "yaxis": "y"
        },
        {
         "customdata": [
          [
           2004
          ],
          [
           2005
          ],
          [
           2006
          ],
          [
           2007
          ],
          [
           2008
          ],
          [
           2009
          ],
          [
           2010
          ],
          [
           2011
          ],
          [
           2012
          ]
         ],
         "hovertemplate": "variable=BURGLARY<br>GDP=%{x}<br>value=%{y}<br>YEAR=%{customdata[0]}<extra></extra>",
         "legendgroup": "BURGLARY",
         "line": {
          "color": "#00cc96",
          "dash": "solid"
         },
         "marker": {
          "symbol": "circle"
         },
         "mode": "markers+lines",
         "name": "BURGLARY",
         "orientation": "v",
         "showlegend": true,
         "type": "scatter",
         "x": [
          9048.39,
          10390.13,
          11594.82,
          14241.18,
          15998.11,
          17628,
          22257,
          26862,
          30593
         ],
         "xaxis": "x",
         "y": [
          337,
          281,
          238,
          217,
          260,
          251,
          149,
          159,
          136
         ],
         "yaxis": "y"
        },
        {
         "customdata": [
          [
           2004
          ],
          [
           2005
          ],
          [
           2006
          ],
          [
           2007
          ],
          [
           2008
          ],
          [
           2009
          ],
          [
           2010
          ],
          [
           2011
          ],
          [
           2012
          ]
         ],
         "hovertemplate": "variable=THEFT<br>GDP=%{x}<br>value=%{y}<br>YEAR=%{customdata[0]}<extra></extra>",
         "legendgroup": "THEFT",
         "line": {
          "color": "#ab63fa",
          "dash": "solid"
         },
         "marker": {
          "symbol": "circle"
         },
         "mode": "markers+lines",
         "name": "THEFT",
         "orientation": "v",
         "showlegend": true,
         "type": "scatter",
         "x": [
          9048.39,
          10390.13,
          11594.82,
          14241.18,
          15998.11,
          17628,
          22257,
          26862,
          30593
         ],
         "xaxis": "x",
         "y": [
          1055,
          1269,
          1037,
          1134,
          1321,
          1208,
          484,
          612,
          501
         ],
         "yaxis": "y"
        },
        {
         "customdata": [
          [
           2004
          ],
          [
           2005
          ],
          [
           2006
          ],
          [
           2007
          ],
          [
           2008
          ],
          [
           2009
          ],
          [
           2010
          ],
          [
           2011
          ],
          [
           2012
          ]
         ],
         "hovertemplate": "variable=AUTO THEFT<br>GDP=%{x}<br>value=%{y}<br>YEAR=%{customdata[0]}<extra></extra>",
         "legendgroup": "AUTO THEFT",
         "line": {
          "color": "#FFA15A",
          "dash": "solid"
         },
         "marker": {
          "symbol": "circle"
         },
         "mode": "markers+lines",
         "name": "AUTO THEFT",
         "orientation": "v",
         "showlegend": true,
         "type": "scatter",
         "x": [
          9048.39,
          10390.13,
          11594.82,
          14241.18,
          15998.11,
          17628,
          22257,
          26862,
          30593
         ],
         "xaxis": "x",
         "y": [
          221,
          87,
          194,
          302,
          420,
          521,
          116,
          245,
          208
         ],
         "yaxis": "y"
        },
        {
         "customdata": [
          [
           2004
          ],
          [
           2005
          ],
          [
           2006
          ],
          [
           2007
          ],
          [
           2008
          ],
          [
           2009
          ],
          [
           2010
          ],
          [
           2011
          ],
          [
           2012
          ]
         ],
         "hovertemplate": "variable=OTHER THEFT<br>GDP=%{x}<br>value=%{y}<br>YEAR=%{customdata[0]}<extra></extra>",
         "legendgroup": "OTHER THEFT",
         "line": {
          "color": "#19d3f3",
          "dash": "solid"
         },
         "marker": {
          "symbol": "circle"
         },
         "mode": "markers+lines",
         "name": "OTHER THEFT",
         "orientation": "v",
         "showlegend": true,
         "type": "scatter",
         "x": [
          9048.39,
          10390.13,
          11594.82,
          14241.18,
          15998.11,
          17628,
          22257,
          26862,
          30593
         ],
         "xaxis": "x",
         "y": [
          834,
          1182,
          843,
          832,
          901,
          687,
          368,
          367,
          293
         ],
         "yaxis": "y"
        },
        {
         "customdata": [
          [
           2004
          ],
          [
           2005
          ],
          [
           2006
          ],
          [
           2007
          ],
          [
           2008
          ],
          [
           2009
          ],
          [
           2010
          ],
          [
           2011
          ],
          [
           2012
          ]
         ],
         "hovertemplate": "variable=RIOTS<br>GDP=%{x}<br>value=%{y}<br>YEAR=%{customdata[0]}<extra></extra>",
         "legendgroup": "RIOTS",
         "line": {
          "color": "#FF6692",
          "dash": "solid"
         },
         "marker": {
          "symbol": "circle"
         },
         "mode": "markers+lines",
         "name": "RIOTS",
         "orientation": "v",
         "showlegend": true,
         "type": "scatter",
         "x": [
          9048.39,
          10390.13,
          11594.82,
          14241.18,
          15998.11,
          17628,
          22257,
          26862,
          30593
         ],
         "xaxis": "x",
         "y": [
          82,
          87,
          95,
          74,
          64,
          104,
          58,
          84,
          32
         ],
         "yaxis": "y"
        },
        {
         "customdata": [
          [
           2004
          ],
          [
           2005
          ],
          [
           2006
          ],
          [
           2007
          ],
          [
           2008
          ],
          [
           2009
          ],
          [
           2010
          ],
          [
           2011
          ],
          [
           2012
          ]
         ],
         "hovertemplate": "variable=CRIMINAL BREACH OF TRUST<br>GDP=%{x}<br>value=%{y}<br>YEAR=%{customdata[0]}<extra></extra>",
         "legendgroup": "CRIMINAL BREACH OF TRUST",
         "line": {
          "color": "#B6E880",
          "dash": "solid"
         },
         "marker": {
          "symbol": "circle"
         },
         "mode": "markers+lines",
         "name": "CRIMINAL BREACH OF TRUST",
         "orientation": "v",
         "showlegend": true,
         "type": "scatter",
         "x": [
          9048.39,
          10390.13,
          11594.82,
          14241.18,
          15998.11,
          17628,
          22257,
          26862,
          30593
         ],
         "xaxis": "x",
         "y": [
          26,
          32,
          29,
          26,
          29,
          25,
          16,
          21,
          9
         ],
         "yaxis": "y"
        },
        {
         "customdata": [
          [
           2004
          ],
          [
           2005
          ],
          [
           2006
          ],
          [
           2007
          ],
          [
           2008
          ],
          [
           2009
          ],
          [
           2010
          ],
          [
           2011
          ],
          [
           2012
          ]
         ],
         "hovertemplate": "variable=CHEATING<br>GDP=%{x}<br>value=%{y}<br>YEAR=%{customdata[0]}<extra></extra>",
         "legendgroup": "CHEATING",
         "line": {
          "color": "#FF97FF",
          "dash": "solid"
         },
         "marker": {
          "symbol": "circle"
         },
         "mode": "markers+lines",
         "name": "CHEATING",
         "orientation": "v",
         "showlegend": true,
         "type": "scatter",
         "x": [
          9048.39,
          10390.13,
          11594.82,
          14241.18,
          15998.11,
          17628,
          22257,
          26862,
          30593
         ],
         "xaxis": "x",
         "y": [
          267,
          222,
          181,
          248,
          295,
          276,
          152,
          163,
          217
         ],
         "yaxis": "y"
        },
        {
         "customdata": [
          [
           2004
          ],
          [
           2005
          ],
          [
           2006
          ],
          [
           2007
          ],
          [
           2008
          ],
          [
           2009
          ],
          [
           2010
          ],
          [
           2011
          ],
          [
           2012
          ]
         ],
         "hovertemplate": "variable=COUNTERFIETING<br>GDP=%{x}<br>value=%{y}<br>YEAR=%{customdata[0]}<extra></extra>",
         "legendgroup": "COUNTERFIETING",
         "line": {
          "color": "#FECB52",
          "dash": "solid"
         },
         "marker": {
          "symbol": "circle"
         },
         "mode": "markers+lines",
         "name": "COUNTERFIETING",
         "orientation": "v",
         "showlegend": true,
         "type": "scatter",
         "x": [
          9048.39,
          10390.13,
          11594.82,
          14241.18,
          15998.11,
          17628,
          22257,
          26862,
          30593
         ],
         "xaxis": "x",
         "y": [
          3,
          10,
          48,
          5,
          20,
          32,
          7,
          10,
          4
         ],
         "yaxis": "y"
        },
        {
         "customdata": [
          [
           2004
          ],
          [
           2005
          ],
          [
           2006
          ],
          [
           2007
          ],
          [
           2008
          ],
          [
           2009
          ],
          [
           2010
          ],
          [
           2011
          ],
          [
           2012
          ]
         ],
         "hovertemplate": "variable=ARSON<br>GDP=%{x}<br>value=%{y}<br>YEAR=%{customdata[0]}<extra></extra>",
         "legendgroup": "ARSON",
         "line": {
          "color": "#636efa",
          "dash": "solid"
         },
         "marker": {
          "symbol": "circle"
         },
         "mode": "markers+lines",
         "name": "ARSON",
         "orientation": "v",
         "showlegend": true,
         "type": "scatter",
         "x": [
          9048.39,
          10390.13,
          11594.82,
          14241.18,
          15998.11,
          17628,
          22257,
          26862,
          30593
         ],
         "xaxis": "x",
         "y": [
          30,
          30,
          22,
          48,
          33,
          45,
          19,
          57,
          27
         ],
         "yaxis": "y"
        },
        {
         "customdata": [
          [
           2004
          ],
          [
           2005
          ],
          [
           2006
          ],
          [
           2007
          ],
          [
           2008
          ],
          [
           2009
          ],
          [
           2010
          ],
          [
           2011
          ],
          [
           2012
          ]
         ],
         "hovertemplate": "variable=HURT/GREVIOUS HURT<br>GDP=%{x}<br>value=%{y}<br>YEAR=%{customdata[0]}<extra></extra>",
         "legendgroup": "HURT/GREVIOUS HURT",
         "line": {
          "color": "#EF553B",
          "dash": "solid"
         },
         "marker": {
          "symbol": "circle"
         },
         "mode": "markers+lines",
         "name": "HURT/GREVIOUS HURT",
         "orientation": "v",
         "showlegend": true,
         "type": "scatter",
         "x": [
          9048.39,
          10390.13,
          11594.82,
          14241.18,
          15998.11,
          17628,
          22257,
          26862,
          30593
         ],
         "xaxis": "x",
         "y": [
          1065,
          891,
          996,
          1101,
          1017,
          1040,
          827,
          1848,
          622
         ],
         "yaxis": "y"
        },
        {
         "customdata": [
          [
           2004
          ],
          [
           2005
          ],
          [
           2006
          ],
          [
           2007
          ],
          [
           2008
          ],
          [
           2009
          ],
          [
           2010
          ],
          [
           2011
          ],
          [
           2012
          ]
         ],
         "hovertemplate": "variable=DOWRY DEATHS<br>GDP=%{x}<br>value=%{y}<br>YEAR=%{customdata[0]}<extra></extra>",
         "legendgroup": "DOWRY DEATHS",
         "line": {
          "color": "#00cc96",
          "dash": "solid"
         },
         "marker": {
          "symbol": "circle"
         },
         "mode": "markers+lines",
         "name": "DOWRY DEATHS",
         "orientation": "v",
         "showlegend": true,
         "type": "scatter",
         "x": [
          9048.39,
          10390.13,
          11594.82,
          14241.18,
          15998.11,
          17628,
          22257,
          26862,
          30593
         ],
         "xaxis": "x",
         "y": [
          22,
          9,
          18,
          25,
          26,
          19,
          32,
          25,
          33
         ],
         "yaxis": "y"
        },
        {
         "customdata": [
          [
           2004
          ],
          [
           2005
          ],
          [
           2006
          ],
          [
           2007
          ],
          [
           2008
          ],
          [
           2009
          ],
          [
           2010
          ],
          [
           2011
          ],
          [
           2012
          ]
         ],
         "hovertemplate": "variable=ASSAULT ON WOMEN WITH INTENT TO OUTRAGE HER MODESTY<br>GDP=%{x}<br>value=%{y}<br>YEAR=%{customdata[0]}<extra></extra>",
         "legendgroup": "ASSAULT ON WOMEN WITH INTENT TO OUTRAGE HER MODESTY",
         "line": {
          "color": "#ab63fa",
          "dash": "solid"
         },
         "marker": {
          "symbol": "circle"
         },
         "mode": "markers+lines",
         "name": "ASSAULT ON WOMEN WITH INTENT TO OUTRAGE HER MODESTY",
         "orientation": "v",
         "showlegend": true,
         "type": "scatter",
         "x": [
          9048.39,
          10390.13,
          11594.82,
          14241.18,
          15998.11,
          17628,
          22257,
          26862,
          30593
         ],
         "xaxis": "x",
         "y": [
          116,
          91,
          123,
          118,
          104,
          120,
          136,
          124,
          90
         ],
         "yaxis": "y"
        },
        {
         "customdata": [
          [
           2004
          ],
          [
           2005
          ],
          [
           2006
          ],
          [
           2007
          ],
          [
           2008
          ],
          [
           2009
          ],
          [
           2010
          ],
          [
           2011
          ],
          [
           2012
          ]
         ],
         "hovertemplate": "variable=INSULT TO MODESTY OF WOMEN<br>GDP=%{x}<br>value=%{y}<br>YEAR=%{customdata[0]}<extra></extra>",
         "legendgroup": "INSULT TO MODESTY OF WOMEN",
         "line": {
          "color": "#FFA15A",
          "dash": "solid"
         },
         "marker": {
          "symbol": "circle"
         },
         "mode": "markers+lines",
         "name": "INSULT TO MODESTY OF WOMEN",
         "orientation": "v",
         "showlegend": true,
         "type": "scatter",
         "x": [
          9048.39,
          10390.13,
          11594.82,
          14241.18,
          15998.11,
          17628,
          22257,
          26862,
          30593
         ],
         "xaxis": "x",
         "y": [
          197,
          223,
          190,
          197,
          250,
          268,
          121,
          168,
          269
         ],
         "yaxis": "y"
        },
        {
         "customdata": [
          [
           2004
          ],
          [
           2005
          ],
          [
           2006
          ],
          [
           2007
          ],
          [
           2008
          ],
          [
           2009
          ],
          [
           2010
          ],
          [
           2011
          ],
          [
           2012
          ]
         ],
         "hovertemplate": "variable=CRUELTY BY HUSBAND OR HIS RELATIVES<br>GDP=%{x}<br>value=%{y}<br>YEAR=%{customdata[0]}<extra></extra>",
         "legendgroup": "CRUELTY BY HUSBAND OR HIS RELATIVES",
         "line": {
          "color": "#19d3f3",
          "dash": "solid"
         },
         "marker": {
          "symbol": "circle"
         },
         "mode": "markers+lines",
         "name": "CRUELTY BY HUSBAND OR HIS RELATIVES",
         "orientation": "v",
         "showlegend": true,
         "type": "scatter",
         "x": [
          9048.39,
          10390.13,
          11594.82,
          14241.18,
          15998.11,
          17628,
          22257,
          26862,
          30593
         ],
         "xaxis": "x",
         "y": [
          234,
          202,
          249,
          395,
          288,
          333,
          388,
          421,
          339
         ],
         "yaxis": "y"
        },
        {
         "customdata": [
          [
           2004
          ],
          [
           2005
          ],
          [
           2006
          ],
          [
           2007
          ],
          [
           2008
          ],
          [
           2009
          ],
          [
           2010
          ],
          [
           2011
          ],
          [
           2012
          ]
         ],
         "hovertemplate": "variable=IMPORTATION OF GIRLS FROM FOREIGN COUNTRIES<br>GDP=%{x}<br>value=%{y}<br>YEAR=%{customdata[0]}<extra></extra>",
         "legendgroup": "IMPORTATION OF GIRLS FROM FOREIGN COUNTRIES",
         "line": {
          "color": "#FF6692",
          "dash": "solid"
         },
         "marker": {
          "symbol": "circle"
         },
         "mode": "markers+lines",
         "name": "IMPORTATION OF GIRLS FROM FOREIGN COUNTRIES",
         "orientation": "v",
         "showlegend": true,
         "type": "scatter",
         "x": [
          9048.39,
          10390.13,
          11594.82,
          14241.18,
          15998.11,
          17628,
          22257,
          26862,
          30593
         ],
         "xaxis": "x",
         "y": [
          0,
          0,
          0,
          0,
          0,
          0,
          0,
          0,
          0
         ],
         "yaxis": "y"
        },
        {
         "customdata": [
          [
           2004
          ],
          [
           2005
          ],
          [
           2006
          ],
          [
           2007
          ],
          [
           2008
          ],
          [
           2009
          ],
          [
           2010
          ],
          [
           2011
          ],
          [
           2012
          ]
         ],
         "hovertemplate": "variable=CAUSING DEATH BY NEGLIGENCE<br>GDP=%{x}<br>value=%{y}<br>YEAR=%{customdata[0]}<extra></extra>",
         "legendgroup": "CAUSING DEATH BY NEGLIGENCE",
         "line": {
          "color": "#B6E880",
          "dash": "solid"
         },
         "marker": {
          "symbol": "circle"
         },
         "mode": "markers+lines",
         "name": "CAUSING DEATH BY NEGLIGENCE",
         "orientation": "v",
         "showlegend": true,
         "type": "scatter",
         "x": [
          9048.39,
          10390.13,
          11594.82,
          14241.18,
          15998.11,
          17628,
          22257,
          26862,
          30593
         ],
         "xaxis": "x",
         "y": [
          2058,
          541,
          563,
          620,
          730,
          682,
          552,
          500,
          520
         ],
         "yaxis": "y"
        },
        {
         "customdata": [
          [
           2004
          ],
          [
           2005
          ],
          [
           2006
          ],
          [
           2007
          ],
          [
           2008
          ],
          [
           2009
          ],
          [
           2010
          ],
          [
           2011
          ],
          [
           2012
          ]
         ],
         "hovertemplate": "variable=OTHER IPC CRIMES<br>GDP=%{x}<br>value=%{y}<br>YEAR=%{customdata[0]}<extra></extra>",
         "legendgroup": "OTHER IPC CRIMES",
         "line": {
          "color": "#FF97FF",
          "dash": "solid"
         },
         "marker": {
          "symbol": "circle"
         },
         "mode": "markers+lines",
         "name": "OTHER IPC CRIMES",
         "orientation": "v",
         "showlegend": true,
         "type": "scatter",
         "x": [
          9048.39,
          10390.13,
          11594.82,
          14241.18,
          15998.11,
          17628,
          22257,
          26862,
          30593
         ],
         "xaxis": "x",
         "y": [
          1188,
          2573,
          2337,
          2499,
          2535,
          2582,
          1977,
          758,
          1398
         ],
         "yaxis": "y"
        },
        {
         "customdata": [
          [
           2004
          ],
          [
           2005
          ],
          [
           2006
          ],
          [
           2007
          ],
          [
           2008
          ],
          [
           2009
          ],
          [
           2010
          ],
          [
           2011
          ],
          [
           2012
          ]
         ],
         "hovertemplate": "variable=TOTAL IPC CRIMES<br>GDP=%{x}<br>value=%{y}<br>YEAR=%{customdata[0]}<extra></extra>",
         "legendgroup": "TOTAL IPC CRIMES",
         "line": {
          "color": "#FECB52",
          "dash": "solid"
         },
         "marker": {
          "symbol": "circle"
         },
         "mode": "markers+lines",
         "name": "TOTAL IPC CRIMES",
         "orientation": "v",
         "showlegend": true,
         "type": "scatter",
         "x": [
          9048.39,
          10390.13,
          11594.82,
          14241.18,
          15998.11,
          17628,
          22257,
          26862,
          30593
         ],
         "xaxis": "x",
         "y": [
          6960,
          6746,
          6440,
          7095,
          7307,
          7268,
          5218,
          5224,
          4465
         ],
         "yaxis": "y"
        }
       ],
       "layout": {
        "legend": {
         "title": {
          "text": "variable"
         },
         "tracegroupgap": 0
        },
        "template": {
         "data": {
          "bar": [
           {
            "error_x": {
             "color": "#2a3f5f"
            },
            "error_y": {
             "color": "#2a3f5f"
            },
            "marker": {
             "line": {
              "color": "#E5ECF6",
              "width": 0.5
             },
             "pattern": {
              "fillmode": "overlay",
              "size": 10,
              "solidity": 0.2
             }
            },
            "type": "bar"
           }
          ],
          "barpolar": [
           {
            "marker": {
             "line": {
              "color": "#E5ECF6",
              "width": 0.5
             },
             "pattern": {
              "fillmode": "overlay",
              "size": 10,
              "solidity": 0.2
             }
            },
            "type": "barpolar"
           }
          ],
          "carpet": [
           {
            "aaxis": {
             "endlinecolor": "#2a3f5f",
             "gridcolor": "white",
             "linecolor": "white",
             "minorgridcolor": "white",
             "startlinecolor": "#2a3f5f"
            },
            "baxis": {
             "endlinecolor": "#2a3f5f",
             "gridcolor": "white",
             "linecolor": "white",
             "minorgridcolor": "white",
             "startlinecolor": "#2a3f5f"
            },
            "type": "carpet"
           }
          ],
          "choropleth": [
           {
            "colorbar": {
             "outlinewidth": 0,
             "ticks": ""
            },
            "type": "choropleth"
           }
          ],
          "contour": [
           {
            "colorbar": {
             "outlinewidth": 0,
             "ticks": ""
            },
            "colorscale": [
             [
              0,
              "#0d0887"
             ],
             [
              0.1111111111111111,
              "#46039f"
             ],
             [
              0.2222222222222222,
              "#7201a8"
             ],
             [
              0.3333333333333333,
              "#9c179e"
             ],
             [
              0.4444444444444444,
              "#bd3786"
             ],
             [
              0.5555555555555556,
              "#d8576b"
             ],
             [
              0.6666666666666666,
              "#ed7953"
             ],
             [
              0.7777777777777778,
              "#fb9f3a"
             ],
             [
              0.8888888888888888,
              "#fdca26"
             ],
             [
              1,
              "#f0f921"
             ]
            ],
            "type": "contour"
           }
          ],
          "contourcarpet": [
           {
            "colorbar": {
             "outlinewidth": 0,
             "ticks": ""
            },
            "type": "contourcarpet"
           }
          ],
          "heatmap": [
           {
            "colorbar": {
             "outlinewidth": 0,
             "ticks": ""
            },
            "colorscale": [
             [
              0,
              "#0d0887"
             ],
             [
              0.1111111111111111,
              "#46039f"
             ],
             [
              0.2222222222222222,
              "#7201a8"
             ],
             [
              0.3333333333333333,
              "#9c179e"
             ],
             [
              0.4444444444444444,
              "#bd3786"
             ],
             [
              0.5555555555555556,
              "#d8576b"
             ],
             [
              0.6666666666666666,
              "#ed7953"
             ],
             [
              0.7777777777777778,
              "#fb9f3a"
             ],
             [
              0.8888888888888888,
              "#fdca26"
             ],
             [
              1,
              "#f0f921"
             ]
            ],
            "type": "heatmap"
           }
          ],
          "heatmapgl": [
           {
            "colorbar": {
             "outlinewidth": 0,
             "ticks": ""
            },
            "colorscale": [
             [
              0,
              "#0d0887"
             ],
             [
              0.1111111111111111,
              "#46039f"
             ],
             [
              0.2222222222222222,
              "#7201a8"
             ],
             [
              0.3333333333333333,
              "#9c179e"
             ],
             [
              0.4444444444444444,
              "#bd3786"
             ],
             [
              0.5555555555555556,
              "#d8576b"
             ],
             [
              0.6666666666666666,
              "#ed7953"
             ],
             [
              0.7777777777777778,
              "#fb9f3a"
             ],
             [
              0.8888888888888888,
              "#fdca26"
             ],
             [
              1,
              "#f0f921"
             ]
            ],
            "type": "heatmapgl"
           }
          ],
          "histogram": [
           {
            "marker": {
             "pattern": {
              "fillmode": "overlay",
              "size": 10,
              "solidity": 0.2
             }
            },
            "type": "histogram"
           }
          ],
          "histogram2d": [
           {
            "colorbar": {
             "outlinewidth": 0,
             "ticks": ""
            },
            "colorscale": [
             [
              0,
              "#0d0887"
             ],
             [
              0.1111111111111111,
              "#46039f"
             ],
             [
              0.2222222222222222,
              "#7201a8"
             ],
             [
              0.3333333333333333,
              "#9c179e"
             ],
             [
              0.4444444444444444,
              "#bd3786"
             ],
             [
              0.5555555555555556,
              "#d8576b"
             ],
             [
              0.6666666666666666,
              "#ed7953"
             ],
             [
              0.7777777777777778,
              "#fb9f3a"
             ],
             [
              0.8888888888888888,
              "#fdca26"
             ],
             [
              1,
              "#f0f921"
             ]
            ],
            "type": "histogram2d"
           }
          ],
          "histogram2dcontour": [
           {
            "colorbar": {
             "outlinewidth": 0,
             "ticks": ""
            },
            "colorscale": [
             [
              0,
              "#0d0887"
             ],
             [
              0.1111111111111111,
              "#46039f"
             ],
             [
              0.2222222222222222,
              "#7201a8"
             ],
             [
              0.3333333333333333,
              "#9c179e"
             ],
             [
              0.4444444444444444,
              "#bd3786"
             ],
             [
              0.5555555555555556,
              "#d8576b"
             ],
             [
              0.6666666666666666,
              "#ed7953"
             ],
             [
              0.7777777777777778,
              "#fb9f3a"
             ],
             [
              0.8888888888888888,
              "#fdca26"
             ],
             [
              1,
              "#f0f921"
             ]
            ],
            "type": "histogram2dcontour"
           }
          ],
          "mesh3d": [
           {
            "colorbar": {
             "outlinewidth": 0,
             "ticks": ""
            },
            "type": "mesh3d"
           }
          ],
          "parcoords": [
           {
            "line": {
             "colorbar": {
              "outlinewidth": 0,
              "ticks": ""
             }
            },
            "type": "parcoords"
           }
          ],
          "pie": [
           {
            "automargin": true,
            "type": "pie"
           }
          ],
          "scatter": [
           {
            "fillpattern": {
             "fillmode": "overlay",
             "size": 10,
             "solidity": 0.2
            },
            "type": "scatter"
           }
          ],
          "scatter3d": [
           {
            "line": {
             "colorbar": {
              "outlinewidth": 0,
              "ticks": ""
             }
            },
            "marker": {
             "colorbar": {
              "outlinewidth": 0,
              "ticks": ""
             }
            },
            "type": "scatter3d"
           }
          ],
          "scattercarpet": [
           {
            "marker": {
             "colorbar": {
              "outlinewidth": 0,
              "ticks": ""
             }
            },
            "type": "scattercarpet"
           }
          ],
          "scattergeo": [
           {
            "marker": {
             "colorbar": {
              "outlinewidth": 0,
              "ticks": ""
             }
            },
            "type": "scattergeo"
           }
          ],
          "scattergl": [
           {
            "marker": {
             "colorbar": {
              "outlinewidth": 0,
              "ticks": ""
             }
            },
            "type": "scattergl"
           }
          ],
          "scattermapbox": [
           {
            "marker": {
             "colorbar": {
              "outlinewidth": 0,
              "ticks": ""
             }
            },
            "type": "scattermapbox"
           }
          ],
          "scatterpolar": [
           {
            "marker": {
             "colorbar": {
              "outlinewidth": 0,
              "ticks": ""
             }
            },
            "type": "scatterpolar"
           }
          ],
          "scatterpolargl": [
           {
            "marker": {
             "colorbar": {
              "outlinewidth": 0,
              "ticks": ""
             }
            },
            "type": "scatterpolargl"
           }
          ],
          "scatterternary": [
           {
            "marker": {
             "colorbar": {
              "outlinewidth": 0,
              "ticks": ""
             }
            },
            "type": "scatterternary"
           }
          ],
          "surface": [
           {
            "colorbar": {
             "outlinewidth": 0,
             "ticks": ""
            },
            "colorscale": [
             [
              0,
              "#0d0887"
             ],
             [
              0.1111111111111111,
              "#46039f"
             ],
             [
              0.2222222222222222,
              "#7201a8"
             ],
             [
              0.3333333333333333,
              "#9c179e"
             ],
             [
              0.4444444444444444,
              "#bd3786"
             ],
             [
              0.5555555555555556,
              "#d8576b"
             ],
             [
              0.6666666666666666,
              "#ed7953"
             ],
             [
              0.7777777777777778,
              "#fb9f3a"
             ],
             [
              0.8888888888888888,
              "#fdca26"
             ],
             [
              1,
              "#f0f921"
             ]
            ],
            "type": "surface"
           }
          ],
          "table": [
           {
            "cells": {
             "fill": {
              "color": "#EBF0F8"
             },
             "line": {
              "color": "white"
             }
            },
            "header": {
             "fill": {
              "color": "#C8D4E3"
             },
             "line": {
              "color": "white"
             }
            },
            "type": "table"
           }
          ]
         },
         "layout": {
          "annotationdefaults": {
           "arrowcolor": "#2a3f5f",
           "arrowhead": 0,
           "arrowwidth": 1
          },
          "autotypenumbers": "strict",
          "coloraxis": {
           "colorbar": {
            "outlinewidth": 0,
            "ticks": ""
           }
          },
          "colorscale": {
           "diverging": [
            [
             0,
             "#8e0152"
            ],
            [
             0.1,
             "#c51b7d"
            ],
            [
             0.2,
             "#de77ae"
            ],
            [
             0.3,
             "#f1b6da"
            ],
            [
             0.4,
             "#fde0ef"
            ],
            [
             0.5,
             "#f7f7f7"
            ],
            [
             0.6,
             "#e6f5d0"
            ],
            [
             0.7,
             "#b8e186"
            ],
            [
             0.8,
             "#7fbc41"
            ],
            [
             0.9,
             "#4d9221"
            ],
            [
             1,
             "#276419"
            ]
           ],
           "sequential": [
            [
             0,
             "#0d0887"
            ],
            [
             0.1111111111111111,
             "#46039f"
            ],
            [
             0.2222222222222222,
             "#7201a8"
            ],
            [
             0.3333333333333333,
             "#9c179e"
            ],
            [
             0.4444444444444444,
             "#bd3786"
            ],
            [
             0.5555555555555556,
             "#d8576b"
            ],
            [
             0.6666666666666666,
             "#ed7953"
            ],
            [
             0.7777777777777778,
             "#fb9f3a"
            ],
            [
             0.8888888888888888,
             "#fdca26"
            ],
            [
             1,
             "#f0f921"
            ]
           ],
           "sequentialminus": [
            [
             0,
             "#0d0887"
            ],
            [
             0.1111111111111111,
             "#46039f"
            ],
            [
             0.2222222222222222,
             "#7201a8"
            ],
            [
             0.3333333333333333,
             "#9c179e"
            ],
            [
             0.4444444444444444,
             "#bd3786"
            ],
            [
             0.5555555555555556,
             "#d8576b"
            ],
            [
             0.6666666666666666,
             "#ed7953"
            ],
            [
             0.7777777777777778,
             "#fb9f3a"
            ],
            [
             0.8888888888888888,
             "#fdca26"
            ],
            [
             1,
             "#f0f921"
            ]
           ]
          },
          "colorway": [
           "#636efa",
           "#EF553B",
           "#00cc96",
           "#ab63fa",
           "#FFA15A",
           "#19d3f3",
           "#FF6692",
           "#B6E880",
           "#FF97FF",
           "#FECB52"
          ],
          "font": {
           "color": "#2a3f5f"
          },
          "geo": {
           "bgcolor": "white",
           "lakecolor": "white",
           "landcolor": "#E5ECF6",
           "showlakes": true,
           "showland": true,
           "subunitcolor": "white"
          },
          "hoverlabel": {
           "align": "left"
          },
          "hovermode": "closest",
          "mapbox": {
           "style": "light"
          },
          "paper_bgcolor": "white",
          "plot_bgcolor": "#E5ECF6",
          "polar": {
           "angularaxis": {
            "gridcolor": "white",
            "linecolor": "white",
            "ticks": ""
           },
           "bgcolor": "#E5ECF6",
           "radialaxis": {
            "gridcolor": "white",
            "linecolor": "white",
            "ticks": ""
           }
          },
          "scene": {
           "xaxis": {
            "backgroundcolor": "#E5ECF6",
            "gridcolor": "white",
            "gridwidth": 2,
            "linecolor": "white",
            "showbackground": true,
            "ticks": "",
            "zerolinecolor": "white"
           },
           "yaxis": {
            "backgroundcolor": "#E5ECF6",
            "gridcolor": "white",
            "gridwidth": 2,
            "linecolor": "white",
            "showbackground": true,
            "ticks": "",
            "zerolinecolor": "white"
           },
           "zaxis": {
            "backgroundcolor": "#E5ECF6",
            "gridcolor": "white",
            "gridwidth": 2,
            "linecolor": "white",
            "showbackground": true,
            "ticks": "",
            "zerolinecolor": "white"
           }
          },
          "shapedefaults": {
           "line": {
            "color": "#2a3f5f"
           }
          },
          "ternary": {
           "aaxis": {
            "gridcolor": "white",
            "linecolor": "white",
            "ticks": ""
           },
           "baxis": {
            "gridcolor": "white",
            "linecolor": "white",
            "ticks": ""
           },
           "bgcolor": "#E5ECF6",
           "caxis": {
            "gridcolor": "white",
            "linecolor": "white",
            "ticks": ""
           }
          },
          "title": {
           "x": 0.05
          },
          "xaxis": {
           "automargin": true,
           "gridcolor": "white",
           "linecolor": "white",
           "ticks": "",
           "title": {
            "standoff": 15
           },
           "zerolinecolor": "white",
           "zerolinewidth": 2
          },
          "yaxis": {
           "automargin": true,
           "gridcolor": "white",
           "linecolor": "white",
           "ticks": "",
           "title": {
            "standoff": 15
           },
           "zerolinecolor": "white",
           "zerolinewidth": 2
          }
         }
        },
        "title": {
         "text": "Crime type vs GDP for Chittoor"
        },
        "xaxis": {
         "anchor": "y",
         "domain": [
          0,
          1
         ],
         "title": {
          "text": "GDP"
         }
        },
        "yaxis": {
         "anchor": "x",
         "domain": [
          0,
          1
         ],
         "title": {
          "text": "value"
         }
        }
       }
      },
      "text/html": [
       "<div>                            <div id=\"04584aea-c0ee-4fbb-9ad2-8c4dae2ce8e4\" class=\"plotly-graph-div\" style=\"height:525px; width:100%;\"></div>            <script type=\"text/javascript\">                require([\"plotly\"], function(Plotly) {                    window.PLOTLYENV=window.PLOTLYENV || {};                                    if (document.getElementById(\"04584aea-c0ee-4fbb-9ad2-8c4dae2ce8e4\")) {                    Plotly.newPlot(                        \"04584aea-c0ee-4fbb-9ad2-8c4dae2ce8e4\",                        [{\"customdata\":[[2004],[2005],[2006],[2007],[2008],[2009],[2010],[2011],[2012]],\"hovertemplate\":\"variable=MURDER<br>GDP=%{x}<br>value=%{y}<br>YEAR=%{customdata[0]}<extra></extra>\",\"legendgroup\":\"MURDER\",\"line\":{\"color\":\"#636efa\",\"dash\":\"solid\"},\"marker\":{\"symbol\":\"circle\"},\"mode\":\"markers+lines\",\"name\":\"MURDER\",\"orientation\":\"v\",\"showlegend\":true,\"x\":[9048.39,10390.13,11594.82,14241.18,15998.11,17628.0,22257.0,26862.0,30593.0],\"xaxis\":\"x\",\"y\":[105,105,126,129,123,85,100,91,91],\"yaxis\":\"y\",\"type\":\"scatter\"},{\"customdata\":[[2004],[2005],[2006],[2007],[2008],[2009],[2010],[2011],[2012]],\"hovertemplate\":\"variable=ATTEMPT TO MURDER<br>GDP=%{x}<br>value=%{y}<br>YEAR=%{customdata[0]}<extra></extra>\",\"legendgroup\":\"ATTEMPT TO MURDER\",\"line\":{\"color\":\"#EF553B\",\"dash\":\"solid\"},\"marker\":{\"symbol\":\"circle\"},\"mode\":\"markers+lines\",\"name\":\"ATTEMPT TO MURDER\",\"orientation\":\"v\",\"showlegend\":true,\"x\":[9048.39,10390.13,11594.82,14241.18,15998.11,17628.0,22257.0,26862.0,30593.0],\"xaxis\":\"x\",\"y\":[52,40,59,72,65,68,50,55,75],\"yaxis\":\"y\",\"type\":\"scatter\"},{\"customdata\":[[2004],[2005],[2006],[2007],[2008],[2009],[2010],[2011],[2012]],\"hovertemplate\":\"variable=CULPABLE HOMICIDE NOT AMOUNTING TO MURDER<br>GDP=%{x}<br>value=%{y}<br>YEAR=%{customdata[0]}<extra></extra>\",\"legendgroup\":\"CULPABLE HOMICIDE NOT AMOUNTING TO MURDER\",\"line\":{\"color\":\"#00cc96\",\"dash\":\"solid\"},\"marker\":{\"symbol\":\"circle\"},\"mode\":\"markers+lines\",\"name\":\"CULPABLE HOMICIDE NOT AMOUNTING TO MURDER\",\"orientation\":\"v\",\"showlegend\":true,\"x\":[9048.39,10390.13,11594.82,14241.18,15998.11,17628.0,22257.0,26862.0,30593.0],\"xaxis\":\"x\",\"y\":[1,0,1,2,7,2,1,5,5],\"yaxis\":\"y\",\"type\":\"scatter\"},{\"customdata\":[[2004],[2005],[2006],[2007],[2008],[2009],[2010],[2011],[2012]],\"hovertemplate\":\"variable=RAPE<br>GDP=%{x}<br>value=%{y}<br>YEAR=%{customdata[0]}<extra></extra>\",\"legendgroup\":\"RAPE\",\"line\":{\"color\":\"#ab63fa\",\"dash\":\"solid\"},\"marker\":{\"symbol\":\"circle\"},\"mode\":\"markers+lines\",\"name\":\"RAPE\",\"orientation\":\"v\",\"showlegend\":true,\"x\":[9048.39,10390.13,11594.82,14241.18,15998.11,17628.0,22257.0,26862.0,30593.0],\"xaxis\":\"x\",\"y\":[28,35,31,31,30,33,44,17,28],\"yaxis\":\"y\",\"type\":\"scatter\"},{\"customdata\":[[2004],[2005],[2006],[2007],[2008],[2009],[2010],[2011],[2012]],\"hovertemplate\":\"variable=CUSTODIAL RAPE<br>GDP=%{x}<br>value=%{y}<br>YEAR=%{customdata[0]}<extra></extra>\",\"legendgroup\":\"CUSTODIAL RAPE\",\"line\":{\"color\":\"#FFA15A\",\"dash\":\"solid\"},\"marker\":{\"symbol\":\"circle\"},\"mode\":\"markers+lines\",\"name\":\"CUSTODIAL RAPE\",\"orientation\":\"v\",\"showlegend\":true,\"x\":[9048.39,10390.13,11594.82,14241.18,15998.11,17628.0,22257.0,26862.0,30593.0],\"xaxis\":\"x\",\"y\":[0,0,0,0,0,0,0,0,0],\"yaxis\":\"y\",\"type\":\"scatter\"},{\"customdata\":[[2004],[2005],[2006],[2007],[2008],[2009],[2010],[2011],[2012]],\"hovertemplate\":\"variable=OTHER RAPE<br>GDP=%{x}<br>value=%{y}<br>YEAR=%{customdata[0]}<extra></extra>\",\"legendgroup\":\"OTHER RAPE\",\"line\":{\"color\":\"#19d3f3\",\"dash\":\"solid\"},\"marker\":{\"symbol\":\"circle\"},\"mode\":\"markers+lines\",\"name\":\"OTHER RAPE\",\"orientation\":\"v\",\"showlegend\":true,\"x\":[9048.39,10390.13,11594.82,14241.18,15998.11,17628.0,22257.0,26862.0,30593.0],\"xaxis\":\"x\",\"y\":[28,35,31,31,30,33,44,17,28],\"yaxis\":\"y\",\"type\":\"scatter\"},{\"customdata\":[[2004],[2005],[2006],[2007],[2008],[2009],[2010],[2011],[2012]],\"hovertemplate\":\"variable=KIDNAPPING & ABDUCTION<br>GDP=%{x}<br>value=%{y}<br>YEAR=%{customdata[0]}<extra></extra>\",\"legendgroup\":\"KIDNAPPING & ABDUCTION\",\"line\":{\"color\":\"#FF6692\",\"dash\":\"solid\"},\"marker\":{\"symbol\":\"circle\"},\"mode\":\"markers+lines\",\"name\":\"KIDNAPPING & ABDUCTION\",\"orientation\":\"v\",\"showlegend\":true,\"x\":[9048.39,10390.13,11594.82,14241.18,15998.11,17628.0,22257.0,26862.0,30593.0],\"xaxis\":\"x\",\"y\":[69,72,65,102,84,74,85,84,56],\"yaxis\":\"y\",\"type\":\"scatter\"},{\"customdata\":[[2004],[2005],[2006],[2007],[2008],[2009],[2010],[2011],[2012]],\"hovertemplate\":\"variable=KIDNAPPING AND ABDUCTION OF WOMEN AND GIRLS<br>GDP=%{x}<br>value=%{y}<br>YEAR=%{customdata[0]}<extra></extra>\",\"legendgroup\":\"KIDNAPPING AND ABDUCTION OF WOMEN AND GIRLS\",\"line\":{\"color\":\"#B6E880\",\"dash\":\"solid\"},\"marker\":{\"symbol\":\"circle\"},\"mode\":\"markers+lines\",\"name\":\"KIDNAPPING AND ABDUCTION OF WOMEN AND GIRLS\",\"orientation\":\"v\",\"showlegend\":true,\"x\":[9048.39,10390.13,11594.82,14241.18,15998.11,17628.0,22257.0,26862.0,30593.0],\"xaxis\":\"x\",\"y\":[27,58,37,47,57,46,56,47,49],\"yaxis\":\"y\",\"type\":\"scatter\"},{\"customdata\":[[2004],[2005],[2006],[2007],[2008],[2009],[2010],[2011],[2012]],\"hovertemplate\":\"variable=KIDNAPPING AND ABDUCTION OF OTHERS<br>GDP=%{x}<br>value=%{y}<br>YEAR=%{customdata[0]}<extra></extra>\",\"legendgroup\":\"KIDNAPPING AND ABDUCTION OF OTHERS\",\"line\":{\"color\":\"#FF97FF\",\"dash\":\"solid\"},\"marker\":{\"symbol\":\"circle\"},\"mode\":\"markers+lines\",\"name\":\"KIDNAPPING AND ABDUCTION OF OTHERS\",\"orientation\":\"v\",\"showlegend\":true,\"x\":[9048.39,10390.13,11594.82,14241.18,15998.11,17628.0,22257.0,26862.0,30593.0],\"xaxis\":\"x\",\"y\":[42,14,28,55,27,28,29,37,7],\"yaxis\":\"y\",\"type\":\"scatter\"},{\"customdata\":[[2004],[2005],[2006],[2007],[2008],[2009],[2010],[2011],[2012]],\"hovertemplate\":\"variable=DACOITY<br>GDP=%{x}<br>value=%{y}<br>YEAR=%{customdata[0]}<extra></extra>\",\"legendgroup\":\"DACOITY\",\"line\":{\"color\":\"#FECB52\",\"dash\":\"solid\"},\"marker\":{\"symbol\":\"circle\"},\"mode\":\"markers+lines\",\"name\":\"DACOITY\",\"orientation\":\"v\",\"showlegend\":true,\"x\":[9048.39,10390.13,11594.82,14241.18,15998.11,17628.0,22257.0,26862.0,30593.0],\"xaxis\":\"x\",\"y\":[8,9,13,27,6,4,8,5,3],\"yaxis\":\"y\",\"type\":\"scatter\"},{\"customdata\":[[2004],[2005],[2006],[2007],[2008],[2009],[2010],[2011],[2012]],\"hovertemplate\":\"variable=PREPARATION AND ASSEMBLY FOR DACOITY<br>GDP=%{x}<br>value=%{y}<br>YEAR=%{customdata[0]}<extra></extra>\",\"legendgroup\":\"PREPARATION AND ASSEMBLY FOR DACOITY\",\"line\":{\"color\":\"#636efa\",\"dash\":\"solid\"},\"marker\":{\"symbol\":\"circle\"},\"mode\":\"markers+lines\",\"name\":\"PREPARATION AND ASSEMBLY FOR DACOITY\",\"orientation\":\"v\",\"showlegend\":true,\"x\":[9048.39,10390.13,11594.82,14241.18,15998.11,17628.0,22257.0,26862.0,30593.0],\"xaxis\":\"x\",\"y\":[0,0,0,0,0,0,0,0,0],\"yaxis\":\"y\",\"type\":\"scatter\"},{\"customdata\":[[2004],[2005],[2006],[2007],[2008],[2009],[2010],[2011],[2012]],\"hovertemplate\":\"variable=ROBBERY<br>GDP=%{x}<br>value=%{y}<br>YEAR=%{customdata[0]}<extra></extra>\",\"legendgroup\":\"ROBBERY\",\"line\":{\"color\":\"#EF553B\",\"dash\":\"solid\"},\"marker\":{\"symbol\":\"circle\"},\"mode\":\"markers+lines\",\"name\":\"ROBBERY\",\"orientation\":\"v\",\"showlegend\":true,\"x\":[9048.39,10390.13,11594.82,14241.18,15998.11,17628.0,22257.0,26862.0,30593.0],\"xaxis\":\"x\",\"y\":[17,24,19,25,20,17,12,17,10],\"yaxis\":\"y\",\"type\":\"scatter\"},{\"customdata\":[[2004],[2005],[2006],[2007],[2008],[2009],[2010],[2011],[2012]],\"hovertemplate\":\"variable=BURGLARY<br>GDP=%{x}<br>value=%{y}<br>YEAR=%{customdata[0]}<extra></extra>\",\"legendgroup\":\"BURGLARY\",\"line\":{\"color\":\"#00cc96\",\"dash\":\"solid\"},\"marker\":{\"symbol\":\"circle\"},\"mode\":\"markers+lines\",\"name\":\"BURGLARY\",\"orientation\":\"v\",\"showlegend\":true,\"x\":[9048.39,10390.13,11594.82,14241.18,15998.11,17628.0,22257.0,26862.0,30593.0],\"xaxis\":\"x\",\"y\":[337,281,238,217,260,251,149,159,136],\"yaxis\":\"y\",\"type\":\"scatter\"},{\"customdata\":[[2004],[2005],[2006],[2007],[2008],[2009],[2010],[2011],[2012]],\"hovertemplate\":\"variable=THEFT<br>GDP=%{x}<br>value=%{y}<br>YEAR=%{customdata[0]}<extra></extra>\",\"legendgroup\":\"THEFT\",\"line\":{\"color\":\"#ab63fa\",\"dash\":\"solid\"},\"marker\":{\"symbol\":\"circle\"},\"mode\":\"markers+lines\",\"name\":\"THEFT\",\"orientation\":\"v\",\"showlegend\":true,\"x\":[9048.39,10390.13,11594.82,14241.18,15998.11,17628.0,22257.0,26862.0,30593.0],\"xaxis\":\"x\",\"y\":[1055,1269,1037,1134,1321,1208,484,612,501],\"yaxis\":\"y\",\"type\":\"scatter\"},{\"customdata\":[[2004],[2005],[2006],[2007],[2008],[2009],[2010],[2011],[2012]],\"hovertemplate\":\"variable=AUTO THEFT<br>GDP=%{x}<br>value=%{y}<br>YEAR=%{customdata[0]}<extra></extra>\",\"legendgroup\":\"AUTO THEFT\",\"line\":{\"color\":\"#FFA15A\",\"dash\":\"solid\"},\"marker\":{\"symbol\":\"circle\"},\"mode\":\"markers+lines\",\"name\":\"AUTO THEFT\",\"orientation\":\"v\",\"showlegend\":true,\"x\":[9048.39,10390.13,11594.82,14241.18,15998.11,17628.0,22257.0,26862.0,30593.0],\"xaxis\":\"x\",\"y\":[221,87,194,302,420,521,116,245,208],\"yaxis\":\"y\",\"type\":\"scatter\"},{\"customdata\":[[2004],[2005],[2006],[2007],[2008],[2009],[2010],[2011],[2012]],\"hovertemplate\":\"variable=OTHER THEFT<br>GDP=%{x}<br>value=%{y}<br>YEAR=%{customdata[0]}<extra></extra>\",\"legendgroup\":\"OTHER THEFT\",\"line\":{\"color\":\"#19d3f3\",\"dash\":\"solid\"},\"marker\":{\"symbol\":\"circle\"},\"mode\":\"markers+lines\",\"name\":\"OTHER THEFT\",\"orientation\":\"v\",\"showlegend\":true,\"x\":[9048.39,10390.13,11594.82,14241.18,15998.11,17628.0,22257.0,26862.0,30593.0],\"xaxis\":\"x\",\"y\":[834,1182,843,832,901,687,368,367,293],\"yaxis\":\"y\",\"type\":\"scatter\"},{\"customdata\":[[2004],[2005],[2006],[2007],[2008],[2009],[2010],[2011],[2012]],\"hovertemplate\":\"variable=RIOTS<br>GDP=%{x}<br>value=%{y}<br>YEAR=%{customdata[0]}<extra></extra>\",\"legendgroup\":\"RIOTS\",\"line\":{\"color\":\"#FF6692\",\"dash\":\"solid\"},\"marker\":{\"symbol\":\"circle\"},\"mode\":\"markers+lines\",\"name\":\"RIOTS\",\"orientation\":\"v\",\"showlegend\":true,\"x\":[9048.39,10390.13,11594.82,14241.18,15998.11,17628.0,22257.0,26862.0,30593.0],\"xaxis\":\"x\",\"y\":[82,87,95,74,64,104,58,84,32],\"yaxis\":\"y\",\"type\":\"scatter\"},{\"customdata\":[[2004],[2005],[2006],[2007],[2008],[2009],[2010],[2011],[2012]],\"hovertemplate\":\"variable=CRIMINAL BREACH OF TRUST<br>GDP=%{x}<br>value=%{y}<br>YEAR=%{customdata[0]}<extra></extra>\",\"legendgroup\":\"CRIMINAL BREACH OF TRUST\",\"line\":{\"color\":\"#B6E880\",\"dash\":\"solid\"},\"marker\":{\"symbol\":\"circle\"},\"mode\":\"markers+lines\",\"name\":\"CRIMINAL BREACH OF TRUST\",\"orientation\":\"v\",\"showlegend\":true,\"x\":[9048.39,10390.13,11594.82,14241.18,15998.11,17628.0,22257.0,26862.0,30593.0],\"xaxis\":\"x\",\"y\":[26,32,29,26,29,25,16,21,9],\"yaxis\":\"y\",\"type\":\"scatter\"},{\"customdata\":[[2004],[2005],[2006],[2007],[2008],[2009],[2010],[2011],[2012]],\"hovertemplate\":\"variable=CHEATING<br>GDP=%{x}<br>value=%{y}<br>YEAR=%{customdata[0]}<extra></extra>\",\"legendgroup\":\"CHEATING\",\"line\":{\"color\":\"#FF97FF\",\"dash\":\"solid\"},\"marker\":{\"symbol\":\"circle\"},\"mode\":\"markers+lines\",\"name\":\"CHEATING\",\"orientation\":\"v\",\"showlegend\":true,\"x\":[9048.39,10390.13,11594.82,14241.18,15998.11,17628.0,22257.0,26862.0,30593.0],\"xaxis\":\"x\",\"y\":[267,222,181,248,295,276,152,163,217],\"yaxis\":\"y\",\"type\":\"scatter\"},{\"customdata\":[[2004],[2005],[2006],[2007],[2008],[2009],[2010],[2011],[2012]],\"hovertemplate\":\"variable=COUNTERFIETING<br>GDP=%{x}<br>value=%{y}<br>YEAR=%{customdata[0]}<extra></extra>\",\"legendgroup\":\"COUNTERFIETING\",\"line\":{\"color\":\"#FECB52\",\"dash\":\"solid\"},\"marker\":{\"symbol\":\"circle\"},\"mode\":\"markers+lines\",\"name\":\"COUNTERFIETING\",\"orientation\":\"v\",\"showlegend\":true,\"x\":[9048.39,10390.13,11594.82,14241.18,15998.11,17628.0,22257.0,26862.0,30593.0],\"xaxis\":\"x\",\"y\":[3,10,48,5,20,32,7,10,4],\"yaxis\":\"y\",\"type\":\"scatter\"},{\"customdata\":[[2004],[2005],[2006],[2007],[2008],[2009],[2010],[2011],[2012]],\"hovertemplate\":\"variable=ARSON<br>GDP=%{x}<br>value=%{y}<br>YEAR=%{customdata[0]}<extra></extra>\",\"legendgroup\":\"ARSON\",\"line\":{\"color\":\"#636efa\",\"dash\":\"solid\"},\"marker\":{\"symbol\":\"circle\"},\"mode\":\"markers+lines\",\"name\":\"ARSON\",\"orientation\":\"v\",\"showlegend\":true,\"x\":[9048.39,10390.13,11594.82,14241.18,15998.11,17628.0,22257.0,26862.0,30593.0],\"xaxis\":\"x\",\"y\":[30,30,22,48,33,45,19,57,27],\"yaxis\":\"y\",\"type\":\"scatter\"},{\"customdata\":[[2004],[2005],[2006],[2007],[2008],[2009],[2010],[2011],[2012]],\"hovertemplate\":\"variable=HURT/GREVIOUS HURT<br>GDP=%{x}<br>value=%{y}<br>YEAR=%{customdata[0]}<extra></extra>\",\"legendgroup\":\"HURT/GREVIOUS HURT\",\"line\":{\"color\":\"#EF553B\",\"dash\":\"solid\"},\"marker\":{\"symbol\":\"circle\"},\"mode\":\"markers+lines\",\"name\":\"HURT/GREVIOUS HURT\",\"orientation\":\"v\",\"showlegend\":true,\"x\":[9048.39,10390.13,11594.82,14241.18,15998.11,17628.0,22257.0,26862.0,30593.0],\"xaxis\":\"x\",\"y\":[1065,891,996,1101,1017,1040,827,1848,622],\"yaxis\":\"y\",\"type\":\"scatter\"},{\"customdata\":[[2004],[2005],[2006],[2007],[2008],[2009],[2010],[2011],[2012]],\"hovertemplate\":\"variable=DOWRY DEATHS<br>GDP=%{x}<br>value=%{y}<br>YEAR=%{customdata[0]}<extra></extra>\",\"legendgroup\":\"DOWRY DEATHS\",\"line\":{\"color\":\"#00cc96\",\"dash\":\"solid\"},\"marker\":{\"symbol\":\"circle\"},\"mode\":\"markers+lines\",\"name\":\"DOWRY DEATHS\",\"orientation\":\"v\",\"showlegend\":true,\"x\":[9048.39,10390.13,11594.82,14241.18,15998.11,17628.0,22257.0,26862.0,30593.0],\"xaxis\":\"x\",\"y\":[22,9,18,25,26,19,32,25,33],\"yaxis\":\"y\",\"type\":\"scatter\"},{\"customdata\":[[2004],[2005],[2006],[2007],[2008],[2009],[2010],[2011],[2012]],\"hovertemplate\":\"variable=ASSAULT ON WOMEN WITH INTENT TO OUTRAGE HER MODESTY<br>GDP=%{x}<br>value=%{y}<br>YEAR=%{customdata[0]}<extra></extra>\",\"legendgroup\":\"ASSAULT ON WOMEN WITH INTENT TO OUTRAGE HER MODESTY\",\"line\":{\"color\":\"#ab63fa\",\"dash\":\"solid\"},\"marker\":{\"symbol\":\"circle\"},\"mode\":\"markers+lines\",\"name\":\"ASSAULT ON WOMEN WITH INTENT TO OUTRAGE HER MODESTY\",\"orientation\":\"v\",\"showlegend\":true,\"x\":[9048.39,10390.13,11594.82,14241.18,15998.11,17628.0,22257.0,26862.0,30593.0],\"xaxis\":\"x\",\"y\":[116,91,123,118,104,120,136,124,90],\"yaxis\":\"y\",\"type\":\"scatter\"},{\"customdata\":[[2004],[2005],[2006],[2007],[2008],[2009],[2010],[2011],[2012]],\"hovertemplate\":\"variable=INSULT TO MODESTY OF WOMEN<br>GDP=%{x}<br>value=%{y}<br>YEAR=%{customdata[0]}<extra></extra>\",\"legendgroup\":\"INSULT TO MODESTY OF WOMEN\",\"line\":{\"color\":\"#FFA15A\",\"dash\":\"solid\"},\"marker\":{\"symbol\":\"circle\"},\"mode\":\"markers+lines\",\"name\":\"INSULT TO MODESTY OF WOMEN\",\"orientation\":\"v\",\"showlegend\":true,\"x\":[9048.39,10390.13,11594.82,14241.18,15998.11,17628.0,22257.0,26862.0,30593.0],\"xaxis\":\"x\",\"y\":[197,223,190,197,250,268,121,168,269],\"yaxis\":\"y\",\"type\":\"scatter\"},{\"customdata\":[[2004],[2005],[2006],[2007],[2008],[2009],[2010],[2011],[2012]],\"hovertemplate\":\"variable=CRUELTY BY HUSBAND OR HIS RELATIVES<br>GDP=%{x}<br>value=%{y}<br>YEAR=%{customdata[0]}<extra></extra>\",\"legendgroup\":\"CRUELTY BY HUSBAND OR HIS RELATIVES\",\"line\":{\"color\":\"#19d3f3\",\"dash\":\"solid\"},\"marker\":{\"symbol\":\"circle\"},\"mode\":\"markers+lines\",\"name\":\"CRUELTY BY HUSBAND OR HIS RELATIVES\",\"orientation\":\"v\",\"showlegend\":true,\"x\":[9048.39,10390.13,11594.82,14241.18,15998.11,17628.0,22257.0,26862.0,30593.0],\"xaxis\":\"x\",\"y\":[234,202,249,395,288,333,388,421,339],\"yaxis\":\"y\",\"type\":\"scatter\"},{\"customdata\":[[2004],[2005],[2006],[2007],[2008],[2009],[2010],[2011],[2012]],\"hovertemplate\":\"variable=IMPORTATION OF GIRLS FROM FOREIGN COUNTRIES<br>GDP=%{x}<br>value=%{y}<br>YEAR=%{customdata[0]}<extra></extra>\",\"legendgroup\":\"IMPORTATION OF GIRLS FROM FOREIGN COUNTRIES\",\"line\":{\"color\":\"#FF6692\",\"dash\":\"solid\"},\"marker\":{\"symbol\":\"circle\"},\"mode\":\"markers+lines\",\"name\":\"IMPORTATION OF GIRLS FROM FOREIGN COUNTRIES\",\"orientation\":\"v\",\"showlegend\":true,\"x\":[9048.39,10390.13,11594.82,14241.18,15998.11,17628.0,22257.0,26862.0,30593.0],\"xaxis\":\"x\",\"y\":[0,0,0,0,0,0,0,0,0],\"yaxis\":\"y\",\"type\":\"scatter\"},{\"customdata\":[[2004],[2005],[2006],[2007],[2008],[2009],[2010],[2011],[2012]],\"hovertemplate\":\"variable=CAUSING DEATH BY NEGLIGENCE<br>GDP=%{x}<br>value=%{y}<br>YEAR=%{customdata[0]}<extra></extra>\",\"legendgroup\":\"CAUSING DEATH BY NEGLIGENCE\",\"line\":{\"color\":\"#B6E880\",\"dash\":\"solid\"},\"marker\":{\"symbol\":\"circle\"},\"mode\":\"markers+lines\",\"name\":\"CAUSING DEATH BY NEGLIGENCE\",\"orientation\":\"v\",\"showlegend\":true,\"x\":[9048.39,10390.13,11594.82,14241.18,15998.11,17628.0,22257.0,26862.0,30593.0],\"xaxis\":\"x\",\"y\":[2058,541,563,620,730,682,552,500,520],\"yaxis\":\"y\",\"type\":\"scatter\"},{\"customdata\":[[2004],[2005],[2006],[2007],[2008],[2009],[2010],[2011],[2012]],\"hovertemplate\":\"variable=OTHER IPC CRIMES<br>GDP=%{x}<br>value=%{y}<br>YEAR=%{customdata[0]}<extra></extra>\",\"legendgroup\":\"OTHER IPC CRIMES\",\"line\":{\"color\":\"#FF97FF\",\"dash\":\"solid\"},\"marker\":{\"symbol\":\"circle\"},\"mode\":\"markers+lines\",\"name\":\"OTHER IPC CRIMES\",\"orientation\":\"v\",\"showlegend\":true,\"x\":[9048.39,10390.13,11594.82,14241.18,15998.11,17628.0,22257.0,26862.0,30593.0],\"xaxis\":\"x\",\"y\":[1188,2573,2337,2499,2535,2582,1977,758,1398],\"yaxis\":\"y\",\"type\":\"scatter\"},{\"customdata\":[[2004],[2005],[2006],[2007],[2008],[2009],[2010],[2011],[2012]],\"hovertemplate\":\"variable=TOTAL IPC CRIMES<br>GDP=%{x}<br>value=%{y}<br>YEAR=%{customdata[0]}<extra></extra>\",\"legendgroup\":\"TOTAL IPC CRIMES\",\"line\":{\"color\":\"#FECB52\",\"dash\":\"solid\"},\"marker\":{\"symbol\":\"circle\"},\"mode\":\"markers+lines\",\"name\":\"TOTAL IPC CRIMES\",\"orientation\":\"v\",\"showlegend\":true,\"x\":[9048.39,10390.13,11594.82,14241.18,15998.11,17628.0,22257.0,26862.0,30593.0],\"xaxis\":\"x\",\"y\":[6960,6746,6440,7095,7307,7268,5218,5224,4465],\"yaxis\":\"y\",\"type\":\"scatter\"}],                        {\"template\":{\"data\":{\"histogram2dcontour\":[{\"type\":\"histogram2dcontour\",\"colorbar\":{\"outlinewidth\":0,\"ticks\":\"\"},\"colorscale\":[[0.0,\"#0d0887\"],[0.1111111111111111,\"#46039f\"],[0.2222222222222222,\"#7201a8\"],[0.3333333333333333,\"#9c179e\"],[0.4444444444444444,\"#bd3786\"],[0.5555555555555556,\"#d8576b\"],[0.6666666666666666,\"#ed7953\"],[0.7777777777777778,\"#fb9f3a\"],[0.8888888888888888,\"#fdca26\"],[1.0,\"#f0f921\"]]}],\"choropleth\":[{\"type\":\"choropleth\",\"colorbar\":{\"outlinewidth\":0,\"ticks\":\"\"}}],\"histogram2d\":[{\"type\":\"histogram2d\",\"colorbar\":{\"outlinewidth\":0,\"ticks\":\"\"},\"colorscale\":[[0.0,\"#0d0887\"],[0.1111111111111111,\"#46039f\"],[0.2222222222222222,\"#7201a8\"],[0.3333333333333333,\"#9c179e\"],[0.4444444444444444,\"#bd3786\"],[0.5555555555555556,\"#d8576b\"],[0.6666666666666666,\"#ed7953\"],[0.7777777777777778,\"#fb9f3a\"],[0.8888888888888888,\"#fdca26\"],[1.0,\"#f0f921\"]]}],\"heatmap\":[{\"type\":\"heatmap\",\"colorbar\":{\"outlinewidth\":0,\"ticks\":\"\"},\"colorscale\":[[0.0,\"#0d0887\"],[0.1111111111111111,\"#46039f\"],[0.2222222222222222,\"#7201a8\"],[0.3333333333333333,\"#9c179e\"],[0.4444444444444444,\"#bd3786\"],[0.5555555555555556,\"#d8576b\"],[0.6666666666666666,\"#ed7953\"],[0.7777777777777778,\"#fb9f3a\"],[0.8888888888888888,\"#fdca26\"],[1.0,\"#f0f921\"]]}],\"heatmapgl\":[{\"type\":\"heatmapgl\",\"colorbar\":{\"outlinewidth\":0,\"ticks\":\"\"},\"colorscale\":[[0.0,\"#0d0887\"],[0.1111111111111111,\"#46039f\"],[0.2222222222222222,\"#7201a8\"],[0.3333333333333333,\"#9c179e\"],[0.4444444444444444,\"#bd3786\"],[0.5555555555555556,\"#d8576b\"],[0.6666666666666666,\"#ed7953\"],[0.7777777777777778,\"#fb9f3a\"],[0.8888888888888888,\"#fdca26\"],[1.0,\"#f0f921\"]]}],\"contourcarpet\":[{\"type\":\"contourcarpet\",\"colorbar\":{\"outlinewidth\":0,\"ticks\":\"\"}}],\"contour\":[{\"type\":\"contour\",\"colorbar\":{\"outlinewidth\":0,\"ticks\":\"\"},\"colorscale\":[[0.0,\"#0d0887\"],[0.1111111111111111,\"#46039f\"],[0.2222222222222222,\"#7201a8\"],[0.3333333333333333,\"#9c179e\"],[0.4444444444444444,\"#bd3786\"],[0.5555555555555556,\"#d8576b\"],[0.6666666666666666,\"#ed7953\"],[0.7777777777777778,\"#fb9f3a\"],[0.8888888888888888,\"#fdca26\"],[1.0,\"#f0f921\"]]}],\"surface\":[{\"type\":\"surface\",\"colorbar\":{\"outlinewidth\":0,\"ticks\":\"\"},\"colorscale\":[[0.0,\"#0d0887\"],[0.1111111111111111,\"#46039f\"],[0.2222222222222222,\"#7201a8\"],[0.3333333333333333,\"#9c179e\"],[0.4444444444444444,\"#bd3786\"],[0.5555555555555556,\"#d8576b\"],[0.6666666666666666,\"#ed7953\"],[0.7777777777777778,\"#fb9f3a\"],[0.8888888888888888,\"#fdca26\"],[1.0,\"#f0f921\"]]}],\"mesh3d\":[{\"type\":\"mesh3d\",\"colorbar\":{\"outlinewidth\":0,\"ticks\":\"\"}}],\"scatter\":[{\"fillpattern\":{\"fillmode\":\"overlay\",\"size\":10,\"solidity\":0.2},\"type\":\"scatter\"}],\"parcoords\":[{\"type\":\"parcoords\",\"line\":{\"colorbar\":{\"outlinewidth\":0,\"ticks\":\"\"}}}],\"scatterpolargl\":[{\"type\":\"scatterpolargl\",\"marker\":{\"colorbar\":{\"outlinewidth\":0,\"ticks\":\"\"}}}],\"bar\":[{\"error_x\":{\"color\":\"#2a3f5f\"},\"error_y\":{\"color\":\"#2a3f5f\"},\"marker\":{\"line\":{\"color\":\"#E5ECF6\",\"width\":0.5},\"pattern\":{\"fillmode\":\"overlay\",\"size\":10,\"solidity\":0.2}},\"type\":\"bar\"}],\"scattergeo\":[{\"type\":\"scattergeo\",\"marker\":{\"colorbar\":{\"outlinewidth\":0,\"ticks\":\"\"}}}],\"scatterpolar\":[{\"type\":\"scatterpolar\",\"marker\":{\"colorbar\":{\"outlinewidth\":0,\"ticks\":\"\"}}}],\"histogram\":[{\"marker\":{\"pattern\":{\"fillmode\":\"overlay\",\"size\":10,\"solidity\":0.2}},\"type\":\"histogram\"}],\"scattergl\":[{\"type\":\"scattergl\",\"marker\":{\"colorbar\":{\"outlinewidth\":0,\"ticks\":\"\"}}}],\"scatter3d\":[{\"type\":\"scatter3d\",\"line\":{\"colorbar\":{\"outlinewidth\":0,\"ticks\":\"\"}},\"marker\":{\"colorbar\":{\"outlinewidth\":0,\"ticks\":\"\"}}}],\"scattermapbox\":[{\"type\":\"scattermapbox\",\"marker\":{\"colorbar\":{\"outlinewidth\":0,\"ticks\":\"\"}}}],\"scatterternary\":[{\"type\":\"scatterternary\",\"marker\":{\"colorbar\":{\"outlinewidth\":0,\"ticks\":\"\"}}}],\"scattercarpet\":[{\"type\":\"scattercarpet\",\"marker\":{\"colorbar\":{\"outlinewidth\":0,\"ticks\":\"\"}}}],\"carpet\":[{\"aaxis\":{\"endlinecolor\":\"#2a3f5f\",\"gridcolor\":\"white\",\"linecolor\":\"white\",\"minorgridcolor\":\"white\",\"startlinecolor\":\"#2a3f5f\"},\"baxis\":{\"endlinecolor\":\"#2a3f5f\",\"gridcolor\":\"white\",\"linecolor\":\"white\",\"minorgridcolor\":\"white\",\"startlinecolor\":\"#2a3f5f\"},\"type\":\"carpet\"}],\"table\":[{\"cells\":{\"fill\":{\"color\":\"#EBF0F8\"},\"line\":{\"color\":\"white\"}},\"header\":{\"fill\":{\"color\":\"#C8D4E3\"},\"line\":{\"color\":\"white\"}},\"type\":\"table\"}],\"barpolar\":[{\"marker\":{\"line\":{\"color\":\"#E5ECF6\",\"width\":0.5},\"pattern\":{\"fillmode\":\"overlay\",\"size\":10,\"solidity\":0.2}},\"type\":\"barpolar\"}],\"pie\":[{\"automargin\":true,\"type\":\"pie\"}]},\"layout\":{\"autotypenumbers\":\"strict\",\"colorway\":[\"#636efa\",\"#EF553B\",\"#00cc96\",\"#ab63fa\",\"#FFA15A\",\"#19d3f3\",\"#FF6692\",\"#B6E880\",\"#FF97FF\",\"#FECB52\"],\"font\":{\"color\":\"#2a3f5f\"},\"hovermode\":\"closest\",\"hoverlabel\":{\"align\":\"left\"},\"paper_bgcolor\":\"white\",\"plot_bgcolor\":\"#E5ECF6\",\"polar\":{\"bgcolor\":\"#E5ECF6\",\"angularaxis\":{\"gridcolor\":\"white\",\"linecolor\":\"white\",\"ticks\":\"\"},\"radialaxis\":{\"gridcolor\":\"white\",\"linecolor\":\"white\",\"ticks\":\"\"}},\"ternary\":{\"bgcolor\":\"#E5ECF6\",\"aaxis\":{\"gridcolor\":\"white\",\"linecolor\":\"white\",\"ticks\":\"\"},\"baxis\":{\"gridcolor\":\"white\",\"linecolor\":\"white\",\"ticks\":\"\"},\"caxis\":{\"gridcolor\":\"white\",\"linecolor\":\"white\",\"ticks\":\"\"}},\"coloraxis\":{\"colorbar\":{\"outlinewidth\":0,\"ticks\":\"\"}},\"colorscale\":{\"sequential\":[[0.0,\"#0d0887\"],[0.1111111111111111,\"#46039f\"],[0.2222222222222222,\"#7201a8\"],[0.3333333333333333,\"#9c179e\"],[0.4444444444444444,\"#bd3786\"],[0.5555555555555556,\"#d8576b\"],[0.6666666666666666,\"#ed7953\"],[0.7777777777777778,\"#fb9f3a\"],[0.8888888888888888,\"#fdca26\"],[1.0,\"#f0f921\"]],\"sequentialminus\":[[0.0,\"#0d0887\"],[0.1111111111111111,\"#46039f\"],[0.2222222222222222,\"#7201a8\"],[0.3333333333333333,\"#9c179e\"],[0.4444444444444444,\"#bd3786\"],[0.5555555555555556,\"#d8576b\"],[0.6666666666666666,\"#ed7953\"],[0.7777777777777778,\"#fb9f3a\"],[0.8888888888888888,\"#fdca26\"],[1.0,\"#f0f921\"]],\"diverging\":[[0,\"#8e0152\"],[0.1,\"#c51b7d\"],[0.2,\"#de77ae\"],[0.3,\"#f1b6da\"],[0.4,\"#fde0ef\"],[0.5,\"#f7f7f7\"],[0.6,\"#e6f5d0\"],[0.7,\"#b8e186\"],[0.8,\"#7fbc41\"],[0.9,\"#4d9221\"],[1,\"#276419\"]]},\"xaxis\":{\"gridcolor\":\"white\",\"linecolor\":\"white\",\"ticks\":\"\",\"title\":{\"standoff\":15},\"zerolinecolor\":\"white\",\"automargin\":true,\"zerolinewidth\":2},\"yaxis\":{\"gridcolor\":\"white\",\"linecolor\":\"white\",\"ticks\":\"\",\"title\":{\"standoff\":15},\"zerolinecolor\":\"white\",\"automargin\":true,\"zerolinewidth\":2},\"scene\":{\"xaxis\":{\"backgroundcolor\":\"#E5ECF6\",\"gridcolor\":\"white\",\"linecolor\":\"white\",\"showbackground\":true,\"ticks\":\"\",\"zerolinecolor\":\"white\",\"gridwidth\":2},\"yaxis\":{\"backgroundcolor\":\"#E5ECF6\",\"gridcolor\":\"white\",\"linecolor\":\"white\",\"showbackground\":true,\"ticks\":\"\",\"zerolinecolor\":\"white\",\"gridwidth\":2},\"zaxis\":{\"backgroundcolor\":\"#E5ECF6\",\"gridcolor\":\"white\",\"linecolor\":\"white\",\"showbackground\":true,\"ticks\":\"\",\"zerolinecolor\":\"white\",\"gridwidth\":2}},\"shapedefaults\":{\"line\":{\"color\":\"#2a3f5f\"}},\"annotationdefaults\":{\"arrowcolor\":\"#2a3f5f\",\"arrowhead\":0,\"arrowwidth\":1},\"geo\":{\"bgcolor\":\"white\",\"landcolor\":\"#E5ECF6\",\"subunitcolor\":\"white\",\"showland\":true,\"showlakes\":true,\"lakecolor\":\"white\"},\"title\":{\"x\":0.05},\"mapbox\":{\"style\":\"light\"}}},\"xaxis\":{\"anchor\":\"y\",\"domain\":[0.0,1.0],\"title\":{\"text\":\"GDP\"}},\"yaxis\":{\"anchor\":\"x\",\"domain\":[0.0,1.0],\"title\":{\"text\":\"value\"}},\"legend\":{\"title\":{\"text\":\"variable\"},\"tracegroupgap\":0},\"title\":{\"text\":\"Crime type vs GDP for Chittoor\"}},                        {\"responsive\": true}                    ).then(function(){\n",
       "                            \n",
       "var gd = document.getElementById('04584aea-c0ee-4fbb-9ad2-8c4dae2ce8e4');\n",
       "var x = new MutationObserver(function (mutations, observer) {{\n",
       "        var display = window.getComputedStyle(gd).display;\n",
       "        if (!display || display === 'none') {{\n",
       "            console.log([gd, 'removed!']);\n",
       "            Plotly.purge(gd);\n",
       "            observer.disconnect();\n",
       "        }}\n",
       "}});\n",
       "\n",
       "// Listen for the removal of the full notebook cells\n",
       "var notebookContainer = gd.closest('#notebook-container');\n",
       "if (notebookContainer) {{\n",
       "    x.observe(notebookContainer, {childList: true});\n",
       "}}\n",
       "\n",
       "// Listen for the clearing of the current output cell\n",
       "var outputEl = gd.closest('.output');\n",
       "if (outputEl) {{\n",
       "    x.observe(outputEl, {childList: true});\n",
       "}}\n",
       "\n",
       "                        })                };                });            </script>        </div>"
      ]
     },
     "metadata": {},
     "output_type": "display_data"
    }
   ],
   "source": [
    "fig = px.line(crime_dataset_chittoor, x=\"GDP\", y=list_of_crimes, title=\"Crime type vs GDP for Chittoor\",\n",
    "              hover_data=[\"YEAR\"], markers=True)\n",
    "fig.show()"
   ]
  },
  {
   "cell_type": "code",
   "execution_count": 56,
   "metadata": {},
   "outputs": [
    {
     "data": {
      "application/vnd.plotly.v1+json": {
       "config": {
        "plotlyServerURL": "https://plot.ly"
       },
       "data": [
        {
         "customdata": [
          [
           2004
          ],
          [
           2005
          ],
          [
           2006
          ],
          [
           2007
          ],
          [
           2008
          ],
          [
           2009
          ],
          [
           2010
          ],
          [
           2011
          ],
          [
           2012
          ]
         ],
         "hovertemplate": "variable=MURDER<br>GDP=%{x}<br>value=%{y}<br>YEAR=%{customdata[0]}<extra></extra>",
         "legendgroup": "MURDER",
         "line": {
          "color": "#636efa",
          "dash": "solid"
         },
         "marker": {
          "symbol": "circle"
         },
         "mode": "markers+lines",
         "name": "MURDER",
         "orientation": "v",
         "showlegend": true,
         "type": "scatter",
         "x": [
          19371.01,
          20497.1,
          24695.94,
          30570.33,
          30638.93,
          37274,
          42841,
          50503,
          56668
         ],
         "xaxis": "x",
         "y": [
          27,
          27,
          37,
          21,
          32,
          28,
          24,
          39,
          44
         ],
         "yaxis": "y"
        },
        {
         "customdata": [
          [
           2004
          ],
          [
           2005
          ],
          [
           2006
          ],
          [
           2007
          ],
          [
           2008
          ],
          [
           2009
          ],
          [
           2010
          ],
          [
           2011
          ],
          [
           2012
          ]
         ],
         "hovertemplate": "variable=ATTEMPT TO MURDER<br>GDP=%{x}<br>value=%{y}<br>YEAR=%{customdata[0]}<extra></extra>",
         "legendgroup": "ATTEMPT TO MURDER",
         "line": {
          "color": "#EF553B",
          "dash": "solid"
         },
         "marker": {
          "symbol": "circle"
         },
         "mode": "markers+lines",
         "name": "ATTEMPT TO MURDER",
         "orientation": "v",
         "showlegend": true,
         "type": "scatter",
         "x": [
          19371.01,
          20497.1,
          24695.94,
          30570.33,
          30638.93,
          37274,
          42841,
          50503,
          56668
         ],
         "xaxis": "x",
         "y": [
          27,
          48,
          30,
          23,
          36,
          25,
          25,
          34,
          27
         ],
         "yaxis": "y"
        },
        {
         "customdata": [
          [
           2004
          ],
          [
           2005
          ],
          [
           2006
          ],
          [
           2007
          ],
          [
           2008
          ],
          [
           2009
          ],
          [
           2010
          ],
          [
           2011
          ],
          [
           2012
          ]
         ],
         "hovertemplate": "variable=CULPABLE HOMICIDE NOT AMOUNTING TO MURDER<br>GDP=%{x}<br>value=%{y}<br>YEAR=%{customdata[0]}<extra></extra>",
         "legendgroup": "CULPABLE HOMICIDE NOT AMOUNTING TO MURDER",
         "line": {
          "color": "#00cc96",
          "dash": "solid"
         },
         "marker": {
          "symbol": "circle"
         },
         "mode": "markers+lines",
         "name": "CULPABLE HOMICIDE NOT AMOUNTING TO MURDER",
         "orientation": "v",
         "showlegend": true,
         "type": "scatter",
         "x": [
          19371.01,
          20497.1,
          24695.94,
          30570.33,
          30638.93,
          37274,
          42841,
          50503,
          56668
         ],
         "xaxis": "x",
         "y": [
          3,
          0,
          1,
          1,
          1,
          4,
          4,
          5,
          1
         ],
         "yaxis": "y"
        },
        {
         "customdata": [
          [
           2004
          ],
          [
           2005
          ],
          [
           2006
          ],
          [
           2007
          ],
          [
           2008
          ],
          [
           2009
          ],
          [
           2010
          ],
          [
           2011
          ],
          [
           2012
          ]
         ],
         "hovertemplate": "variable=RAPE<br>GDP=%{x}<br>value=%{y}<br>YEAR=%{customdata[0]}<extra></extra>",
         "legendgroup": "RAPE",
         "line": {
          "color": "#ab63fa",
          "dash": "solid"
         },
         "marker": {
          "symbol": "circle"
         },
         "mode": "markers+lines",
         "name": "RAPE",
         "orientation": "v",
         "showlegend": true,
         "type": "scatter",
         "x": [
          19371.01,
          20497.1,
          24695.94,
          30570.33,
          30638.93,
          37274,
          42841,
          50503,
          56668
         ],
         "xaxis": "x",
         "y": [
          12,
          28,
          21,
          24,
          29,
          39,
          53,
          57,
          50
         ],
         "yaxis": "y"
        },
        {
         "customdata": [
          [
           2004
          ],
          [
           2005
          ],
          [
           2006
          ],
          [
           2007
          ],
          [
           2008
          ],
          [
           2009
          ],
          [
           2010
          ],
          [
           2011
          ],
          [
           2012
          ]
         ],
         "hovertemplate": "variable=CUSTODIAL RAPE<br>GDP=%{x}<br>value=%{y}<br>YEAR=%{customdata[0]}<extra></extra>",
         "legendgroup": "CUSTODIAL RAPE",
         "line": {
          "color": "#FFA15A",
          "dash": "solid"
         },
         "marker": {
          "symbol": "circle"
         },
         "mode": "markers+lines",
         "name": "CUSTODIAL RAPE",
         "orientation": "v",
         "showlegend": true,
         "type": "scatter",
         "x": [
          19371.01,
          20497.1,
          24695.94,
          30570.33,
          30638.93,
          37274,
          42841,
          50503,
          56668
         ],
         "xaxis": "x",
         "y": [
          0,
          0,
          0,
          0,
          0,
          0,
          0,
          0,
          0
         ],
         "yaxis": "y"
        },
        {
         "customdata": [
          [
           2004
          ],
          [
           2005
          ],
          [
           2006
          ],
          [
           2007
          ],
          [
           2008
          ],
          [
           2009
          ],
          [
           2010
          ],
          [
           2011
          ],
          [
           2012
          ]
         ],
         "hovertemplate": "variable=OTHER RAPE<br>GDP=%{x}<br>value=%{y}<br>YEAR=%{customdata[0]}<extra></extra>",
         "legendgroup": "OTHER RAPE",
         "line": {
          "color": "#19d3f3",
          "dash": "solid"
         },
         "marker": {
          "symbol": "circle"
         },
         "mode": "markers+lines",
         "name": "OTHER RAPE",
         "orientation": "v",
         "showlegend": true,
         "type": "scatter",
         "x": [
          19371.01,
          20497.1,
          24695.94,
          30570.33,
          30638.93,
          37274,
          42841,
          50503,
          56668
         ],
         "xaxis": "x",
         "y": [
          12,
          28,
          21,
          24,
          29,
          39,
          53,
          57,
          50
         ],
         "yaxis": "y"
        },
        {
         "customdata": [
          [
           2004
          ],
          [
           2005
          ],
          [
           2006
          ],
          [
           2007
          ],
          [
           2008
          ],
          [
           2009
          ],
          [
           2010
          ],
          [
           2011
          ],
          [
           2012
          ]
         ],
         "hovertemplate": "variable=KIDNAPPING & ABDUCTION<br>GDP=%{x}<br>value=%{y}<br>YEAR=%{customdata[0]}<extra></extra>",
         "legendgroup": "KIDNAPPING & ABDUCTION",
         "line": {
          "color": "#FF6692",
          "dash": "solid"
         },
         "marker": {
          "symbol": "circle"
         },
         "mode": "markers+lines",
         "name": "KIDNAPPING & ABDUCTION",
         "orientation": "v",
         "showlegend": true,
         "type": "scatter",
         "x": [
          19371.01,
          20497.1,
          24695.94,
          30570.33,
          30638.93,
          37274,
          42841,
          50503,
          56668
         ],
         "xaxis": "x",
         "y": [
          27,
          37,
          49,
          39,
          34,
          48,
          34,
          50,
          27
         ],
         "yaxis": "y"
        },
        {
         "customdata": [
          [
           2004
          ],
          [
           2005
          ],
          [
           2006
          ],
          [
           2007
          ],
          [
           2008
          ],
          [
           2009
          ],
          [
           2010
          ],
          [
           2011
          ],
          [
           2012
          ]
         ],
         "hovertemplate": "variable=KIDNAPPING AND ABDUCTION OF WOMEN AND GIRLS<br>GDP=%{x}<br>value=%{y}<br>YEAR=%{customdata[0]}<extra></extra>",
         "legendgroup": "KIDNAPPING AND ABDUCTION OF WOMEN AND GIRLS",
         "line": {
          "color": "#B6E880",
          "dash": "solid"
         },
         "marker": {
          "symbol": "circle"
         },
         "mode": "markers+lines",
         "name": "KIDNAPPING AND ABDUCTION OF WOMEN AND GIRLS",
         "orientation": "v",
         "showlegend": true,
         "type": "scatter",
         "x": [
          19371.01,
          20497.1,
          24695.94,
          30570.33,
          30638.93,
          37274,
          42841,
          50503,
          56668
         ],
         "xaxis": "x",
         "y": [
          16,
          15,
          40,
          23,
          26,
          26,
          24,
          48,
          20
         ],
         "yaxis": "y"
        },
        {
         "customdata": [
          [
           2004
          ],
          [
           2005
          ],
          [
           2006
          ],
          [
           2007
          ],
          [
           2008
          ],
          [
           2009
          ],
          [
           2010
          ],
          [
           2011
          ],
          [
           2012
          ]
         ],
         "hovertemplate": "variable=KIDNAPPING AND ABDUCTION OF OTHERS<br>GDP=%{x}<br>value=%{y}<br>YEAR=%{customdata[0]}<extra></extra>",
         "legendgroup": "KIDNAPPING AND ABDUCTION OF OTHERS",
         "line": {
          "color": "#FF97FF",
          "dash": "solid"
         },
         "marker": {
          "symbol": "circle"
         },
         "mode": "markers+lines",
         "name": "KIDNAPPING AND ABDUCTION OF OTHERS",
         "orientation": "v",
         "showlegend": true,
         "type": "scatter",
         "x": [
          19371.01,
          20497.1,
          24695.94,
          30570.33,
          30638.93,
          37274,
          42841,
          50503,
          56668
         ],
         "xaxis": "x",
         "y": [
          11,
          22,
          9,
          16,
          8,
          22,
          10,
          2,
          7
         ],
         "yaxis": "y"
        },
        {
         "customdata": [
          [
           2004
          ],
          [
           2005
          ],
          [
           2006
          ],
          [
           2007
          ],
          [
           2008
          ],
          [
           2009
          ],
          [
           2010
          ],
          [
           2011
          ],
          [
           2012
          ]
         ],
         "hovertemplate": "variable=DACOITY<br>GDP=%{x}<br>value=%{y}<br>YEAR=%{customdata[0]}<extra></extra>",
         "legendgroup": "DACOITY",
         "line": {
          "color": "#FECB52",
          "dash": "solid"
         },
         "marker": {
          "symbol": "circle"
         },
         "mode": "markers+lines",
         "name": "DACOITY",
         "orientation": "v",
         "showlegend": true,
         "type": "scatter",
         "x": [
          19371.01,
          20497.1,
          24695.94,
          30570.33,
          30638.93,
          37274,
          42841,
          50503,
          56668
         ],
         "xaxis": "x",
         "y": [
          1,
          6,
          3,
          9,
          3,
          1,
          8,
          13,
          14
         ],
         "yaxis": "y"
        },
        {
         "customdata": [
          [
           2004
          ],
          [
           2005
          ],
          [
           2006
          ],
          [
           2007
          ],
          [
           2008
          ],
          [
           2009
          ],
          [
           2010
          ],
          [
           2011
          ],
          [
           2012
          ]
         ],
         "hovertemplate": "variable=PREPARATION AND ASSEMBLY FOR DACOITY<br>GDP=%{x}<br>value=%{y}<br>YEAR=%{customdata[0]}<extra></extra>",
         "legendgroup": "PREPARATION AND ASSEMBLY FOR DACOITY",
         "line": {
          "color": "#636efa",
          "dash": "solid"
         },
         "marker": {
          "symbol": "circle"
         },
         "mode": "markers+lines",
         "name": "PREPARATION AND ASSEMBLY FOR DACOITY",
         "orientation": "v",
         "showlegend": true,
         "type": "scatter",
         "x": [
          19371.01,
          20497.1,
          24695.94,
          30570.33,
          30638.93,
          37274,
          42841,
          50503,
          56668
         ],
         "xaxis": "x",
         "y": [
          0,
          1,
          1,
          1,
          0,
          0,
          0,
          0,
          0
         ],
         "yaxis": "y"
        },
        {
         "customdata": [
          [
           2004
          ],
          [
           2005
          ],
          [
           2006
          ],
          [
           2007
          ],
          [
           2008
          ],
          [
           2009
          ],
          [
           2010
          ],
          [
           2011
          ],
          [
           2012
          ]
         ],
         "hovertemplate": "variable=ROBBERY<br>GDP=%{x}<br>value=%{y}<br>YEAR=%{customdata[0]}<extra></extra>",
         "legendgroup": "ROBBERY",
         "line": {
          "color": "#EF553B",
          "dash": "solid"
         },
         "marker": {
          "symbol": "circle"
         },
         "mode": "markers+lines",
         "name": "ROBBERY",
         "orientation": "v",
         "showlegend": true,
         "type": "scatter",
         "x": [
          19371.01,
          20497.1,
          24695.94,
          30570.33,
          30638.93,
          37274,
          42841,
          50503,
          56668
         ],
         "xaxis": "x",
         "y": [
          12,
          19,
          27,
          24,
          28,
          21,
          40,
          28,
          27
         ],
         "yaxis": "y"
        },
        {
         "customdata": [
          [
           2004
          ],
          [
           2005
          ],
          [
           2006
          ],
          [
           2007
          ],
          [
           2008
          ],
          [
           2009
          ],
          [
           2010
          ],
          [
           2011
          ],
          [
           2012
          ]
         ],
         "hovertemplate": "variable=BURGLARY<br>GDP=%{x}<br>value=%{y}<br>YEAR=%{customdata[0]}<extra></extra>",
         "legendgroup": "BURGLARY",
         "line": {
          "color": "#00cc96",
          "dash": "solid"
         },
         "marker": {
          "symbol": "circle"
         },
         "mode": "markers+lines",
         "name": "BURGLARY",
         "orientation": "v",
         "showlegend": true,
         "type": "scatter",
         "x": [
          19371.01,
          20497.1,
          24695.94,
          30570.33,
          30638.93,
          37274,
          42841,
          50503,
          56668
         ],
         "xaxis": "x",
         "y": [
          333,
          393,
          417,
          370,
          263,
          311,
          335,
          283,
          366
         ],
         "yaxis": "y"
        },
        {
         "customdata": [
          [
           2004
          ],
          [
           2005
          ],
          [
           2006
          ],
          [
           2007
          ],
          [
           2008
          ],
          [
           2009
          ],
          [
           2010
          ],
          [
           2011
          ],
          [
           2012
          ]
         ],
         "hovertemplate": "variable=THEFT<br>GDP=%{x}<br>value=%{y}<br>YEAR=%{customdata[0]}<extra></extra>",
         "legendgroup": "THEFT",
         "line": {
          "color": "#ab63fa",
          "dash": "solid"
         },
         "marker": {
          "symbol": "circle"
         },
         "mode": "markers+lines",
         "name": "THEFT",
         "orientation": "v",
         "showlegend": true,
         "type": "scatter",
         "x": [
          19371.01,
          20497.1,
          24695.94,
          30570.33,
          30638.93,
          37274,
          42841,
          50503,
          56668
         ],
         "xaxis": "x",
         "y": [
          733,
          987,
          1121,
          1215,
          1045,
          1040,
          1234,
          1284,
          1062
         ],
         "yaxis": "y"
        },
        {
         "customdata": [
          [
           2004
          ],
          [
           2005
          ],
          [
           2006
          ],
          [
           2007
          ],
          [
           2008
          ],
          [
           2009
          ],
          [
           2010
          ],
          [
           2011
          ],
          [
           2012
          ]
         ],
         "hovertemplate": "variable=AUTO THEFT<br>GDP=%{x}<br>value=%{y}<br>YEAR=%{customdata[0]}<extra></extra>",
         "legendgroup": "AUTO THEFT",
         "line": {
          "color": "#FFA15A",
          "dash": "solid"
         },
         "marker": {
          "symbol": "circle"
         },
         "mode": "markers+lines",
         "name": "AUTO THEFT",
         "orientation": "v",
         "showlegend": true,
         "type": "scatter",
         "x": [
          19371.01,
          20497.1,
          24695.94,
          30570.33,
          30638.93,
          37274,
          42841,
          50503,
          56668
         ],
         "xaxis": "x",
         "y": [
          176,
          298,
          356,
          417,
          343,
          420,
          134,
          393,
          301
         ],
         "yaxis": "y"
        },
        {
         "customdata": [
          [
           2004
          ],
          [
           2005
          ],
          [
           2006
          ],
          [
           2007
          ],
          [
           2008
          ],
          [
           2009
          ],
          [
           2010
          ],
          [
           2011
          ],
          [
           2012
          ]
         ],
         "hovertemplate": "variable=OTHER THEFT<br>GDP=%{x}<br>value=%{y}<br>YEAR=%{customdata[0]}<extra></extra>",
         "legendgroup": "OTHER THEFT",
         "line": {
          "color": "#19d3f3",
          "dash": "solid"
         },
         "marker": {
          "symbol": "circle"
         },
         "mode": "markers+lines",
         "name": "OTHER THEFT",
         "orientation": "v",
         "showlegend": true,
         "type": "scatter",
         "x": [
          19371.01,
          20497.1,
          24695.94,
          30570.33,
          30638.93,
          37274,
          42841,
          50503,
          56668
         ],
         "xaxis": "x",
         "y": [
          557,
          689,
          765,
          798,
          702,
          620,
          1100,
          891,
          761
         ],
         "yaxis": "y"
        },
        {
         "customdata": [
          [
           2004
          ],
          [
           2005
          ],
          [
           2006
          ],
          [
           2007
          ],
          [
           2008
          ],
          [
           2009
          ],
          [
           2010
          ],
          [
           2011
          ],
          [
           2012
          ]
         ],
         "hovertemplate": "variable=RIOTS<br>GDP=%{x}<br>value=%{y}<br>YEAR=%{customdata[0]}<extra></extra>",
         "legendgroup": "RIOTS",
         "line": {
          "color": "#FF6692",
          "dash": "solid"
         },
         "marker": {
          "symbol": "circle"
         },
         "mode": "markers+lines",
         "name": "RIOTS",
         "orientation": "v",
         "showlegend": true,
         "type": "scatter",
         "x": [
          19371.01,
          20497.1,
          24695.94,
          30570.33,
          30638.93,
          37274,
          42841,
          50503,
          56668
         ],
         "xaxis": "x",
         "y": [
          3,
          31,
          28,
          24,
          14,
          12,
          2,
          3,
          12
         ],
         "yaxis": "y"
        },
        {
         "customdata": [
          [
           2004
          ],
          [
           2005
          ],
          [
           2006
          ],
          [
           2007
          ],
          [
           2008
          ],
          [
           2009
          ],
          [
           2010
          ],
          [
           2011
          ],
          [
           2012
          ]
         ],
         "hovertemplate": "variable=CRIMINAL BREACH OF TRUST<br>GDP=%{x}<br>value=%{y}<br>YEAR=%{customdata[0]}<extra></extra>",
         "legendgroup": "CRIMINAL BREACH OF TRUST",
         "line": {
          "color": "#B6E880",
          "dash": "solid"
         },
         "marker": {
          "symbol": "circle"
         },
         "mode": "markers+lines",
         "name": "CRIMINAL BREACH OF TRUST",
         "orientation": "v",
         "showlegend": true,
         "type": "scatter",
         "x": [
          19371.01,
          20497.1,
          24695.94,
          30570.33,
          30638.93,
          37274,
          42841,
          50503,
          56668
         ],
         "xaxis": "x",
         "y": [
          62,
          58,
          66,
          65,
          31,
          62,
          75,
          57,
          68
         ],
         "yaxis": "y"
        },
        {
         "customdata": [
          [
           2004
          ],
          [
           2005
          ],
          [
           2006
          ],
          [
           2007
          ],
          [
           2008
          ],
          [
           2009
          ],
          [
           2010
          ],
          [
           2011
          ],
          [
           2012
          ]
         ],
         "hovertemplate": "variable=CHEATING<br>GDP=%{x}<br>value=%{y}<br>YEAR=%{customdata[0]}<extra></extra>",
         "legendgroup": "CHEATING",
         "line": {
          "color": "#FF97FF",
          "dash": "solid"
         },
         "marker": {
          "symbol": "circle"
         },
         "mode": "markers+lines",
         "name": "CHEATING",
         "orientation": "v",
         "showlegend": true,
         "type": "scatter",
         "x": [
          19371.01,
          20497.1,
          24695.94,
          30570.33,
          30638.93,
          37274,
          42841,
          50503,
          56668
         ],
         "xaxis": "x",
         "y": [
          280,
          279,
          261,
          285,
          267,
          270,
          294,
          244,
          252
         ],
         "yaxis": "y"
        },
        {
         "customdata": [
          [
           2004
          ],
          [
           2005
          ],
          [
           2006
          ],
          [
           2007
          ],
          [
           2008
          ],
          [
           2009
          ],
          [
           2010
          ],
          [
           2011
          ],
          [
           2012
          ]
         ],
         "hovertemplate": "variable=COUNTERFIETING<br>GDP=%{x}<br>value=%{y}<br>YEAR=%{customdata[0]}<extra></extra>",
         "legendgroup": "COUNTERFIETING",
         "line": {
          "color": "#FECB52",
          "dash": "solid"
         },
         "marker": {
          "symbol": "circle"
         },
         "mode": "markers+lines",
         "name": "COUNTERFIETING",
         "orientation": "v",
         "showlegend": true,
         "type": "scatter",
         "x": [
          19371.01,
          20497.1,
          24695.94,
          30570.33,
          30638.93,
          37274,
          42841,
          50503,
          56668
         ],
         "xaxis": "x",
         "y": [
          2,
          24,
          27,
          16,
          21,
          19,
          16,
          4,
          6
         ],
         "yaxis": "y"
        },
        {
         "customdata": [
          [
           2004
          ],
          [
           2005
          ],
          [
           2006
          ],
          [
           2007
          ],
          [
           2008
          ],
          [
           2009
          ],
          [
           2010
          ],
          [
           2011
          ],
          [
           2012
          ]
         ],
         "hovertemplate": "variable=ARSON<br>GDP=%{x}<br>value=%{y}<br>YEAR=%{customdata[0]}<extra></extra>",
         "legendgroup": "ARSON",
         "line": {
          "color": "#636efa",
          "dash": "solid"
         },
         "marker": {
          "symbol": "circle"
         },
         "mode": "markers+lines",
         "name": "ARSON",
         "orientation": "v",
         "showlegend": true,
         "type": "scatter",
         "x": [
          19371.01,
          20497.1,
          24695.94,
          30570.33,
          30638.93,
          37274,
          42841,
          50503,
          56668
         ],
         "xaxis": "x",
         "y": [
          8,
          8,
          8,
          9,
          10,
          13,
          28,
          11,
          10
         ],
         "yaxis": "y"
        },
        {
         "customdata": [
          [
           2004
          ],
          [
           2005
          ],
          [
           2006
          ],
          [
           2007
          ],
          [
           2008
          ],
          [
           2009
          ],
          [
           2010
          ],
          [
           2011
          ],
          [
           2012
          ]
         ],
         "hovertemplate": "variable=HURT/GREVIOUS HURT<br>GDP=%{x}<br>value=%{y}<br>YEAR=%{customdata[0]}<extra></extra>",
         "legendgroup": "HURT/GREVIOUS HURT",
         "line": {
          "color": "#EF553B",
          "dash": "solid"
         },
         "marker": {
          "symbol": "circle"
         },
         "mode": "markers+lines",
         "name": "HURT/GREVIOUS HURT",
         "orientation": "v",
         "showlegend": true,
         "type": "scatter",
         "x": [
          19371.01,
          20497.1,
          24695.94,
          30570.33,
          30638.93,
          37274,
          42841,
          50503,
          56668
         ],
         "xaxis": "x",
         "y": [
          374,
          495,
          540,
          513,
          412,
          473,
          2443,
          1308,
          1207
         ],
         "yaxis": "y"
        },
        {
         "customdata": [
          [
           2004
          ],
          [
           2005
          ],
          [
           2006
          ],
          [
           2007
          ],
          [
           2008
          ],
          [
           2009
          ],
          [
           2010
          ],
          [
           2011
          ],
          [
           2012
          ]
         ],
         "hovertemplate": "variable=DOWRY DEATHS<br>GDP=%{x}<br>value=%{y}<br>YEAR=%{customdata[0]}<extra></extra>",
         "legendgroup": "DOWRY DEATHS",
         "line": {
          "color": "#00cc96",
          "dash": "solid"
         },
         "marker": {
          "symbol": "circle"
         },
         "mode": "markers+lines",
         "name": "DOWRY DEATHS",
         "orientation": "v",
         "showlegend": true,
         "type": "scatter",
         "x": [
          19371.01,
          20497.1,
          24695.94,
          30570.33,
          30638.93,
          37274,
          42841,
          50503,
          56668
         ],
         "xaxis": "x",
         "y": [
          1,
          2,
          10,
          14,
          13,
          13,
          11,
          12,
          11
         ],
         "yaxis": "y"
        },
        {
         "customdata": [
          [
           2004
          ],
          [
           2005
          ],
          [
           2006
          ],
          [
           2007
          ],
          [
           2008
          ],
          [
           2009
          ],
          [
           2010
          ],
          [
           2011
          ],
          [
           2012
          ]
         ],
         "hovertemplate": "variable=ASSAULT ON WOMEN WITH INTENT TO OUTRAGE HER MODESTY<br>GDP=%{x}<br>value=%{y}<br>YEAR=%{customdata[0]}<extra></extra>",
         "legendgroup": "ASSAULT ON WOMEN WITH INTENT TO OUTRAGE HER MODESTY",
         "line": {
          "color": "#ab63fa",
          "dash": "solid"
         },
         "marker": {
          "symbol": "circle"
         },
         "mode": "markers+lines",
         "name": "ASSAULT ON WOMEN WITH INTENT TO OUTRAGE HER MODESTY",
         "orientation": "v",
         "showlegend": true,
         "type": "scatter",
         "x": [
          19371.01,
          20497.1,
          24695.94,
          30570.33,
          30638.93,
          37274,
          42841,
          50503,
          56668
         ],
         "xaxis": "x",
         "y": [
          24,
          45,
          62,
          100,
          87,
          95,
          59,
          31,
          23
         ],
         "yaxis": "y"
        },
        {
         "customdata": [
          [
           2004
          ],
          [
           2005
          ],
          [
           2006
          ],
          [
           2007
          ],
          [
           2008
          ],
          [
           2009
          ],
          [
           2010
          ],
          [
           2011
          ],
          [
           2012
          ]
         ],
         "hovertemplate": "variable=INSULT TO MODESTY OF WOMEN<br>GDP=%{x}<br>value=%{y}<br>YEAR=%{customdata[0]}<extra></extra>",
         "legendgroup": "INSULT TO MODESTY OF WOMEN",
         "line": {
          "color": "#FFA15A",
          "dash": "solid"
         },
         "marker": {
          "symbol": "circle"
         },
         "mode": "markers+lines",
         "name": "INSULT TO MODESTY OF WOMEN",
         "orientation": "v",
         "showlegend": true,
         "type": "scatter",
         "x": [
          19371.01,
          20497.1,
          24695.94,
          30570.33,
          30638.93,
          37274,
          42841,
          50503,
          56668
         ],
         "xaxis": "x",
         "y": [
          43,
          86,
          30,
          25,
          2,
          54,
          52,
          50,
          11
         ],
         "yaxis": "y"
        },
        {
         "customdata": [
          [
           2004
          ],
          [
           2005
          ],
          [
           2006
          ],
          [
           2007
          ],
          [
           2008
          ],
          [
           2009
          ],
          [
           2010
          ],
          [
           2011
          ],
          [
           2012
          ]
         ],
         "hovertemplate": "variable=CRUELTY BY HUSBAND OR HIS RELATIVES<br>GDP=%{x}<br>value=%{y}<br>YEAR=%{customdata[0]}<extra></extra>",
         "legendgroup": "CRUELTY BY HUSBAND OR HIS RELATIVES",
         "line": {
          "color": "#19d3f3",
          "dash": "solid"
         },
         "marker": {
          "symbol": "circle"
         },
         "mode": "markers+lines",
         "name": "CRUELTY BY HUSBAND OR HIS RELATIVES",
         "orientation": "v",
         "showlegend": true,
         "type": "scatter",
         "x": [
          19371.01,
          20497.1,
          24695.94,
          30570.33,
          30638.93,
          37274,
          42841,
          50503,
          56668
         ],
         "xaxis": "x",
         "y": [
          243,
          361,
          397,
          535,
          488,
          481,
          393,
          386,
          412
         ],
         "yaxis": "y"
        },
        {
         "customdata": [
          [
           2004
          ],
          [
           2005
          ],
          [
           2006
          ],
          [
           2007
          ],
          [
           2008
          ],
          [
           2009
          ],
          [
           2010
          ],
          [
           2011
          ],
          [
           2012
          ]
         ],
         "hovertemplate": "variable=IMPORTATION OF GIRLS FROM FOREIGN COUNTRIES<br>GDP=%{x}<br>value=%{y}<br>YEAR=%{customdata[0]}<extra></extra>",
         "legendgroup": "IMPORTATION OF GIRLS FROM FOREIGN COUNTRIES",
         "line": {
          "color": "#FF6692",
          "dash": "solid"
         },
         "marker": {
          "symbol": "circle"
         },
         "mode": "markers+lines",
         "name": "IMPORTATION OF GIRLS FROM FOREIGN COUNTRIES",
         "orientation": "v",
         "showlegend": true,
         "type": "scatter",
         "x": [
          19371.01,
          20497.1,
          24695.94,
          30570.33,
          30638.93,
          37274,
          42841,
          50503,
          56668
         ],
         "xaxis": "x",
         "y": [
          0,
          0,
          0,
          0,
          0,
          0,
          0,
          0,
          0
         ],
         "yaxis": "y"
        },
        {
         "customdata": [
          [
           2004
          ],
          [
           2005
          ],
          [
           2006
          ],
          [
           2007
          ],
          [
           2008
          ],
          [
           2009
          ],
          [
           2010
          ],
          [
           2011
          ],
          [
           2012
          ]
         ],
         "hovertemplate": "variable=CAUSING DEATH BY NEGLIGENCE<br>GDP=%{x}<br>value=%{y}<br>YEAR=%{customdata[0]}<extra></extra>",
         "legendgroup": "CAUSING DEATH BY NEGLIGENCE",
         "line": {
          "color": "#B6E880",
          "dash": "solid"
         },
         "marker": {
          "symbol": "circle"
         },
         "mode": "markers+lines",
         "name": "CAUSING DEATH BY NEGLIGENCE",
         "orientation": "v",
         "showlegend": true,
         "type": "scatter",
         "x": [
          19371.01,
          20497.1,
          24695.94,
          30570.33,
          30638.93,
          37274,
          42841,
          50503,
          56668
         ],
         "xaxis": "x",
         "y": [
          183,
          184,
          247,
          255,
          313,
          428,
          466,
          410,
          395
         ],
         "yaxis": "y"
        },
        {
         "customdata": [
          [
           2004
          ],
          [
           2005
          ],
          [
           2006
          ],
          [
           2007
          ],
          [
           2008
          ],
          [
           2009
          ],
          [
           2010
          ],
          [
           2011
          ],
          [
           2012
          ]
         ],
         "hovertemplate": "variable=OTHER IPC CRIMES<br>GDP=%{x}<br>value=%{y}<br>YEAR=%{customdata[0]}<extra></extra>",
         "legendgroup": "OTHER IPC CRIMES",
         "line": {
          "color": "#FF97FF",
          "dash": "solid"
         },
         "marker": {
          "symbol": "circle"
         },
         "mode": "markers+lines",
         "name": "OTHER IPC CRIMES",
         "orientation": "v",
         "showlegend": true,
         "type": "scatter",
         "x": [
          19371.01,
          20497.1,
          24695.94,
          30570.33,
          30638.93,
          37274,
          42841,
          50503,
          56668
         ],
         "xaxis": "x",
         "y": [
          784,
          1336,
          2095,
          1912,
          1886,
          1979,
          1516,
          577,
          601
         ],
         "yaxis": "y"
        },
        {
         "customdata": [
          [
           2004
          ],
          [
           2005
          ],
          [
           2006
          ],
          [
           2007
          ],
          [
           2008
          ],
          [
           2009
          ],
          [
           2010
          ],
          [
           2011
          ],
          [
           2012
          ]
         ],
         "hovertemplate": "variable=TOTAL IPC CRIMES<br>GDP=%{x}<br>value=%{y}<br>YEAR=%{customdata[0]}<extra></extra>",
         "legendgroup": "TOTAL IPC CRIMES",
         "line": {
          "color": "#FECB52",
          "dash": "solid"
         },
         "marker": {
          "symbol": "circle"
         },
         "mode": "markers+lines",
         "name": "TOTAL IPC CRIMES",
         "orientation": "v",
         "showlegend": true,
         "type": "scatter",
         "x": [
          19371.01,
          20497.1,
          24695.94,
          30570.33,
          30638.93,
          37274,
          42841,
          50503,
          56668
         ],
         "xaxis": "x",
         "y": [
          3182,
          4455,
          5478,
          5480,
          5015,
          5416,
          7112,
          4886,
          4626
         ],
         "yaxis": "y"
        }
       ],
       "layout": {
        "legend": {
         "title": {
          "text": "variable"
         },
         "tracegroupgap": 0
        },
        "template": {
         "data": {
          "bar": [
           {
            "error_x": {
             "color": "#2a3f5f"
            },
            "error_y": {
             "color": "#2a3f5f"
            },
            "marker": {
             "line": {
              "color": "#E5ECF6",
              "width": 0.5
             },
             "pattern": {
              "fillmode": "overlay",
              "size": 10,
              "solidity": 0.2
             }
            },
            "type": "bar"
           }
          ],
          "barpolar": [
           {
            "marker": {
             "line": {
              "color": "#E5ECF6",
              "width": 0.5
             },
             "pattern": {
              "fillmode": "overlay",
              "size": 10,
              "solidity": 0.2
             }
            },
            "type": "barpolar"
           }
          ],
          "carpet": [
           {
            "aaxis": {
             "endlinecolor": "#2a3f5f",
             "gridcolor": "white",
             "linecolor": "white",
             "minorgridcolor": "white",
             "startlinecolor": "#2a3f5f"
            },
            "baxis": {
             "endlinecolor": "#2a3f5f",
             "gridcolor": "white",
             "linecolor": "white",
             "minorgridcolor": "white",
             "startlinecolor": "#2a3f5f"
            },
            "type": "carpet"
           }
          ],
          "choropleth": [
           {
            "colorbar": {
             "outlinewidth": 0,
             "ticks": ""
            },
            "type": "choropleth"
           }
          ],
          "contour": [
           {
            "colorbar": {
             "outlinewidth": 0,
             "ticks": ""
            },
            "colorscale": [
             [
              0,
              "#0d0887"
             ],
             [
              0.1111111111111111,
              "#46039f"
             ],
             [
              0.2222222222222222,
              "#7201a8"
             ],
             [
              0.3333333333333333,
              "#9c179e"
             ],
             [
              0.4444444444444444,
              "#bd3786"
             ],
             [
              0.5555555555555556,
              "#d8576b"
             ],
             [
              0.6666666666666666,
              "#ed7953"
             ],
             [
              0.7777777777777778,
              "#fb9f3a"
             ],
             [
              0.8888888888888888,
              "#fdca26"
             ],
             [
              1,
              "#f0f921"
             ]
            ],
            "type": "contour"
           }
          ],
          "contourcarpet": [
           {
            "colorbar": {
             "outlinewidth": 0,
             "ticks": ""
            },
            "type": "contourcarpet"
           }
          ],
          "heatmap": [
           {
            "colorbar": {
             "outlinewidth": 0,
             "ticks": ""
            },
            "colorscale": [
             [
              0,
              "#0d0887"
             ],
             [
              0.1111111111111111,
              "#46039f"
             ],
             [
              0.2222222222222222,
              "#7201a8"
             ],
             [
              0.3333333333333333,
              "#9c179e"
             ],
             [
              0.4444444444444444,
              "#bd3786"
             ],
             [
              0.5555555555555556,
              "#d8576b"
             ],
             [
              0.6666666666666666,
              "#ed7953"
             ],
             [
              0.7777777777777778,
              "#fb9f3a"
             ],
             [
              0.8888888888888888,
              "#fdca26"
             ],
             [
              1,
              "#f0f921"
             ]
            ],
            "type": "heatmap"
           }
          ],
          "heatmapgl": [
           {
            "colorbar": {
             "outlinewidth": 0,
             "ticks": ""
            },
            "colorscale": [
             [
              0,
              "#0d0887"
             ],
             [
              0.1111111111111111,
              "#46039f"
             ],
             [
              0.2222222222222222,
              "#7201a8"
             ],
             [
              0.3333333333333333,
              "#9c179e"
             ],
             [
              0.4444444444444444,
              "#bd3786"
             ],
             [
              0.5555555555555556,
              "#d8576b"
             ],
             [
              0.6666666666666666,
              "#ed7953"
             ],
             [
              0.7777777777777778,
              "#fb9f3a"
             ],
             [
              0.8888888888888888,
              "#fdca26"
             ],
             [
              1,
              "#f0f921"
             ]
            ],
            "type": "heatmapgl"
           }
          ],
          "histogram": [
           {
            "marker": {
             "pattern": {
              "fillmode": "overlay",
              "size": 10,
              "solidity": 0.2
             }
            },
            "type": "histogram"
           }
          ],
          "histogram2d": [
           {
            "colorbar": {
             "outlinewidth": 0,
             "ticks": ""
            },
            "colorscale": [
             [
              0,
              "#0d0887"
             ],
             [
              0.1111111111111111,
              "#46039f"
             ],
             [
              0.2222222222222222,
              "#7201a8"
             ],
             [
              0.3333333333333333,
              "#9c179e"
             ],
             [
              0.4444444444444444,
              "#bd3786"
             ],
             [
              0.5555555555555556,
              "#d8576b"
             ],
             [
              0.6666666666666666,
              "#ed7953"
             ],
             [
              0.7777777777777778,
              "#fb9f3a"
             ],
             [
              0.8888888888888888,
              "#fdca26"
             ],
             [
              1,
              "#f0f921"
             ]
            ],
            "type": "histogram2d"
           }
          ],
          "histogram2dcontour": [
           {
            "colorbar": {
             "outlinewidth": 0,
             "ticks": ""
            },
            "colorscale": [
             [
              0,
              "#0d0887"
             ],
             [
              0.1111111111111111,
              "#46039f"
             ],
             [
              0.2222222222222222,
              "#7201a8"
             ],
             [
              0.3333333333333333,
              "#9c179e"
             ],
             [
              0.4444444444444444,
              "#bd3786"
             ],
             [
              0.5555555555555556,
              "#d8576b"
             ],
             [
              0.6666666666666666,
              "#ed7953"
             ],
             [
              0.7777777777777778,
              "#fb9f3a"
             ],
             [
              0.8888888888888888,
              "#fdca26"
             ],
             [
              1,
              "#f0f921"
             ]
            ],
            "type": "histogram2dcontour"
           }
          ],
          "mesh3d": [
           {
            "colorbar": {
             "outlinewidth": 0,
             "ticks": ""
            },
            "type": "mesh3d"
           }
          ],
          "parcoords": [
           {
            "line": {
             "colorbar": {
              "outlinewidth": 0,
              "ticks": ""
             }
            },
            "type": "parcoords"
           }
          ],
          "pie": [
           {
            "automargin": true,
            "type": "pie"
           }
          ],
          "scatter": [
           {
            "fillpattern": {
             "fillmode": "overlay",
             "size": 10,
             "solidity": 0.2
            },
            "type": "scatter"
           }
          ],
          "scatter3d": [
           {
            "line": {
             "colorbar": {
              "outlinewidth": 0,
              "ticks": ""
             }
            },
            "marker": {
             "colorbar": {
              "outlinewidth": 0,
              "ticks": ""
             }
            },
            "type": "scatter3d"
           }
          ],
          "scattercarpet": [
           {
            "marker": {
             "colorbar": {
              "outlinewidth": 0,
              "ticks": ""
             }
            },
            "type": "scattercarpet"
           }
          ],
          "scattergeo": [
           {
            "marker": {
             "colorbar": {
              "outlinewidth": 0,
              "ticks": ""
             }
            },
            "type": "scattergeo"
           }
          ],
          "scattergl": [
           {
            "marker": {
             "colorbar": {
              "outlinewidth": 0,
              "ticks": ""
             }
            },
            "type": "scattergl"
           }
          ],
          "scattermapbox": [
           {
            "marker": {
             "colorbar": {
              "outlinewidth": 0,
              "ticks": ""
             }
            },
            "type": "scattermapbox"
           }
          ],
          "scatterpolar": [
           {
            "marker": {
             "colorbar": {
              "outlinewidth": 0,
              "ticks": ""
             }
            },
            "type": "scatterpolar"
           }
          ],
          "scatterpolargl": [
           {
            "marker": {
             "colorbar": {
              "outlinewidth": 0,
              "ticks": ""
             }
            },
            "type": "scatterpolargl"
           }
          ],
          "scatterternary": [
           {
            "marker": {
             "colorbar": {
              "outlinewidth": 0,
              "ticks": ""
             }
            },
            "type": "scatterternary"
           }
          ],
          "surface": [
           {
            "colorbar": {
             "outlinewidth": 0,
             "ticks": ""
            },
            "colorscale": [
             [
              0,
              "#0d0887"
             ],
             [
              0.1111111111111111,
              "#46039f"
             ],
             [
              0.2222222222222222,
              "#7201a8"
             ],
             [
              0.3333333333333333,
              "#9c179e"
             ],
             [
              0.4444444444444444,
              "#bd3786"
             ],
             [
              0.5555555555555556,
              "#d8576b"
             ],
             [
              0.6666666666666666,
              "#ed7953"
             ],
             [
              0.7777777777777778,
              "#fb9f3a"
             ],
             [
              0.8888888888888888,
              "#fdca26"
             ],
             [
              1,
              "#f0f921"
             ]
            ],
            "type": "surface"
           }
          ],
          "table": [
           {
            "cells": {
             "fill": {
              "color": "#EBF0F8"
             },
             "line": {
              "color": "white"
             }
            },
            "header": {
             "fill": {
              "color": "#C8D4E3"
             },
             "line": {
              "color": "white"
             }
            },
            "type": "table"
           }
          ]
         },
         "layout": {
          "annotationdefaults": {
           "arrowcolor": "#2a3f5f",
           "arrowhead": 0,
           "arrowwidth": 1
          },
          "autotypenumbers": "strict",
          "coloraxis": {
           "colorbar": {
            "outlinewidth": 0,
            "ticks": ""
           }
          },
          "colorscale": {
           "diverging": [
            [
             0,
             "#8e0152"
            ],
            [
             0.1,
             "#c51b7d"
            ],
            [
             0.2,
             "#de77ae"
            ],
            [
             0.3,
             "#f1b6da"
            ],
            [
             0.4,
             "#fde0ef"
            ],
            [
             0.5,
             "#f7f7f7"
            ],
            [
             0.6,
             "#e6f5d0"
            ],
            [
             0.7,
             "#b8e186"
            ],
            [
             0.8,
             "#7fbc41"
            ],
            [
             0.9,
             "#4d9221"
            ],
            [
             1,
             "#276419"
            ]
           ],
           "sequential": [
            [
             0,
             "#0d0887"
            ],
            [
             0.1111111111111111,
             "#46039f"
            ],
            [
             0.2222222222222222,
             "#7201a8"
            ],
            [
             0.3333333333333333,
             "#9c179e"
            ],
            [
             0.4444444444444444,
             "#bd3786"
            ],
            [
             0.5555555555555556,
             "#d8576b"
            ],
            [
             0.6666666666666666,
             "#ed7953"
            ],
            [
             0.7777777777777778,
             "#fb9f3a"
            ],
            [
             0.8888888888888888,
             "#fdca26"
            ],
            [
             1,
             "#f0f921"
            ]
           ],
           "sequentialminus": [
            [
             0,
             "#0d0887"
            ],
            [
             0.1111111111111111,
             "#46039f"
            ],
            [
             0.2222222222222222,
             "#7201a8"
            ],
            [
             0.3333333333333333,
             "#9c179e"
            ],
            [
             0.4444444444444444,
             "#bd3786"
            ],
            [
             0.5555555555555556,
             "#d8576b"
            ],
            [
             0.6666666666666666,
             "#ed7953"
            ],
            [
             0.7777777777777778,
             "#fb9f3a"
            ],
            [
             0.8888888888888888,
             "#fdca26"
            ],
            [
             1,
             "#f0f921"
            ]
           ]
          },
          "colorway": [
           "#636efa",
           "#EF553B",
           "#00cc96",
           "#ab63fa",
           "#FFA15A",
           "#19d3f3",
           "#FF6692",
           "#B6E880",
           "#FF97FF",
           "#FECB52"
          ],
          "font": {
           "color": "#2a3f5f"
          },
          "geo": {
           "bgcolor": "white",
           "lakecolor": "white",
           "landcolor": "#E5ECF6",
           "showlakes": true,
           "showland": true,
           "subunitcolor": "white"
          },
          "hoverlabel": {
           "align": "left"
          },
          "hovermode": "closest",
          "mapbox": {
           "style": "light"
          },
          "paper_bgcolor": "white",
          "plot_bgcolor": "#E5ECF6",
          "polar": {
           "angularaxis": {
            "gridcolor": "white",
            "linecolor": "white",
            "ticks": ""
           },
           "bgcolor": "#E5ECF6",
           "radialaxis": {
            "gridcolor": "white",
            "linecolor": "white",
            "ticks": ""
           }
          },
          "scene": {
           "xaxis": {
            "backgroundcolor": "#E5ECF6",
            "gridcolor": "white",
            "gridwidth": 2,
            "linecolor": "white",
            "showbackground": true,
            "ticks": "",
            "zerolinecolor": "white"
           },
           "yaxis": {
            "backgroundcolor": "#E5ECF6",
            "gridcolor": "white",
            "gridwidth": 2,
            "linecolor": "white",
            "showbackground": true,
            "ticks": "",
            "zerolinecolor": "white"
           },
           "zaxis": {
            "backgroundcolor": "#E5ECF6",
            "gridcolor": "white",
            "gridwidth": 2,
            "linecolor": "white",
            "showbackground": true,
            "ticks": "",
            "zerolinecolor": "white"
           }
          },
          "shapedefaults": {
           "line": {
            "color": "#2a3f5f"
           }
          },
          "ternary": {
           "aaxis": {
            "gridcolor": "white",
            "linecolor": "white",
            "ticks": ""
           },
           "baxis": {
            "gridcolor": "white",
            "linecolor": "white",
            "ticks": ""
           },
           "bgcolor": "#E5ECF6",
           "caxis": {
            "gridcolor": "white",
            "linecolor": "white",
            "ticks": ""
           }
          },
          "title": {
           "x": 0.05
          },
          "xaxis": {
           "automargin": true,
           "gridcolor": "white",
           "linecolor": "white",
           "ticks": "",
           "title": {
            "standoff": 15
           },
           "zerolinecolor": "white",
           "zerolinewidth": 2
          },
          "yaxis": {
           "automargin": true,
           "gridcolor": "white",
           "linecolor": "white",
           "ticks": "",
           "title": {
            "standoff": 15
           },
           "zerolinecolor": "white",
           "zerolinewidth": 2
          }
         }
        },
        "title": {
         "text": "Crime type vs GDP for Visakhapatnam"
        },
        "xaxis": {
         "anchor": "y",
         "domain": [
          0,
          1
         ],
         "title": {
          "text": "GDP"
         }
        },
        "yaxis": {
         "anchor": "x",
         "domain": [
          0,
          1
         ],
         "title": {
          "text": "value"
         }
        }
       }
      },
      "text/html": [
       "<div>                            <div id=\"a960f42f-4e97-4130-91ad-817266879393\" class=\"plotly-graph-div\" style=\"height:525px; width:100%;\"></div>            <script type=\"text/javascript\">                require([\"plotly\"], function(Plotly) {                    window.PLOTLYENV=window.PLOTLYENV || {};                                    if (document.getElementById(\"a960f42f-4e97-4130-91ad-817266879393\")) {                    Plotly.newPlot(                        \"a960f42f-4e97-4130-91ad-817266879393\",                        [{\"customdata\":[[2004],[2005],[2006],[2007],[2008],[2009],[2010],[2011],[2012]],\"hovertemplate\":\"variable=MURDER<br>GDP=%{x}<br>value=%{y}<br>YEAR=%{customdata[0]}<extra></extra>\",\"legendgroup\":\"MURDER\",\"line\":{\"color\":\"#636efa\",\"dash\":\"solid\"},\"marker\":{\"symbol\":\"circle\"},\"mode\":\"markers+lines\",\"name\":\"MURDER\",\"orientation\":\"v\",\"showlegend\":true,\"x\":[19371.01,20497.1,24695.94,30570.33,30638.93,37274.0,42841.0,50503.0,56668.0],\"xaxis\":\"x\",\"y\":[27,27,37,21,32,28,24,39,44],\"yaxis\":\"y\",\"type\":\"scatter\"},{\"customdata\":[[2004],[2005],[2006],[2007],[2008],[2009],[2010],[2011],[2012]],\"hovertemplate\":\"variable=ATTEMPT TO MURDER<br>GDP=%{x}<br>value=%{y}<br>YEAR=%{customdata[0]}<extra></extra>\",\"legendgroup\":\"ATTEMPT TO MURDER\",\"line\":{\"color\":\"#EF553B\",\"dash\":\"solid\"},\"marker\":{\"symbol\":\"circle\"},\"mode\":\"markers+lines\",\"name\":\"ATTEMPT TO MURDER\",\"orientation\":\"v\",\"showlegend\":true,\"x\":[19371.01,20497.1,24695.94,30570.33,30638.93,37274.0,42841.0,50503.0,56668.0],\"xaxis\":\"x\",\"y\":[27,48,30,23,36,25,25,34,27],\"yaxis\":\"y\",\"type\":\"scatter\"},{\"customdata\":[[2004],[2005],[2006],[2007],[2008],[2009],[2010],[2011],[2012]],\"hovertemplate\":\"variable=CULPABLE HOMICIDE NOT AMOUNTING TO MURDER<br>GDP=%{x}<br>value=%{y}<br>YEAR=%{customdata[0]}<extra></extra>\",\"legendgroup\":\"CULPABLE HOMICIDE NOT AMOUNTING TO MURDER\",\"line\":{\"color\":\"#00cc96\",\"dash\":\"solid\"},\"marker\":{\"symbol\":\"circle\"},\"mode\":\"markers+lines\",\"name\":\"CULPABLE HOMICIDE NOT AMOUNTING TO MURDER\",\"orientation\":\"v\",\"showlegend\":true,\"x\":[19371.01,20497.1,24695.94,30570.33,30638.93,37274.0,42841.0,50503.0,56668.0],\"xaxis\":\"x\",\"y\":[3,0,1,1,1,4,4,5,1],\"yaxis\":\"y\",\"type\":\"scatter\"},{\"customdata\":[[2004],[2005],[2006],[2007],[2008],[2009],[2010],[2011],[2012]],\"hovertemplate\":\"variable=RAPE<br>GDP=%{x}<br>value=%{y}<br>YEAR=%{customdata[0]}<extra></extra>\",\"legendgroup\":\"RAPE\",\"line\":{\"color\":\"#ab63fa\",\"dash\":\"solid\"},\"marker\":{\"symbol\":\"circle\"},\"mode\":\"markers+lines\",\"name\":\"RAPE\",\"orientation\":\"v\",\"showlegend\":true,\"x\":[19371.01,20497.1,24695.94,30570.33,30638.93,37274.0,42841.0,50503.0,56668.0],\"xaxis\":\"x\",\"y\":[12,28,21,24,29,39,53,57,50],\"yaxis\":\"y\",\"type\":\"scatter\"},{\"customdata\":[[2004],[2005],[2006],[2007],[2008],[2009],[2010],[2011],[2012]],\"hovertemplate\":\"variable=CUSTODIAL RAPE<br>GDP=%{x}<br>value=%{y}<br>YEAR=%{customdata[0]}<extra></extra>\",\"legendgroup\":\"CUSTODIAL RAPE\",\"line\":{\"color\":\"#FFA15A\",\"dash\":\"solid\"},\"marker\":{\"symbol\":\"circle\"},\"mode\":\"markers+lines\",\"name\":\"CUSTODIAL RAPE\",\"orientation\":\"v\",\"showlegend\":true,\"x\":[19371.01,20497.1,24695.94,30570.33,30638.93,37274.0,42841.0,50503.0,56668.0],\"xaxis\":\"x\",\"y\":[0,0,0,0,0,0,0,0,0],\"yaxis\":\"y\",\"type\":\"scatter\"},{\"customdata\":[[2004],[2005],[2006],[2007],[2008],[2009],[2010],[2011],[2012]],\"hovertemplate\":\"variable=OTHER RAPE<br>GDP=%{x}<br>value=%{y}<br>YEAR=%{customdata[0]}<extra></extra>\",\"legendgroup\":\"OTHER RAPE\",\"line\":{\"color\":\"#19d3f3\",\"dash\":\"solid\"},\"marker\":{\"symbol\":\"circle\"},\"mode\":\"markers+lines\",\"name\":\"OTHER RAPE\",\"orientation\":\"v\",\"showlegend\":true,\"x\":[19371.01,20497.1,24695.94,30570.33,30638.93,37274.0,42841.0,50503.0,56668.0],\"xaxis\":\"x\",\"y\":[12,28,21,24,29,39,53,57,50],\"yaxis\":\"y\",\"type\":\"scatter\"},{\"customdata\":[[2004],[2005],[2006],[2007],[2008],[2009],[2010],[2011],[2012]],\"hovertemplate\":\"variable=KIDNAPPING & ABDUCTION<br>GDP=%{x}<br>value=%{y}<br>YEAR=%{customdata[0]}<extra></extra>\",\"legendgroup\":\"KIDNAPPING & ABDUCTION\",\"line\":{\"color\":\"#FF6692\",\"dash\":\"solid\"},\"marker\":{\"symbol\":\"circle\"},\"mode\":\"markers+lines\",\"name\":\"KIDNAPPING & ABDUCTION\",\"orientation\":\"v\",\"showlegend\":true,\"x\":[19371.01,20497.1,24695.94,30570.33,30638.93,37274.0,42841.0,50503.0,56668.0],\"xaxis\":\"x\",\"y\":[27,37,49,39,34,48,34,50,27],\"yaxis\":\"y\",\"type\":\"scatter\"},{\"customdata\":[[2004],[2005],[2006],[2007],[2008],[2009],[2010],[2011],[2012]],\"hovertemplate\":\"variable=KIDNAPPING AND ABDUCTION OF WOMEN AND GIRLS<br>GDP=%{x}<br>value=%{y}<br>YEAR=%{customdata[0]}<extra></extra>\",\"legendgroup\":\"KIDNAPPING AND ABDUCTION OF WOMEN AND GIRLS\",\"line\":{\"color\":\"#B6E880\",\"dash\":\"solid\"},\"marker\":{\"symbol\":\"circle\"},\"mode\":\"markers+lines\",\"name\":\"KIDNAPPING AND ABDUCTION OF WOMEN AND GIRLS\",\"orientation\":\"v\",\"showlegend\":true,\"x\":[19371.01,20497.1,24695.94,30570.33,30638.93,37274.0,42841.0,50503.0,56668.0],\"xaxis\":\"x\",\"y\":[16,15,40,23,26,26,24,48,20],\"yaxis\":\"y\",\"type\":\"scatter\"},{\"customdata\":[[2004],[2005],[2006],[2007],[2008],[2009],[2010],[2011],[2012]],\"hovertemplate\":\"variable=KIDNAPPING AND ABDUCTION OF OTHERS<br>GDP=%{x}<br>value=%{y}<br>YEAR=%{customdata[0]}<extra></extra>\",\"legendgroup\":\"KIDNAPPING AND ABDUCTION OF OTHERS\",\"line\":{\"color\":\"#FF97FF\",\"dash\":\"solid\"},\"marker\":{\"symbol\":\"circle\"},\"mode\":\"markers+lines\",\"name\":\"KIDNAPPING AND ABDUCTION OF OTHERS\",\"orientation\":\"v\",\"showlegend\":true,\"x\":[19371.01,20497.1,24695.94,30570.33,30638.93,37274.0,42841.0,50503.0,56668.0],\"xaxis\":\"x\",\"y\":[11,22,9,16,8,22,10,2,7],\"yaxis\":\"y\",\"type\":\"scatter\"},{\"customdata\":[[2004],[2005],[2006],[2007],[2008],[2009],[2010],[2011],[2012]],\"hovertemplate\":\"variable=DACOITY<br>GDP=%{x}<br>value=%{y}<br>YEAR=%{customdata[0]}<extra></extra>\",\"legendgroup\":\"DACOITY\",\"line\":{\"color\":\"#FECB52\",\"dash\":\"solid\"},\"marker\":{\"symbol\":\"circle\"},\"mode\":\"markers+lines\",\"name\":\"DACOITY\",\"orientation\":\"v\",\"showlegend\":true,\"x\":[19371.01,20497.1,24695.94,30570.33,30638.93,37274.0,42841.0,50503.0,56668.0],\"xaxis\":\"x\",\"y\":[1,6,3,9,3,1,8,13,14],\"yaxis\":\"y\",\"type\":\"scatter\"},{\"customdata\":[[2004],[2005],[2006],[2007],[2008],[2009],[2010],[2011],[2012]],\"hovertemplate\":\"variable=PREPARATION AND ASSEMBLY FOR DACOITY<br>GDP=%{x}<br>value=%{y}<br>YEAR=%{customdata[0]}<extra></extra>\",\"legendgroup\":\"PREPARATION AND ASSEMBLY FOR DACOITY\",\"line\":{\"color\":\"#636efa\",\"dash\":\"solid\"},\"marker\":{\"symbol\":\"circle\"},\"mode\":\"markers+lines\",\"name\":\"PREPARATION AND ASSEMBLY FOR DACOITY\",\"orientation\":\"v\",\"showlegend\":true,\"x\":[19371.01,20497.1,24695.94,30570.33,30638.93,37274.0,42841.0,50503.0,56668.0],\"xaxis\":\"x\",\"y\":[0,1,1,1,0,0,0,0,0],\"yaxis\":\"y\",\"type\":\"scatter\"},{\"customdata\":[[2004],[2005],[2006],[2007],[2008],[2009],[2010],[2011],[2012]],\"hovertemplate\":\"variable=ROBBERY<br>GDP=%{x}<br>value=%{y}<br>YEAR=%{customdata[0]}<extra></extra>\",\"legendgroup\":\"ROBBERY\",\"line\":{\"color\":\"#EF553B\",\"dash\":\"solid\"},\"marker\":{\"symbol\":\"circle\"},\"mode\":\"markers+lines\",\"name\":\"ROBBERY\",\"orientation\":\"v\",\"showlegend\":true,\"x\":[19371.01,20497.1,24695.94,30570.33,30638.93,37274.0,42841.0,50503.0,56668.0],\"xaxis\":\"x\",\"y\":[12,19,27,24,28,21,40,28,27],\"yaxis\":\"y\",\"type\":\"scatter\"},{\"customdata\":[[2004],[2005],[2006],[2007],[2008],[2009],[2010],[2011],[2012]],\"hovertemplate\":\"variable=BURGLARY<br>GDP=%{x}<br>value=%{y}<br>YEAR=%{customdata[0]}<extra></extra>\",\"legendgroup\":\"BURGLARY\",\"line\":{\"color\":\"#00cc96\",\"dash\":\"solid\"},\"marker\":{\"symbol\":\"circle\"},\"mode\":\"markers+lines\",\"name\":\"BURGLARY\",\"orientation\":\"v\",\"showlegend\":true,\"x\":[19371.01,20497.1,24695.94,30570.33,30638.93,37274.0,42841.0,50503.0,56668.0],\"xaxis\":\"x\",\"y\":[333,393,417,370,263,311,335,283,366],\"yaxis\":\"y\",\"type\":\"scatter\"},{\"customdata\":[[2004],[2005],[2006],[2007],[2008],[2009],[2010],[2011],[2012]],\"hovertemplate\":\"variable=THEFT<br>GDP=%{x}<br>value=%{y}<br>YEAR=%{customdata[0]}<extra></extra>\",\"legendgroup\":\"THEFT\",\"line\":{\"color\":\"#ab63fa\",\"dash\":\"solid\"},\"marker\":{\"symbol\":\"circle\"},\"mode\":\"markers+lines\",\"name\":\"THEFT\",\"orientation\":\"v\",\"showlegend\":true,\"x\":[19371.01,20497.1,24695.94,30570.33,30638.93,37274.0,42841.0,50503.0,56668.0],\"xaxis\":\"x\",\"y\":[733,987,1121,1215,1045,1040,1234,1284,1062],\"yaxis\":\"y\",\"type\":\"scatter\"},{\"customdata\":[[2004],[2005],[2006],[2007],[2008],[2009],[2010],[2011],[2012]],\"hovertemplate\":\"variable=AUTO THEFT<br>GDP=%{x}<br>value=%{y}<br>YEAR=%{customdata[0]}<extra></extra>\",\"legendgroup\":\"AUTO THEFT\",\"line\":{\"color\":\"#FFA15A\",\"dash\":\"solid\"},\"marker\":{\"symbol\":\"circle\"},\"mode\":\"markers+lines\",\"name\":\"AUTO THEFT\",\"orientation\":\"v\",\"showlegend\":true,\"x\":[19371.01,20497.1,24695.94,30570.33,30638.93,37274.0,42841.0,50503.0,56668.0],\"xaxis\":\"x\",\"y\":[176,298,356,417,343,420,134,393,301],\"yaxis\":\"y\",\"type\":\"scatter\"},{\"customdata\":[[2004],[2005],[2006],[2007],[2008],[2009],[2010],[2011],[2012]],\"hovertemplate\":\"variable=OTHER THEFT<br>GDP=%{x}<br>value=%{y}<br>YEAR=%{customdata[0]}<extra></extra>\",\"legendgroup\":\"OTHER THEFT\",\"line\":{\"color\":\"#19d3f3\",\"dash\":\"solid\"},\"marker\":{\"symbol\":\"circle\"},\"mode\":\"markers+lines\",\"name\":\"OTHER THEFT\",\"orientation\":\"v\",\"showlegend\":true,\"x\":[19371.01,20497.1,24695.94,30570.33,30638.93,37274.0,42841.0,50503.0,56668.0],\"xaxis\":\"x\",\"y\":[557,689,765,798,702,620,1100,891,761],\"yaxis\":\"y\",\"type\":\"scatter\"},{\"customdata\":[[2004],[2005],[2006],[2007],[2008],[2009],[2010],[2011],[2012]],\"hovertemplate\":\"variable=RIOTS<br>GDP=%{x}<br>value=%{y}<br>YEAR=%{customdata[0]}<extra></extra>\",\"legendgroup\":\"RIOTS\",\"line\":{\"color\":\"#FF6692\",\"dash\":\"solid\"},\"marker\":{\"symbol\":\"circle\"},\"mode\":\"markers+lines\",\"name\":\"RIOTS\",\"orientation\":\"v\",\"showlegend\":true,\"x\":[19371.01,20497.1,24695.94,30570.33,30638.93,37274.0,42841.0,50503.0,56668.0],\"xaxis\":\"x\",\"y\":[3,31,28,24,14,12,2,3,12],\"yaxis\":\"y\",\"type\":\"scatter\"},{\"customdata\":[[2004],[2005],[2006],[2007],[2008],[2009],[2010],[2011],[2012]],\"hovertemplate\":\"variable=CRIMINAL BREACH OF TRUST<br>GDP=%{x}<br>value=%{y}<br>YEAR=%{customdata[0]}<extra></extra>\",\"legendgroup\":\"CRIMINAL BREACH OF TRUST\",\"line\":{\"color\":\"#B6E880\",\"dash\":\"solid\"},\"marker\":{\"symbol\":\"circle\"},\"mode\":\"markers+lines\",\"name\":\"CRIMINAL BREACH OF TRUST\",\"orientation\":\"v\",\"showlegend\":true,\"x\":[19371.01,20497.1,24695.94,30570.33,30638.93,37274.0,42841.0,50503.0,56668.0],\"xaxis\":\"x\",\"y\":[62,58,66,65,31,62,75,57,68],\"yaxis\":\"y\",\"type\":\"scatter\"},{\"customdata\":[[2004],[2005],[2006],[2007],[2008],[2009],[2010],[2011],[2012]],\"hovertemplate\":\"variable=CHEATING<br>GDP=%{x}<br>value=%{y}<br>YEAR=%{customdata[0]}<extra></extra>\",\"legendgroup\":\"CHEATING\",\"line\":{\"color\":\"#FF97FF\",\"dash\":\"solid\"},\"marker\":{\"symbol\":\"circle\"},\"mode\":\"markers+lines\",\"name\":\"CHEATING\",\"orientation\":\"v\",\"showlegend\":true,\"x\":[19371.01,20497.1,24695.94,30570.33,30638.93,37274.0,42841.0,50503.0,56668.0],\"xaxis\":\"x\",\"y\":[280,279,261,285,267,270,294,244,252],\"yaxis\":\"y\",\"type\":\"scatter\"},{\"customdata\":[[2004],[2005],[2006],[2007],[2008],[2009],[2010],[2011],[2012]],\"hovertemplate\":\"variable=COUNTERFIETING<br>GDP=%{x}<br>value=%{y}<br>YEAR=%{customdata[0]}<extra></extra>\",\"legendgroup\":\"COUNTERFIETING\",\"line\":{\"color\":\"#FECB52\",\"dash\":\"solid\"},\"marker\":{\"symbol\":\"circle\"},\"mode\":\"markers+lines\",\"name\":\"COUNTERFIETING\",\"orientation\":\"v\",\"showlegend\":true,\"x\":[19371.01,20497.1,24695.94,30570.33,30638.93,37274.0,42841.0,50503.0,56668.0],\"xaxis\":\"x\",\"y\":[2,24,27,16,21,19,16,4,6],\"yaxis\":\"y\",\"type\":\"scatter\"},{\"customdata\":[[2004],[2005],[2006],[2007],[2008],[2009],[2010],[2011],[2012]],\"hovertemplate\":\"variable=ARSON<br>GDP=%{x}<br>value=%{y}<br>YEAR=%{customdata[0]}<extra></extra>\",\"legendgroup\":\"ARSON\",\"line\":{\"color\":\"#636efa\",\"dash\":\"solid\"},\"marker\":{\"symbol\":\"circle\"},\"mode\":\"markers+lines\",\"name\":\"ARSON\",\"orientation\":\"v\",\"showlegend\":true,\"x\":[19371.01,20497.1,24695.94,30570.33,30638.93,37274.0,42841.0,50503.0,56668.0],\"xaxis\":\"x\",\"y\":[8,8,8,9,10,13,28,11,10],\"yaxis\":\"y\",\"type\":\"scatter\"},{\"customdata\":[[2004],[2005],[2006],[2007],[2008],[2009],[2010],[2011],[2012]],\"hovertemplate\":\"variable=HURT/GREVIOUS HURT<br>GDP=%{x}<br>value=%{y}<br>YEAR=%{customdata[0]}<extra></extra>\",\"legendgroup\":\"HURT/GREVIOUS HURT\",\"line\":{\"color\":\"#EF553B\",\"dash\":\"solid\"},\"marker\":{\"symbol\":\"circle\"},\"mode\":\"markers+lines\",\"name\":\"HURT/GREVIOUS HURT\",\"orientation\":\"v\",\"showlegend\":true,\"x\":[19371.01,20497.1,24695.94,30570.33,30638.93,37274.0,42841.0,50503.0,56668.0],\"xaxis\":\"x\",\"y\":[374,495,540,513,412,473,2443,1308,1207],\"yaxis\":\"y\",\"type\":\"scatter\"},{\"customdata\":[[2004],[2005],[2006],[2007],[2008],[2009],[2010],[2011],[2012]],\"hovertemplate\":\"variable=DOWRY DEATHS<br>GDP=%{x}<br>value=%{y}<br>YEAR=%{customdata[0]}<extra></extra>\",\"legendgroup\":\"DOWRY DEATHS\",\"line\":{\"color\":\"#00cc96\",\"dash\":\"solid\"},\"marker\":{\"symbol\":\"circle\"},\"mode\":\"markers+lines\",\"name\":\"DOWRY DEATHS\",\"orientation\":\"v\",\"showlegend\":true,\"x\":[19371.01,20497.1,24695.94,30570.33,30638.93,37274.0,42841.0,50503.0,56668.0],\"xaxis\":\"x\",\"y\":[1,2,10,14,13,13,11,12,11],\"yaxis\":\"y\",\"type\":\"scatter\"},{\"customdata\":[[2004],[2005],[2006],[2007],[2008],[2009],[2010],[2011],[2012]],\"hovertemplate\":\"variable=ASSAULT ON WOMEN WITH INTENT TO OUTRAGE HER MODESTY<br>GDP=%{x}<br>value=%{y}<br>YEAR=%{customdata[0]}<extra></extra>\",\"legendgroup\":\"ASSAULT ON WOMEN WITH INTENT TO OUTRAGE HER MODESTY\",\"line\":{\"color\":\"#ab63fa\",\"dash\":\"solid\"},\"marker\":{\"symbol\":\"circle\"},\"mode\":\"markers+lines\",\"name\":\"ASSAULT ON WOMEN WITH INTENT TO OUTRAGE HER MODESTY\",\"orientation\":\"v\",\"showlegend\":true,\"x\":[19371.01,20497.1,24695.94,30570.33,30638.93,37274.0,42841.0,50503.0,56668.0],\"xaxis\":\"x\",\"y\":[24,45,62,100,87,95,59,31,23],\"yaxis\":\"y\",\"type\":\"scatter\"},{\"customdata\":[[2004],[2005],[2006],[2007],[2008],[2009],[2010],[2011],[2012]],\"hovertemplate\":\"variable=INSULT TO MODESTY OF WOMEN<br>GDP=%{x}<br>value=%{y}<br>YEAR=%{customdata[0]}<extra></extra>\",\"legendgroup\":\"INSULT TO MODESTY OF WOMEN\",\"line\":{\"color\":\"#FFA15A\",\"dash\":\"solid\"},\"marker\":{\"symbol\":\"circle\"},\"mode\":\"markers+lines\",\"name\":\"INSULT TO MODESTY OF WOMEN\",\"orientation\":\"v\",\"showlegend\":true,\"x\":[19371.01,20497.1,24695.94,30570.33,30638.93,37274.0,42841.0,50503.0,56668.0],\"xaxis\":\"x\",\"y\":[43,86,30,25,2,54,52,50,11],\"yaxis\":\"y\",\"type\":\"scatter\"},{\"customdata\":[[2004],[2005],[2006],[2007],[2008],[2009],[2010],[2011],[2012]],\"hovertemplate\":\"variable=CRUELTY BY HUSBAND OR HIS RELATIVES<br>GDP=%{x}<br>value=%{y}<br>YEAR=%{customdata[0]}<extra></extra>\",\"legendgroup\":\"CRUELTY BY HUSBAND OR HIS RELATIVES\",\"line\":{\"color\":\"#19d3f3\",\"dash\":\"solid\"},\"marker\":{\"symbol\":\"circle\"},\"mode\":\"markers+lines\",\"name\":\"CRUELTY BY HUSBAND OR HIS RELATIVES\",\"orientation\":\"v\",\"showlegend\":true,\"x\":[19371.01,20497.1,24695.94,30570.33,30638.93,37274.0,42841.0,50503.0,56668.0],\"xaxis\":\"x\",\"y\":[243,361,397,535,488,481,393,386,412],\"yaxis\":\"y\",\"type\":\"scatter\"},{\"customdata\":[[2004],[2005],[2006],[2007],[2008],[2009],[2010],[2011],[2012]],\"hovertemplate\":\"variable=IMPORTATION OF GIRLS FROM FOREIGN COUNTRIES<br>GDP=%{x}<br>value=%{y}<br>YEAR=%{customdata[0]}<extra></extra>\",\"legendgroup\":\"IMPORTATION OF GIRLS FROM FOREIGN COUNTRIES\",\"line\":{\"color\":\"#FF6692\",\"dash\":\"solid\"},\"marker\":{\"symbol\":\"circle\"},\"mode\":\"markers+lines\",\"name\":\"IMPORTATION OF GIRLS FROM FOREIGN COUNTRIES\",\"orientation\":\"v\",\"showlegend\":true,\"x\":[19371.01,20497.1,24695.94,30570.33,30638.93,37274.0,42841.0,50503.0,56668.0],\"xaxis\":\"x\",\"y\":[0,0,0,0,0,0,0,0,0],\"yaxis\":\"y\",\"type\":\"scatter\"},{\"customdata\":[[2004],[2005],[2006],[2007],[2008],[2009],[2010],[2011],[2012]],\"hovertemplate\":\"variable=CAUSING DEATH BY NEGLIGENCE<br>GDP=%{x}<br>value=%{y}<br>YEAR=%{customdata[0]}<extra></extra>\",\"legendgroup\":\"CAUSING DEATH BY NEGLIGENCE\",\"line\":{\"color\":\"#B6E880\",\"dash\":\"solid\"},\"marker\":{\"symbol\":\"circle\"},\"mode\":\"markers+lines\",\"name\":\"CAUSING DEATH BY NEGLIGENCE\",\"orientation\":\"v\",\"showlegend\":true,\"x\":[19371.01,20497.1,24695.94,30570.33,30638.93,37274.0,42841.0,50503.0,56668.0],\"xaxis\":\"x\",\"y\":[183,184,247,255,313,428,466,410,395],\"yaxis\":\"y\",\"type\":\"scatter\"},{\"customdata\":[[2004],[2005],[2006],[2007],[2008],[2009],[2010],[2011],[2012]],\"hovertemplate\":\"variable=OTHER IPC CRIMES<br>GDP=%{x}<br>value=%{y}<br>YEAR=%{customdata[0]}<extra></extra>\",\"legendgroup\":\"OTHER IPC CRIMES\",\"line\":{\"color\":\"#FF97FF\",\"dash\":\"solid\"},\"marker\":{\"symbol\":\"circle\"},\"mode\":\"markers+lines\",\"name\":\"OTHER IPC CRIMES\",\"orientation\":\"v\",\"showlegend\":true,\"x\":[19371.01,20497.1,24695.94,30570.33,30638.93,37274.0,42841.0,50503.0,56668.0],\"xaxis\":\"x\",\"y\":[784,1336,2095,1912,1886,1979,1516,577,601],\"yaxis\":\"y\",\"type\":\"scatter\"},{\"customdata\":[[2004],[2005],[2006],[2007],[2008],[2009],[2010],[2011],[2012]],\"hovertemplate\":\"variable=TOTAL IPC CRIMES<br>GDP=%{x}<br>value=%{y}<br>YEAR=%{customdata[0]}<extra></extra>\",\"legendgroup\":\"TOTAL IPC CRIMES\",\"line\":{\"color\":\"#FECB52\",\"dash\":\"solid\"},\"marker\":{\"symbol\":\"circle\"},\"mode\":\"markers+lines\",\"name\":\"TOTAL IPC CRIMES\",\"orientation\":\"v\",\"showlegend\":true,\"x\":[19371.01,20497.1,24695.94,30570.33,30638.93,37274.0,42841.0,50503.0,56668.0],\"xaxis\":\"x\",\"y\":[3182,4455,5478,5480,5015,5416,7112,4886,4626],\"yaxis\":\"y\",\"type\":\"scatter\"}],                        {\"template\":{\"data\":{\"histogram2dcontour\":[{\"type\":\"histogram2dcontour\",\"colorbar\":{\"outlinewidth\":0,\"ticks\":\"\"},\"colorscale\":[[0.0,\"#0d0887\"],[0.1111111111111111,\"#46039f\"],[0.2222222222222222,\"#7201a8\"],[0.3333333333333333,\"#9c179e\"],[0.4444444444444444,\"#bd3786\"],[0.5555555555555556,\"#d8576b\"],[0.6666666666666666,\"#ed7953\"],[0.7777777777777778,\"#fb9f3a\"],[0.8888888888888888,\"#fdca26\"],[1.0,\"#f0f921\"]]}],\"choropleth\":[{\"type\":\"choropleth\",\"colorbar\":{\"outlinewidth\":0,\"ticks\":\"\"}}],\"histogram2d\":[{\"type\":\"histogram2d\",\"colorbar\":{\"outlinewidth\":0,\"ticks\":\"\"},\"colorscale\":[[0.0,\"#0d0887\"],[0.1111111111111111,\"#46039f\"],[0.2222222222222222,\"#7201a8\"],[0.3333333333333333,\"#9c179e\"],[0.4444444444444444,\"#bd3786\"],[0.5555555555555556,\"#d8576b\"],[0.6666666666666666,\"#ed7953\"],[0.7777777777777778,\"#fb9f3a\"],[0.8888888888888888,\"#fdca26\"],[1.0,\"#f0f921\"]]}],\"heatmap\":[{\"type\":\"heatmap\",\"colorbar\":{\"outlinewidth\":0,\"ticks\":\"\"},\"colorscale\":[[0.0,\"#0d0887\"],[0.1111111111111111,\"#46039f\"],[0.2222222222222222,\"#7201a8\"],[0.3333333333333333,\"#9c179e\"],[0.4444444444444444,\"#bd3786\"],[0.5555555555555556,\"#d8576b\"],[0.6666666666666666,\"#ed7953\"],[0.7777777777777778,\"#fb9f3a\"],[0.8888888888888888,\"#fdca26\"],[1.0,\"#f0f921\"]]}],\"heatmapgl\":[{\"type\":\"heatmapgl\",\"colorbar\":{\"outlinewidth\":0,\"ticks\":\"\"},\"colorscale\":[[0.0,\"#0d0887\"],[0.1111111111111111,\"#46039f\"],[0.2222222222222222,\"#7201a8\"],[0.3333333333333333,\"#9c179e\"],[0.4444444444444444,\"#bd3786\"],[0.5555555555555556,\"#d8576b\"],[0.6666666666666666,\"#ed7953\"],[0.7777777777777778,\"#fb9f3a\"],[0.8888888888888888,\"#fdca26\"],[1.0,\"#f0f921\"]]}],\"contourcarpet\":[{\"type\":\"contourcarpet\",\"colorbar\":{\"outlinewidth\":0,\"ticks\":\"\"}}],\"contour\":[{\"type\":\"contour\",\"colorbar\":{\"outlinewidth\":0,\"ticks\":\"\"},\"colorscale\":[[0.0,\"#0d0887\"],[0.1111111111111111,\"#46039f\"],[0.2222222222222222,\"#7201a8\"],[0.3333333333333333,\"#9c179e\"],[0.4444444444444444,\"#bd3786\"],[0.5555555555555556,\"#d8576b\"],[0.6666666666666666,\"#ed7953\"],[0.7777777777777778,\"#fb9f3a\"],[0.8888888888888888,\"#fdca26\"],[1.0,\"#f0f921\"]]}],\"surface\":[{\"type\":\"surface\",\"colorbar\":{\"outlinewidth\":0,\"ticks\":\"\"},\"colorscale\":[[0.0,\"#0d0887\"],[0.1111111111111111,\"#46039f\"],[0.2222222222222222,\"#7201a8\"],[0.3333333333333333,\"#9c179e\"],[0.4444444444444444,\"#bd3786\"],[0.5555555555555556,\"#d8576b\"],[0.6666666666666666,\"#ed7953\"],[0.7777777777777778,\"#fb9f3a\"],[0.8888888888888888,\"#fdca26\"],[1.0,\"#f0f921\"]]}],\"mesh3d\":[{\"type\":\"mesh3d\",\"colorbar\":{\"outlinewidth\":0,\"ticks\":\"\"}}],\"scatter\":[{\"fillpattern\":{\"fillmode\":\"overlay\",\"size\":10,\"solidity\":0.2},\"type\":\"scatter\"}],\"parcoords\":[{\"type\":\"parcoords\",\"line\":{\"colorbar\":{\"outlinewidth\":0,\"ticks\":\"\"}}}],\"scatterpolargl\":[{\"type\":\"scatterpolargl\",\"marker\":{\"colorbar\":{\"outlinewidth\":0,\"ticks\":\"\"}}}],\"bar\":[{\"error_x\":{\"color\":\"#2a3f5f\"},\"error_y\":{\"color\":\"#2a3f5f\"},\"marker\":{\"line\":{\"color\":\"#E5ECF6\",\"width\":0.5},\"pattern\":{\"fillmode\":\"overlay\",\"size\":10,\"solidity\":0.2}},\"type\":\"bar\"}],\"scattergeo\":[{\"type\":\"scattergeo\",\"marker\":{\"colorbar\":{\"outlinewidth\":0,\"ticks\":\"\"}}}],\"scatterpolar\":[{\"type\":\"scatterpolar\",\"marker\":{\"colorbar\":{\"outlinewidth\":0,\"ticks\":\"\"}}}],\"histogram\":[{\"marker\":{\"pattern\":{\"fillmode\":\"overlay\",\"size\":10,\"solidity\":0.2}},\"type\":\"histogram\"}],\"scattergl\":[{\"type\":\"scattergl\",\"marker\":{\"colorbar\":{\"outlinewidth\":0,\"ticks\":\"\"}}}],\"scatter3d\":[{\"type\":\"scatter3d\",\"line\":{\"colorbar\":{\"outlinewidth\":0,\"ticks\":\"\"}},\"marker\":{\"colorbar\":{\"outlinewidth\":0,\"ticks\":\"\"}}}],\"scattermapbox\":[{\"type\":\"scattermapbox\",\"marker\":{\"colorbar\":{\"outlinewidth\":0,\"ticks\":\"\"}}}],\"scatterternary\":[{\"type\":\"scatterternary\",\"marker\":{\"colorbar\":{\"outlinewidth\":0,\"ticks\":\"\"}}}],\"scattercarpet\":[{\"type\":\"scattercarpet\",\"marker\":{\"colorbar\":{\"outlinewidth\":0,\"ticks\":\"\"}}}],\"carpet\":[{\"aaxis\":{\"endlinecolor\":\"#2a3f5f\",\"gridcolor\":\"white\",\"linecolor\":\"white\",\"minorgridcolor\":\"white\",\"startlinecolor\":\"#2a3f5f\"},\"baxis\":{\"endlinecolor\":\"#2a3f5f\",\"gridcolor\":\"white\",\"linecolor\":\"white\",\"minorgridcolor\":\"white\",\"startlinecolor\":\"#2a3f5f\"},\"type\":\"carpet\"}],\"table\":[{\"cells\":{\"fill\":{\"color\":\"#EBF0F8\"},\"line\":{\"color\":\"white\"}},\"header\":{\"fill\":{\"color\":\"#C8D4E3\"},\"line\":{\"color\":\"white\"}},\"type\":\"table\"}],\"barpolar\":[{\"marker\":{\"line\":{\"color\":\"#E5ECF6\",\"width\":0.5},\"pattern\":{\"fillmode\":\"overlay\",\"size\":10,\"solidity\":0.2}},\"type\":\"barpolar\"}],\"pie\":[{\"automargin\":true,\"type\":\"pie\"}]},\"layout\":{\"autotypenumbers\":\"strict\",\"colorway\":[\"#636efa\",\"#EF553B\",\"#00cc96\",\"#ab63fa\",\"#FFA15A\",\"#19d3f3\",\"#FF6692\",\"#B6E880\",\"#FF97FF\",\"#FECB52\"],\"font\":{\"color\":\"#2a3f5f\"},\"hovermode\":\"closest\",\"hoverlabel\":{\"align\":\"left\"},\"paper_bgcolor\":\"white\",\"plot_bgcolor\":\"#E5ECF6\",\"polar\":{\"bgcolor\":\"#E5ECF6\",\"angularaxis\":{\"gridcolor\":\"white\",\"linecolor\":\"white\",\"ticks\":\"\"},\"radialaxis\":{\"gridcolor\":\"white\",\"linecolor\":\"white\",\"ticks\":\"\"}},\"ternary\":{\"bgcolor\":\"#E5ECF6\",\"aaxis\":{\"gridcolor\":\"white\",\"linecolor\":\"white\",\"ticks\":\"\"},\"baxis\":{\"gridcolor\":\"white\",\"linecolor\":\"white\",\"ticks\":\"\"},\"caxis\":{\"gridcolor\":\"white\",\"linecolor\":\"white\",\"ticks\":\"\"}},\"coloraxis\":{\"colorbar\":{\"outlinewidth\":0,\"ticks\":\"\"}},\"colorscale\":{\"sequential\":[[0.0,\"#0d0887\"],[0.1111111111111111,\"#46039f\"],[0.2222222222222222,\"#7201a8\"],[0.3333333333333333,\"#9c179e\"],[0.4444444444444444,\"#bd3786\"],[0.5555555555555556,\"#d8576b\"],[0.6666666666666666,\"#ed7953\"],[0.7777777777777778,\"#fb9f3a\"],[0.8888888888888888,\"#fdca26\"],[1.0,\"#f0f921\"]],\"sequentialminus\":[[0.0,\"#0d0887\"],[0.1111111111111111,\"#46039f\"],[0.2222222222222222,\"#7201a8\"],[0.3333333333333333,\"#9c179e\"],[0.4444444444444444,\"#bd3786\"],[0.5555555555555556,\"#d8576b\"],[0.6666666666666666,\"#ed7953\"],[0.7777777777777778,\"#fb9f3a\"],[0.8888888888888888,\"#fdca26\"],[1.0,\"#f0f921\"]],\"diverging\":[[0,\"#8e0152\"],[0.1,\"#c51b7d\"],[0.2,\"#de77ae\"],[0.3,\"#f1b6da\"],[0.4,\"#fde0ef\"],[0.5,\"#f7f7f7\"],[0.6,\"#e6f5d0\"],[0.7,\"#b8e186\"],[0.8,\"#7fbc41\"],[0.9,\"#4d9221\"],[1,\"#276419\"]]},\"xaxis\":{\"gridcolor\":\"white\",\"linecolor\":\"white\",\"ticks\":\"\",\"title\":{\"standoff\":15},\"zerolinecolor\":\"white\",\"automargin\":true,\"zerolinewidth\":2},\"yaxis\":{\"gridcolor\":\"white\",\"linecolor\":\"white\",\"ticks\":\"\",\"title\":{\"standoff\":15},\"zerolinecolor\":\"white\",\"automargin\":true,\"zerolinewidth\":2},\"scene\":{\"xaxis\":{\"backgroundcolor\":\"#E5ECF6\",\"gridcolor\":\"white\",\"linecolor\":\"white\",\"showbackground\":true,\"ticks\":\"\",\"zerolinecolor\":\"white\",\"gridwidth\":2},\"yaxis\":{\"backgroundcolor\":\"#E5ECF6\",\"gridcolor\":\"white\",\"linecolor\":\"white\",\"showbackground\":true,\"ticks\":\"\",\"zerolinecolor\":\"white\",\"gridwidth\":2},\"zaxis\":{\"backgroundcolor\":\"#E5ECF6\",\"gridcolor\":\"white\",\"linecolor\":\"white\",\"showbackground\":true,\"ticks\":\"\",\"zerolinecolor\":\"white\",\"gridwidth\":2}},\"shapedefaults\":{\"line\":{\"color\":\"#2a3f5f\"}},\"annotationdefaults\":{\"arrowcolor\":\"#2a3f5f\",\"arrowhead\":0,\"arrowwidth\":1},\"geo\":{\"bgcolor\":\"white\",\"landcolor\":\"#E5ECF6\",\"subunitcolor\":\"white\",\"showland\":true,\"showlakes\":true,\"lakecolor\":\"white\"},\"title\":{\"x\":0.05},\"mapbox\":{\"style\":\"light\"}}},\"xaxis\":{\"anchor\":\"y\",\"domain\":[0.0,1.0],\"title\":{\"text\":\"GDP\"}},\"yaxis\":{\"anchor\":\"x\",\"domain\":[0.0,1.0],\"title\":{\"text\":\"value\"}},\"legend\":{\"title\":{\"text\":\"variable\"},\"tracegroupgap\":0},\"title\":{\"text\":\"Crime type vs GDP for Visakhapatnam\"}},                        {\"responsive\": true}                    ).then(function(){\n",
       "                            \n",
       "var gd = document.getElementById('a960f42f-4e97-4130-91ad-817266879393');\n",
       "var x = new MutationObserver(function (mutations, observer) {{\n",
       "        var display = window.getComputedStyle(gd).display;\n",
       "        if (!display || display === 'none') {{\n",
       "            console.log([gd, 'removed!']);\n",
       "            Plotly.purge(gd);\n",
       "            observer.disconnect();\n",
       "        }}\n",
       "}});\n",
       "\n",
       "// Listen for the removal of the full notebook cells\n",
       "var notebookContainer = gd.closest('#notebook-container');\n",
       "if (notebookContainer) {{\n",
       "    x.observe(notebookContainer, {childList: true});\n",
       "}}\n",
       "\n",
       "// Listen for the clearing of the current output cell\n",
       "var outputEl = gd.closest('.output');\n",
       "if (outputEl) {{\n",
       "    x.observe(outputEl, {childList: true});\n",
       "}}\n",
       "\n",
       "                        })                };                });            </script>        </div>"
      ]
     },
     "metadata": {},
     "output_type": "display_data"
    }
   ],
   "source": [
    "fig = px.line(crime_dataset_visakhapatnam, x=\"GDP\", y=list_of_crimes, title=\"Crime type vs GDP for Visakhapatnam\", hover_data=[\"YEAR\"], markers=True)\n",
    "fig.show()"
   ]
  },
  {
   "cell_type": "code",
   "execution_count": null,
   "metadata": {},
   "outputs": [],
   "source": []
  },
  {
   "cell_type": "code",
   "execution_count": 13,
   "metadata": {},
   "outputs": [
    {
     "data": {
      "text/html": [
       "<div>\n",
       "<style scoped>\n",
       "    .dataframe tbody tr th:only-of-type {\n",
       "        vertical-align: middle;\n",
       "    }\n",
       "\n",
       "    .dataframe tbody tr th {\n",
       "        vertical-align: top;\n",
       "    }\n",
       "\n",
       "    .dataframe thead th {\n",
       "        text-align: right;\n",
       "    }\n",
       "</style>\n",
       "<table border=\"1\" class=\"dataframe\">\n",
       "  <thead>\n",
       "    <tr style=\"text-align: right;\">\n",
       "      <th></th>\n",
       "      <th>STATE/UT</th>\n",
       "      <th>YEAR</th>\n",
       "      <th>DEMOGRAPHIC PARTICULARS</th>\n",
       "      <th>Male Convicts</th>\n",
       "    </tr>\n",
       "  </thead>\n",
       "  <tbody>\n",
       "    <tr>\n",
       "      <th>0</th>\n",
       "      <td>ANDHRA PRADESH</td>\n",
       "      <td>2001</td>\n",
       "      <td>Educational Standard</td>\n",
       "      <td>4119</td>\n",
       "    </tr>\n",
       "    <tr>\n",
       "      <th>7</th>\n",
       "      <td>ANDHRA PRADESH</td>\n",
       "      <td>2002</td>\n",
       "      <td>Educational Standard</td>\n",
       "      <td>4721</td>\n",
       "    </tr>\n",
       "    <tr>\n",
       "      <th>14</th>\n",
       "      <td>ANDHRA PRADESH</td>\n",
       "      <td>2003</td>\n",
       "      <td>Educational Standard</td>\n",
       "      <td>4975</td>\n",
       "    </tr>\n",
       "    <tr>\n",
       "      <th>21</th>\n",
       "      <td>ANDHRA PRADESH</td>\n",
       "      <td>2004</td>\n",
       "      <td>Educational Standard</td>\n",
       "      <td>4568</td>\n",
       "    </tr>\n",
       "    <tr>\n",
       "      <th>28</th>\n",
       "      <td>ANDHRA PRADESH</td>\n",
       "      <td>2005</td>\n",
       "      <td>Educational Standard</td>\n",
       "      <td>4813</td>\n",
       "    </tr>\n",
       "    <tr>\n",
       "      <th>...</th>\n",
       "      <td>...</td>\n",
       "      <td>...</td>\n",
       "      <td>...</td>\n",
       "      <td>...</td>\n",
       "    </tr>\n",
       "    <tr>\n",
       "      <th>2840</th>\n",
       "      <td>PONDICHERRY</td>\n",
       "      <td>2008</td>\n",
       "      <td>Educational Standard</td>\n",
       "      <td>96</td>\n",
       "    </tr>\n",
       "    <tr>\n",
       "      <th>2847</th>\n",
       "      <td>PONDICHERRY</td>\n",
       "      <td>2009</td>\n",
       "      <td>Educational Standard</td>\n",
       "      <td>117</td>\n",
       "    </tr>\n",
       "    <tr>\n",
       "      <th>2854</th>\n",
       "      <td>PONDICHERRY</td>\n",
       "      <td>2010</td>\n",
       "      <td>Educational Standard</td>\n",
       "      <td>128</td>\n",
       "    </tr>\n",
       "    <tr>\n",
       "      <th>2861</th>\n",
       "      <td>PONDICHERRY</td>\n",
       "      <td>2011</td>\n",
       "      <td>Educational Standard</td>\n",
       "      <td>127</td>\n",
       "    </tr>\n",
       "    <tr>\n",
       "      <th>2868</th>\n",
       "      <td>PONDICHERRY</td>\n",
       "      <td>2012</td>\n",
       "      <td>Educational Standard</td>\n",
       "      <td>107</td>\n",
       "    </tr>\n",
       "  </tbody>\n",
       "</table>\n",
       "<p>412 rows × 4 columns</p>\n",
       "</div>"
      ],
      "text/plain": [
       "            STATE/UT  YEAR DEMOGRAPHIC PARTICULARS  Male Convicts\n",
       "0     ANDHRA PRADESH  2001    Educational Standard           4119\n",
       "7     ANDHRA PRADESH  2002    Educational Standard           4721\n",
       "14    ANDHRA PRADESH  2003    Educational Standard           4975\n",
       "21    ANDHRA PRADESH  2004    Educational Standard           4568\n",
       "28    ANDHRA PRADESH  2005    Educational Standard           4813\n",
       "...              ...   ...                     ...            ...\n",
       "2840     PONDICHERRY  2008    Educational Standard             96\n",
       "2847     PONDICHERRY  2009    Educational Standard            117\n",
       "2854     PONDICHERRY  2010    Educational Standard            128\n",
       "2861     PONDICHERRY  2011    Educational Standard            127\n",
       "2868     PONDICHERRY  2012    Educational Standard            107\n",
       "\n",
       "[412 rows x 4 columns]"
      ]
     },
     "execution_count": 13,
     "metadata": {},
     "output_type": "execute_result"
    }
   ],
   "source": [
    "education_dataset[['STATE/UT','YEAR','DEMOGRAPHIC PARTICULARS','Male Convicts']].loc[\n",
    "    education_dataset['DEMOGRAPHIC PARTICULARS'] == 'Educational Standard'] "
   ]
  },
  {
   "cell_type": "code",
   "execution_count": 14,
   "metadata": {},
   "outputs": [
    {
     "data": {
      "text/html": [
       "<div>\n",
       "<style scoped>\n",
       "    .dataframe tbody tr th:only-of-type {\n",
       "        vertical-align: middle;\n",
       "    }\n",
       "\n",
       "    .dataframe tbody tr th {\n",
       "        vertical-align: top;\n",
       "    }\n",
       "\n",
       "    .dataframe thead th {\n",
       "        text-align: right;\n",
       "    }\n",
       "</style>\n",
       "<table border=\"1\" class=\"dataframe\">\n",
       "  <thead>\n",
       "    <tr style=\"text-align: right;\">\n",
       "      <th></th>\n",
       "      <th>STATE/UT</th>\n",
       "      <th>YEAR</th>\n",
       "      <th>DEMOGRAPHIC PARTICULARS</th>\n",
       "      <th>Male Convicts</th>\n",
       "      <th>Female Convicts</th>\n",
       "      <th>Total Convicts</th>\n",
       "      <th>Male Under trial</th>\n",
       "      <th>Female Under trial</th>\n",
       "      <th>Total Under trial</th>\n",
       "      <th>Male Detenues</th>\n",
       "      <th>Female Detenues</th>\n",
       "      <th>Total Detenues</th>\n",
       "      <th>Male Others</th>\n",
       "      <th>Female Others</th>\n",
       "      <th>Total Others</th>\n",
       "      <th>Total Male</th>\n",
       "      <th>Total Female</th>\n",
       "      <th>Grand Total</th>\n",
       "    </tr>\n",
       "  </thead>\n",
       "  <tbody>\n",
       "    <tr>\n",
       "      <th>0</th>\n",
       "      <td>ANDHRA PRADESH</td>\n",
       "      <td>2001</td>\n",
       "      <td>Educational Standard</td>\n",
       "      <td>4119</td>\n",
       "      <td>102</td>\n",
       "      <td>4221</td>\n",
       "      <td>8360</td>\n",
       "      <td>482</td>\n",
       "      <td>8842</td>\n",
       "      <td>4</td>\n",
       "      <td>1</td>\n",
       "      <td>5</td>\n",
       "      <td>22</td>\n",
       "      <td>0</td>\n",
       "      <td>22</td>\n",
       "      <td>12505</td>\n",
       "      <td>585</td>\n",
       "      <td>13090</td>\n",
       "    </tr>\n",
       "    <tr>\n",
       "      <th>1</th>\n",
       "      <td>ANDHRA PRADESH</td>\n",
       "      <td>2001</td>\n",
       "      <td>Educational Standard - Illiterate</td>\n",
       "      <td>1441</td>\n",
       "      <td>82</td>\n",
       "      <td>1523</td>\n",
       "      <td>3794</td>\n",
       "      <td>361</td>\n",
       "      <td>4155</td>\n",
       "      <td>1</td>\n",
       "      <td>1</td>\n",
       "      <td>2</td>\n",
       "      <td>8</td>\n",
       "      <td>0</td>\n",
       "      <td>8</td>\n",
       "      <td>5244</td>\n",
       "      <td>444</td>\n",
       "      <td>5688</td>\n",
       "    </tr>\n",
       "    <tr>\n",
       "      <th>2</th>\n",
       "      <td>ANDHRA PRADESH</td>\n",
       "      <td>2001</td>\n",
       "      <td>Educational Standard - Below Class X</td>\n",
       "      <td>1729</td>\n",
       "      <td>20</td>\n",
       "      <td>1749</td>\n",
       "      <td>2833</td>\n",
       "      <td>89</td>\n",
       "      <td>2922</td>\n",
       "      <td>0</td>\n",
       "      <td>0</td>\n",
       "      <td>0</td>\n",
       "      <td>10</td>\n",
       "      <td>0</td>\n",
       "      <td>10</td>\n",
       "      <td>4572</td>\n",
       "      <td>109</td>\n",
       "      <td>4681</td>\n",
       "    </tr>\n",
       "    <tr>\n",
       "      <th>3</th>\n",
       "      <td>ANDHRA PRADESH</td>\n",
       "      <td>2001</td>\n",
       "      <td>Educational Standard - Class X and above but b...</td>\n",
       "      <td>532</td>\n",
       "      <td>0</td>\n",
       "      <td>532</td>\n",
       "      <td>1260</td>\n",
       "      <td>26</td>\n",
       "      <td>1286</td>\n",
       "      <td>2</td>\n",
       "      <td>0</td>\n",
       "      <td>2</td>\n",
       "      <td>2</td>\n",
       "      <td>0</td>\n",
       "      <td>2</td>\n",
       "      <td>1796</td>\n",
       "      <td>26</td>\n",
       "      <td>1822</td>\n",
       "    </tr>\n",
       "    <tr>\n",
       "      <th>4</th>\n",
       "      <td>ANDHRA PRADESH</td>\n",
       "      <td>2001</td>\n",
       "      <td>Educational Standard - Graduate</td>\n",
       "      <td>299</td>\n",
       "      <td>0</td>\n",
       "      <td>299</td>\n",
       "      <td>272</td>\n",
       "      <td>3</td>\n",
       "      <td>275</td>\n",
       "      <td>0</td>\n",
       "      <td>0</td>\n",
       "      <td>0</td>\n",
       "      <td>2</td>\n",
       "      <td>0</td>\n",
       "      <td>2</td>\n",
       "      <td>573</td>\n",
       "      <td>3</td>\n",
       "      <td>576</td>\n",
       "    </tr>\n",
       "    <tr>\n",
       "      <th>...</th>\n",
       "      <td>...</td>\n",
       "      <td>...</td>\n",
       "      <td>...</td>\n",
       "      <td>...</td>\n",
       "      <td>...</td>\n",
       "      <td>...</td>\n",
       "      <td>...</td>\n",
       "      <td>...</td>\n",
       "      <td>...</td>\n",
       "      <td>...</td>\n",
       "      <td>...</td>\n",
       "      <td>...</td>\n",
       "      <td>...</td>\n",
       "      <td>...</td>\n",
       "      <td>...</td>\n",
       "      <td>...</td>\n",
       "      <td>...</td>\n",
       "      <td>...</td>\n",
       "    </tr>\n",
       "    <tr>\n",
       "      <th>2870</th>\n",
       "      <td>PONDICHERRY</td>\n",
       "      <td>2012</td>\n",
       "      <td>Educational Standard - Below Class X</td>\n",
       "      <td>42</td>\n",
       "      <td>1</td>\n",
       "      <td>43</td>\n",
       "      <td>74</td>\n",
       "      <td>0</td>\n",
       "      <td>74</td>\n",
       "      <td>0</td>\n",
       "      <td>0</td>\n",
       "      <td>0</td>\n",
       "      <td>0</td>\n",
       "      <td>0</td>\n",
       "      <td>0</td>\n",
       "      <td>116</td>\n",
       "      <td>1</td>\n",
       "      <td>117</td>\n",
       "    </tr>\n",
       "    <tr>\n",
       "      <th>2871</th>\n",
       "      <td>PONDICHERRY</td>\n",
       "      <td>2012</td>\n",
       "      <td>Educational Standard - Class X and above but b...</td>\n",
       "      <td>14</td>\n",
       "      <td>0</td>\n",
       "      <td>14</td>\n",
       "      <td>48</td>\n",
       "      <td>0</td>\n",
       "      <td>48</td>\n",
       "      <td>0</td>\n",
       "      <td>0</td>\n",
       "      <td>0</td>\n",
       "      <td>0</td>\n",
       "      <td>0</td>\n",
       "      <td>0</td>\n",
       "      <td>62</td>\n",
       "      <td>0</td>\n",
       "      <td>62</td>\n",
       "    </tr>\n",
       "    <tr>\n",
       "      <th>2872</th>\n",
       "      <td>PONDICHERRY</td>\n",
       "      <td>2012</td>\n",
       "      <td>Educational Standard - Graduate</td>\n",
       "      <td>8</td>\n",
       "      <td>0</td>\n",
       "      <td>8</td>\n",
       "      <td>8</td>\n",
       "      <td>0</td>\n",
       "      <td>8</td>\n",
       "      <td>0</td>\n",
       "      <td>0</td>\n",
       "      <td>0</td>\n",
       "      <td>0</td>\n",
       "      <td>0</td>\n",
       "      <td>0</td>\n",
       "      <td>16</td>\n",
       "      <td>0</td>\n",
       "      <td>16</td>\n",
       "    </tr>\n",
       "    <tr>\n",
       "      <th>2873</th>\n",
       "      <td>PONDICHERRY</td>\n",
       "      <td>2012</td>\n",
       "      <td>Educational Standard - Post-Graduate</td>\n",
       "      <td>0</td>\n",
       "      <td>0</td>\n",
       "      <td>0</td>\n",
       "      <td>1</td>\n",
       "      <td>0</td>\n",
       "      <td>1</td>\n",
       "      <td>0</td>\n",
       "      <td>0</td>\n",
       "      <td>0</td>\n",
       "      <td>0</td>\n",
       "      <td>0</td>\n",
       "      <td>0</td>\n",
       "      <td>1</td>\n",
       "      <td>0</td>\n",
       "      <td>1</td>\n",
       "    </tr>\n",
       "    <tr>\n",
       "      <th>2874</th>\n",
       "      <td>PONDICHERRY</td>\n",
       "      <td>2012</td>\n",
       "      <td>Educational Standard - Holding technical degre...</td>\n",
       "      <td>1</td>\n",
       "      <td>0</td>\n",
       "      <td>1</td>\n",
       "      <td>0</td>\n",
       "      <td>0</td>\n",
       "      <td>0</td>\n",
       "      <td>0</td>\n",
       "      <td>0</td>\n",
       "      <td>0</td>\n",
       "      <td>0</td>\n",
       "      <td>0</td>\n",
       "      <td>0</td>\n",
       "      <td>1</td>\n",
       "      <td>0</td>\n",
       "      <td>1</td>\n",
       "    </tr>\n",
       "  </tbody>\n",
       "</table>\n",
       "<p>2875 rows × 18 columns</p>\n",
       "</div>"
      ],
      "text/plain": [
       "            STATE/UT  YEAR                            DEMOGRAPHIC PARTICULARS  \\\n",
       "0     ANDHRA PRADESH  2001                               Educational Standard   \n",
       "1     ANDHRA PRADESH  2001                  Educational Standard - Illiterate   \n",
       "2     ANDHRA PRADESH  2001               Educational Standard - Below Class X   \n",
       "3     ANDHRA PRADESH  2001  Educational Standard - Class X and above but b...   \n",
       "4     ANDHRA PRADESH  2001                    Educational Standard - Graduate   \n",
       "...              ...   ...                                                ...   \n",
       "2870     PONDICHERRY  2012               Educational Standard - Below Class X   \n",
       "2871     PONDICHERRY  2012  Educational Standard - Class X and above but b...   \n",
       "2872     PONDICHERRY  2012                    Educational Standard - Graduate   \n",
       "2873     PONDICHERRY  2012               Educational Standard - Post-Graduate   \n",
       "2874     PONDICHERRY  2012  Educational Standard - Holding technical degre...   \n",
       "\n",
       "      Male Convicts  Female Convicts  Total Convicts  Male Under trial  \\\n",
       "0              4119              102            4221              8360   \n",
       "1              1441               82            1523              3794   \n",
       "2              1729               20            1749              2833   \n",
       "3               532                0             532              1260   \n",
       "4               299                0             299               272   \n",
       "...             ...              ...             ...               ...   \n",
       "2870             42                1              43                74   \n",
       "2871             14                0              14                48   \n",
       "2872              8                0               8                 8   \n",
       "2873              0                0               0                 1   \n",
       "2874              1                0               1                 0   \n",
       "\n",
       "      Female Under trial  Total Under trial  Male Detenues  Female Detenues  \\\n",
       "0                    482               8842              4                1   \n",
       "1                    361               4155              1                1   \n",
       "2                     89               2922              0                0   \n",
       "3                     26               1286              2                0   \n",
       "4                      3                275              0                0   \n",
       "...                  ...                ...            ...              ...   \n",
       "2870                   0                 74              0                0   \n",
       "2871                   0                 48              0                0   \n",
       "2872                   0                  8              0                0   \n",
       "2873                   0                  1              0                0   \n",
       "2874                   0                  0              0                0   \n",
       "\n",
       "      Total Detenues  Male Others  Female Others  Total Others  Total Male  \\\n",
       "0                  5           22              0            22       12505   \n",
       "1                  2            8              0             8        5244   \n",
       "2                  0           10              0            10        4572   \n",
       "3                  2            2              0             2        1796   \n",
       "4                  0            2              0             2         573   \n",
       "...              ...          ...            ...           ...         ...   \n",
       "2870               0            0              0             0         116   \n",
       "2871               0            0              0             0          62   \n",
       "2872               0            0              0             0          16   \n",
       "2873               0            0              0             0           1   \n",
       "2874               0            0              0             0           1   \n",
       "\n",
       "      Total Female  Grand Total  \n",
       "0              585        13090  \n",
       "1              444         5688  \n",
       "2              109         4681  \n",
       "3               26         1822  \n",
       "4                3          576  \n",
       "...            ...          ...  \n",
       "2870             1          117  \n",
       "2871             0           62  \n",
       "2872             0           16  \n",
       "2873             0            1  \n",
       "2874             0            1  \n",
       "\n",
       "[2875 rows x 18 columns]"
      ]
     },
     "execution_count": 14,
     "metadata": {},
     "output_type": "execute_result"
    }
   ],
   "source": [
    "education_dataset"
   ]
  },
  {
   "cell_type": "code",
   "execution_count": null,
   "metadata": {},
   "outputs": [],
   "source": []
  }
 ],
 "metadata": {
  "kernelspec": {
   "display_name": "Python 3",
   "language": "python",
   "name": "python3"
  },
  "language_info": {
   "codemirror_mode": {
    "name": "ipython",
    "version": 3
   },
   "file_extension": ".py",
   "mimetype": "text/x-python",
   "name": "python",
   "nbconvert_exporter": "python",
   "pygments_lexer": "ipython3",
   "version": "3.8.8"
  },
  "vscode": {
   "interpreter": {
    "hash": "56adf854240f71f5e5fdfda40a9d797482ce18808728caf1a50bd4b9f7796afe"
   }
  }
 },
 "nbformat": 4,
 "nbformat_minor": 2
}
